{
 "cells": [
  {
   "cell_type": "markdown",
   "metadata": {},
   "source": []
  },
  {
   "cell_type": "code",
   "execution_count": 8,
   "metadata": {},
   "outputs": [],
   "source": [
    "%matplotlib inline\n",
    "%config InlineBackend.figure_formats = [\"svg\"]"
   ]
  },
  {
   "cell_type": "code",
   "execution_count": 9,
   "metadata": {},
   "outputs": [],
   "source": [
    "import cantera as ct\n",
    "import numpy as np\n",
    "import matplotlib.pyplot as plt\n",
    "import pandas as pd"
   ]
  },
  {
   "cell_type": "code",
   "execution_count": 10,
   "metadata": {},
   "outputs": [
    {
     "data": {
      "text/plain": [
       "99.45"
      ]
     },
     "execution_count": 10,
     "metadata": {},
     "output_type": "execute_result"
    }
   ],
   "source": [
    "T = 15.0 + 273.15\n",
    "P = ct.one_atm\n",
    "\n",
    "X_fuel = {\n",
    "    \"CH4\": 92.19,\n",
    "    \"C2H6\": 4.27,\n",
    "    \"C3H8\": 0.64,\n",
    "    \"N2\": 1.40,\n",
    "    \"CO2\": 0.95\n",
    "}\n",
    "\n",
    "X_oxid = {\n",
    "    \"O2\": 1.0\n",
    "}\n",
    "\n",
    "sum(X_fuel.values())"
   ]
  },
  {
   "cell_type": "code",
   "execution_count": 11,
   "metadata": {},
   "outputs": [
    {
     "data": {
      "text/plain": [
       "{'C2H6': 0.014140243397632252,\n",
       " 'C3H8': 0.0021193807434390266,\n",
       " 'CH4': 0.3052901730275685,\n",
       " 'CO2': 0.003145955791042305,\n",
       " 'N2': 0.004636145376272869,\n",
       " 'O2': 0.670668101664045}"
      ]
     },
     "execution_count": 11,
     "metadata": {},
     "output_type": "execute_result"
    }
   ],
   "source": [
    "gas = ct.Solution(\"gri30.yaml\")\n",
    "\n",
    "gas.TP = T, P\n",
    "gas.set_equivalence_ratio(1, X_fuel, X_oxid, basis=\"mole\")\n",
    "gas.mole_fraction_dict()"
   ]
  },
  {
   "cell_type": "code",
   "execution_count": 12,
   "metadata": {},
   "outputs": [
    {
     "name": "stdout",
     "output_type": "stream",
     "text": [
      "\n",
      "  gri30:\n",
      "\n",
      "       temperature   288.15 K\n",
      "          pressure   1.0132e+05 Pa\n",
      "           density   1.148 kg/m^3\n",
      "  mean mol. weight   27.145 kg/kmol\n",
      "   phase of matter   gas\n",
      "\n",
      "                          1 kg             1 kmol     \n",
      "                     ---------------   ---------------\n",
      "          enthalpy       -9.4806e+05       -2.5735e+07  J\n",
      "   internal energy       -1.0363e+06       -2.8131e+07  J\n",
      "           entropy            7551.5        2.0498e+05  J/K\n",
      "    Gibbs function        -3.124e+06       -8.4801e+07  J\n",
      " heat capacity c_p            1163.5             31582  J/K\n",
      " heat capacity c_v            857.17             23268  J/K\n",
      "\n",
      "                      mass frac. Y      mole frac. X     chem. pot. / RT\n",
      "                     ---------------   ---------------   ---------------\n",
      "                O2           0.79058           0.67067           -25.075\n",
      "               CH4           0.18043           0.30529           -54.742\n",
      "               CO2         0.0051004          0.003146           -195.72\n",
      "              C2H6          0.015664           0.01414            -66.83\n",
      "                N2         0.0047846         0.0046361           -28.409\n",
      "              C3H8          0.003443         0.0021194           -82.005\n",
      "     [  +47 minor]                 0                 0  \n",
      "\n"
     ]
    }
   ],
   "source": [
    "print(gas.report())"
   ]
  },
  {
   "cell_type": "code",
   "execution_count": 13,
   "metadata": {},
   "outputs": [
    {
     "name": "stdout",
     "output_type": "stream",
     "text": [
      "44.884976945063734 28.77610183341895\n"
     ]
    }
   ],
   "source": [
    "y_fuel = gas[\"CH4\"].Y[0]\n",
    "\n",
    "u0 = gas.int_energy_mass\n",
    "h0 = gas.enthalpy_mass\n",
    "\n",
    "gas.equilibrate(\"HP\")\n",
    "\n",
    "u1 = gas.int_energy_mole\n",
    "\n",
    "gas.TP = T, P\n",
    "\n",
    "h1 = gas.enthalpy_mass\n",
    "\n",
    "du = -(u1 - u0) / 1e6\n",
    "lhv = -(h1 - h0) / (y_fuel * 1e6)\n",
    "\n",
    "print(du, lhv)"
   ]
  },
  {
   "cell_type": "code",
   "execution_count": 14,
   "metadata": {},
   "outputs": [
    {
     "name": "stdout",
     "output_type": "stream",
     "text": [
      "LHV = 50.025 MJ/kg\n"
     ]
    }
   ],
   "source": [
    "# Set reactants state\n",
    "gas.TPX = 298, 101325, \"CH4:1, O2:2\"\n",
    "h1 = gas.enthalpy_mass\n",
    "Y_CH4 = gas[\"CH4\"].Y[0]  # returns an array, of which we only want the first element\n",
    "\n",
    "# set state to complete combustion products without changing T or P\n",
    "gas.TPX = None, None, \"CO2:1, H2O:2\"\n",
    "h2 = gas.enthalpy_mass\n",
    "\n",
    "LHV = -(h2 - h1) / Y_CH4 / 1e6\n",
    "print(f\"LHV = {LHV:.3f} MJ/kg\")"
   ]
  },
  {
   "cell_type": "code",
   "execution_count": null,
   "metadata": {},
   "outputs": [],
   "source": []
  },
  {
   "cell_type": "code",
   "execution_count": null,
   "metadata": {},
   "outputs": [],
   "source": []
  }
 ],
 "metadata": {
  "kernelspec": {
   "display_name": "base",
   "language": "python",
   "name": "python3"
  },
  "language_info": {
   "codemirror_mode": {
    "name": "ipython",
    "version": 3
   },
   "file_extension": ".py",
   "mimetype": "text/x-python",
   "name": "python",
   "nbconvert_exporter": "python",
   "pygments_lexer": "ipython3",
   "version": "3.9.13"
  },
  "orig_nbformat": 4,
  "vscode": {
   "interpreter": {
    "hash": "d8b012b748d140874425e8a476a725c883163052f79ea5d1733c437209a17b23"
   }
  }
 },
 "nbformat": 4,
 "nbformat_minor": 2
}
