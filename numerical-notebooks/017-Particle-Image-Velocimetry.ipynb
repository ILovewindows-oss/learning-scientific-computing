{
 "cells": [
  {
   "attachments": {},
   "cell_type": "markdown",
   "metadata": {},
   "source": [
    "# Particle Image Velocimetry"
   ]
  },
  {
   "attachments": {},
   "cell_type": "markdown",
   "metadata": {},
   "source": [
    "In this notebook we summarize the use of `majordome.piv` wrapper around [OpenPIV](https://github.com/OpenPIV/openpiv-python).\n",
    "\n",
    "We start by importing all required tools for management and workflow."
   ]
  },
  {
   "cell_type": "code",
   "execution_count": 1,
   "metadata": {},
   "outputs": [],
   "source": [
    "%load_ext autoreload\n",
    "%autoreload 2\n",
    "%matplotlib inline\n",
    "%config InlineBackend.figure_formats = [\"svg\"]"
   ]
  },
  {
   "cell_type": "code",
   "execution_count": 2,
   "metadata": {},
   "outputs": [],
   "source": [
    "from pathlib import Path\n",
    "from majordome.piv import PivConfig\n",
    "from majordome.piv import piv_workflow\n",
    "from majordome.piv import plot_mean_speed"
   ]
  },
  {
   "attachments": {},
   "cell_type": "markdown",
   "metadata": {},
   "source": [
    "In the next cell we provide (with units/comments) all the required configuration parameters."
   ]
  },
  {
   "cell_type": "code",
   "execution_count": 3,
   "metadata": {},
   "outputs": [],
   "source": [
    "# Frames per second [1/s].\n",
    "fps = 900\n",
    "\n",
    "# Image scaling factor [mm/pixel].\n",
    "scaling_factor = 1\n",
    "\n",
    "# Interrogation window size in first frame [pixel].\n",
    "window_size = 32\n",
    "\n",
    "# Overlapping between two adjacent windows [pixel].\n",
    "overlap = window_size // 2\n",
    "\n",
    "# Size of interrogation window in second frame [pixel].\n",
    "search_area_size = window_size + overlap\n",
    "\n",
    "# Number of images to skip at each step.\n",
    "every = 1\n",
    "\n",
    "# Directory containing image sequence.\n",
    "input_dir = Path(\"media/017-Particle-Image-Velocimetry/\")"
   ]
  },
  {
   "attachments": {},
   "cell_type": "markdown",
   "metadata": {},
   "source": [
    "The wrapper does not manage path, so it is up to the user to provide a valid output directory.\n",
    "\n",
    "It is recommended to do this outside of the working directory to avoid a *dump mess*."
   ]
  },
  {
   "cell_type": "code",
   "execution_count": 4,
   "metadata": {},
   "outputs": [],
   "source": [
    "# Interpolate name of output directory.\n",
    "outname = f\"{every:d}-overlap-{overlap:d}-ws-{window_size:d}\"\n",
    "\n",
    "# Name and ensure existence of output directory.\n",
    "output_dir = Path(f\"dumps/{outname}\")\n",
    "output_dir.mkdir(exist_ok=True, parents=True)"
   ]
  },
  {
   "attachments": {},
   "cell_type": "markdown",
   "metadata": {},
   "source": [
    "Finally a configuration is prepared and the workflow is run.\n",
    "\n",
    "In the end the user can retrieve a data frame with individual image statistics."
   ]
  },
  {
   "cell_type": "code",
   "execution_count": 5,
   "metadata": {},
   "outputs": [
    {
     "name": "stdout",
     "output_type": "stream",
     "text": [
      "|████████████████████████████████████████| 100% [run 1.04e+02s | eta 2.60e-06s]\n",
      "Took 104.04082329999983s\n"
     ]
    }
   ],
   "source": [
    "# Create generator for list of images to treat.\n",
    "images = sorted(input_dir.glob(\"*.tif\"))\n",
    "\n",
    "# Create configuration for workflow.\n",
    "conf = PivConfig(\n",
    "    time_step=every * (1.0 / fps),\n",
    "    scaling_factor=scaling_factor,\n",
    "    window_size=window_size,\n",
    "    search_area_size=search_area_size,\n",
    "    overlap=overlap\n",
    ")\n",
    "\n",
    "# Run images treatment workflow.\n",
    "df = piv_workflow(conf, images, output_dir, every=every)"
   ]
  },
  {
   "attachments": {},
   "cell_type": "markdown",
   "metadata": {},
   "source": [
    "Results can be used to display projected speed in time, *e.g.* for validation of a CFD simulation."
   ]
  },
  {
   "cell_type": "code",
   "execution_count": 6,
   "metadata": {},
   "outputs": [
    {
     "data": {
      "image/svg+xml": "<?xml version=\"1.0\" encoding=\"utf-8\" standalone=\"no\"?>\n<!DOCTYPE svg PUBLIC \"-//W3C//DTD SVG 1.1//EN\"\n  \"http://www.w3.org/Graphics/SVG/1.1/DTD/svg11.dtd\">\n<svg xmlns:xlink=\"http://www.w3.org/1999/xlink\" width=\"425.26875pt\" height=\"353.090625pt\" viewBox=\"0 0 425.26875 353.090625\" xmlns=\"http://www.w3.org/2000/svg\" version=\"1.1\">\n <metadata>\n  <rdf:RDF xmlns:dc=\"http://purl.org/dc/elements/1.1/\" xmlns:cc=\"http://creativecommons.org/ns#\" xmlns:rdf=\"http://www.w3.org/1999/02/22-rdf-syntax-ns#\">\n   <cc:Work>\n    <dc:type rdf:resource=\"http://purl.org/dc/dcmitype/StillImage\"/>\n    <dc:date>2023-01-13T10:44:28.319413</dc:date>\n    <dc:format>image/svg+xml</dc:format>\n    <dc:creator>\n     <cc:Agent>\n      <dc:title>Matplotlib v3.5.2, https://matplotlib.org/</dc:title>\n     </cc:Agent>\n    </dc:creator>\n   </cc:Work>\n  </rdf:RDF>\n </metadata>\n <defs>\n  <style type=\"text/css\">*{stroke-linejoin: round; stroke-linecap: butt}</style>\n </defs>\n <g id=\"figure_1\">\n  <g id=\"patch_1\">\n   <path d=\"M 0 353.090625 \nL 425.26875 353.090625 \nL 425.26875 0 \nL 0 0 \nz\n\" style=\"fill: #ffffff\"/>\n  </g>\n  <g id=\"axes_1\">\n   <g id=\"patch_2\">\n    <path d=\"M 52.16875 320.1 \nL 418.06875 320.1 \nL 418.06875 7.2 \nL 52.16875 7.2 \nz\n\" style=\"fill: #ffffff\"/>\n   </g>\n   <g id=\"matplotlib.axis_1\">\n    <g id=\"xtick_1\">\n     <g id=\"line2d_1\">\n      <path d=\"M 68.800568 320.1 \nL 68.800568 7.2 \n\" clip-path=\"url(#p56124f467e)\" style=\"fill: none; stroke-dasharray: 0.8,1.32; stroke-dashoffset: 0; stroke: #cccccc; stroke-width: 0.8\"/>\n     </g>\n     <g id=\"line2d_2\"/>\n     <g id=\"text_1\">\n      <!-- 0 -->\n      <g style=\"fill: #262626\" transform=\"translate(66.020099 330.757812)scale(0.1 -0.1)\">\n       <defs>\n        <path id=\"ArialMT-30\" d=\"M 266 2259 \nQ 266 3072 433 3567 \nQ 600 4063 929 4331 \nQ 1259 4600 1759 4600 \nQ 2128 4600 2406 4451 \nQ 2684 4303 2865 4023 \nQ 3047 3744 3150 3342 \nQ 3253 2941 3253 2259 \nQ 3253 1453 3087 958 \nQ 2922 463 2592 192 \nQ 2263 -78 1759 -78 \nQ 1097 -78 719 397 \nQ 266 969 266 2259 \nz\nM 844 2259 \nQ 844 1131 1108 757 \nQ 1372 384 1759 384 \nQ 2147 384 2411 759 \nQ 2675 1134 2675 2259 \nQ 2675 3391 2411 3762 \nQ 2147 4134 1753 4134 \nQ 1366 4134 1134 3806 \nQ 844 3388 844 2259 \nz\n\" transform=\"scale(0.015625)\"/>\n       </defs>\n       <use xlink:href=\"#ArialMT-30\"/>\n      </g>\n     </g>\n    </g>\n    <g id=\"xtick_2\">\n     <g id=\"line2d_3\">\n      <path d=\"M 145.562806 320.1 \nL 145.562806 7.2 \n\" clip-path=\"url(#p56124f467e)\" style=\"fill: none; stroke-dasharray: 0.8,1.32; stroke-dashoffset: 0; stroke: #cccccc; stroke-width: 0.8\"/>\n     </g>\n     <g id=\"line2d_4\"/>\n     <g id=\"text_2\">\n      <!-- 10 -->\n      <g style=\"fill: #262626\" transform=\"translate(140.001868 330.757812)scale(0.1 -0.1)\">\n       <defs>\n        <path id=\"ArialMT-31\" d=\"M 2384 0 \nL 1822 0 \nL 1822 3584 \nQ 1619 3391 1289 3197 \nQ 959 3003 697 2906 \nL 697 3450 \nQ 1169 3672 1522 3987 \nQ 1875 4303 2022 4600 \nL 2384 4600 \nL 2384 0 \nz\n\" transform=\"scale(0.015625)\"/>\n       </defs>\n       <use xlink:href=\"#ArialMT-31\"/>\n       <use xlink:href=\"#ArialMT-30\" x=\"55.615234\"/>\n      </g>\n     </g>\n    </g>\n    <g id=\"xtick_3\">\n     <g id=\"line2d_5\">\n      <path d=\"M 222.325044 320.1 \nL 222.325044 7.2 \n\" clip-path=\"url(#p56124f467e)\" style=\"fill: none; stroke-dasharray: 0.8,1.32; stroke-dashoffset: 0; stroke: #cccccc; stroke-width: 0.8\"/>\n     </g>\n     <g id=\"line2d_6\"/>\n     <g id=\"text_3\">\n      <!-- 20 -->\n      <g style=\"fill: #262626\" transform=\"translate(216.764106 330.757812)scale(0.1 -0.1)\">\n       <defs>\n        <path id=\"ArialMT-32\" d=\"M 3222 541 \nL 3222 0 \nL 194 0 \nQ 188 203 259 391 \nQ 375 700 629 1000 \nQ 884 1300 1366 1694 \nQ 2113 2306 2375 2664 \nQ 2638 3022 2638 3341 \nQ 2638 3675 2398 3904 \nQ 2159 4134 1775 4134 \nQ 1369 4134 1125 3890 \nQ 881 3647 878 3216 \nL 300 3275 \nQ 359 3922 746 4261 \nQ 1134 4600 1788 4600 \nQ 2447 4600 2831 4234 \nQ 3216 3869 3216 3328 \nQ 3216 3053 3103 2787 \nQ 2991 2522 2730 2228 \nQ 2469 1934 1863 1422 \nQ 1356 997 1212 845 \nQ 1069 694 975 541 \nL 3222 541 \nz\n\" transform=\"scale(0.015625)\"/>\n       </defs>\n       <use xlink:href=\"#ArialMT-32\"/>\n       <use xlink:href=\"#ArialMT-30\" x=\"55.615234\"/>\n      </g>\n     </g>\n    </g>\n    <g id=\"xtick_4\">\n     <g id=\"line2d_7\">\n      <path d=\"M 299.087281 320.1 \nL 299.087281 7.2 \n\" clip-path=\"url(#p56124f467e)\" style=\"fill: none; stroke-dasharray: 0.8,1.32; stroke-dashoffset: 0; stroke: #cccccc; stroke-width: 0.8\"/>\n     </g>\n     <g id=\"line2d_8\"/>\n     <g id=\"text_4\">\n      <!-- 30 -->\n      <g style=\"fill: #262626\" transform=\"translate(293.526344 330.757812)scale(0.1 -0.1)\">\n       <defs>\n        <path id=\"ArialMT-33\" d=\"M 269 1209 \nL 831 1284 \nQ 928 806 1161 595 \nQ 1394 384 1728 384 \nQ 2125 384 2398 659 \nQ 2672 934 2672 1341 \nQ 2672 1728 2419 1979 \nQ 2166 2231 1775 2231 \nQ 1616 2231 1378 2169 \nL 1441 2663 \nQ 1497 2656 1531 2656 \nQ 1891 2656 2178 2843 \nQ 2466 3031 2466 3422 \nQ 2466 3731 2256 3934 \nQ 2047 4138 1716 4138 \nQ 1388 4138 1169 3931 \nQ 950 3725 888 3313 \nL 325 3413 \nQ 428 3978 793 4289 \nQ 1159 4600 1703 4600 \nQ 2078 4600 2393 4439 \nQ 2709 4278 2876 4000 \nQ 3044 3722 3044 3409 \nQ 3044 3113 2884 2869 \nQ 2725 2625 2413 2481 \nQ 2819 2388 3044 2092 \nQ 3269 1797 3269 1353 \nQ 3269 753 2831 336 \nQ 2394 -81 1725 -81 \nQ 1122 -81 723 278 \nQ 325 638 269 1209 \nz\n\" transform=\"scale(0.015625)\"/>\n       </defs>\n       <use xlink:href=\"#ArialMT-33\"/>\n       <use xlink:href=\"#ArialMT-30\" x=\"55.615234\"/>\n      </g>\n     </g>\n    </g>\n    <g id=\"xtick_5\">\n     <g id=\"line2d_9\">\n      <path d=\"M 375.849519 320.1 \nL 375.849519 7.2 \n\" clip-path=\"url(#p56124f467e)\" style=\"fill: none; stroke-dasharray: 0.8,1.32; stroke-dashoffset: 0; stroke: #cccccc; stroke-width: 0.8\"/>\n     </g>\n     <g id=\"line2d_10\"/>\n     <g id=\"text_5\">\n      <!-- 40 -->\n      <g style=\"fill: #262626\" transform=\"translate(370.288582 330.757812)scale(0.1 -0.1)\">\n       <defs>\n        <path id=\"ArialMT-34\" d=\"M 2069 0 \nL 2069 1097 \nL 81 1097 \nL 81 1613 \nL 2172 4581 \nL 2631 4581 \nL 2631 1613 \nL 3250 1613 \nL 3250 1097 \nL 2631 1097 \nL 2631 0 \nL 2069 0 \nz\nM 2069 1613 \nL 2069 3678 \nL 634 1613 \nL 2069 1613 \nz\n\" transform=\"scale(0.015625)\"/>\n       </defs>\n       <use xlink:href=\"#ArialMT-34\"/>\n       <use xlink:href=\"#ArialMT-30\" x=\"55.615234\"/>\n      </g>\n     </g>\n    </g>\n    <g id=\"text_6\">\n     <!-- Time [ms] -->\n     <g style=\"fill: #262626\" transform=\"translate(213.364062 343.903125)scale(0.1 -0.1)\">\n      <defs>\n       <path id=\"ArialMT-54\" d=\"M 1659 0 \nL 1659 4041 \nL 150 4041 \nL 150 4581 \nL 3781 4581 \nL 3781 4041 \nL 2266 4041 \nL 2266 0 \nL 1659 0 \nz\n\" transform=\"scale(0.015625)\"/>\n       <path id=\"ArialMT-69\" d=\"M 425 3934 \nL 425 4581 \nL 988 4581 \nL 988 3934 \nL 425 3934 \nz\nM 425 0 \nL 425 3319 \nL 988 3319 \nL 988 0 \nL 425 0 \nz\n\" transform=\"scale(0.015625)\"/>\n       <path id=\"ArialMT-6d\" d=\"M 422 0 \nL 422 3319 \nL 925 3319 \nL 925 2853 \nQ 1081 3097 1340 3245 \nQ 1600 3394 1931 3394 \nQ 2300 3394 2536 3241 \nQ 2772 3088 2869 2813 \nQ 3263 3394 3894 3394 \nQ 4388 3394 4653 3120 \nQ 4919 2847 4919 2278 \nL 4919 0 \nL 4359 0 \nL 4359 2091 \nQ 4359 2428 4304 2576 \nQ 4250 2725 4106 2815 \nQ 3963 2906 3769 2906 \nQ 3419 2906 3187 2673 \nQ 2956 2441 2956 1928 \nL 2956 0 \nL 2394 0 \nL 2394 2156 \nQ 2394 2531 2256 2718 \nQ 2119 2906 1806 2906 \nQ 1569 2906 1367 2781 \nQ 1166 2656 1075 2415 \nQ 984 2175 984 1722 \nL 984 0 \nL 422 0 \nz\n\" transform=\"scale(0.015625)\"/>\n       <path id=\"ArialMT-65\" d=\"M 2694 1069 \nL 3275 997 \nQ 3138 488 2766 206 \nQ 2394 -75 1816 -75 \nQ 1088 -75 661 373 \nQ 234 822 234 1631 \nQ 234 2469 665 2931 \nQ 1097 3394 1784 3394 \nQ 2450 3394 2872 2941 \nQ 3294 2488 3294 1666 \nQ 3294 1616 3291 1516 \nL 816 1516 \nQ 847 969 1125 678 \nQ 1403 388 1819 388 \nQ 2128 388 2347 550 \nQ 2566 713 2694 1069 \nz\nM 847 1978 \nL 2700 1978 \nQ 2663 2397 2488 2606 \nQ 2219 2931 1791 2931 \nQ 1403 2931 1139 2672 \nQ 875 2413 847 1978 \nz\n\" transform=\"scale(0.015625)\"/>\n       <path id=\"ArialMT-20\" transform=\"scale(0.015625)\"/>\n       <path id=\"ArialMT-5b\" d=\"M 434 -1272 \nL 434 4581 \nL 1675 4581 \nL 1675 4116 \nL 997 4116 \nL 997 -806 \nL 1675 -806 \nL 1675 -1272 \nL 434 -1272 \nz\n\" transform=\"scale(0.015625)\"/>\n       <path id=\"ArialMT-73\" d=\"M 197 991 \nL 753 1078 \nQ 800 744 1014 566 \nQ 1228 388 1613 388 \nQ 2000 388 2187 545 \nQ 2375 703 2375 916 \nQ 2375 1106 2209 1216 \nQ 2094 1291 1634 1406 \nQ 1016 1563 777 1677 \nQ 538 1791 414 1992 \nQ 291 2194 291 2438 \nQ 291 2659 392 2848 \nQ 494 3038 669 3163 \nQ 800 3259 1026 3326 \nQ 1253 3394 1513 3394 \nQ 1903 3394 2198 3281 \nQ 2494 3169 2634 2976 \nQ 2775 2784 2828 2463 \nL 2278 2388 \nQ 2241 2644 2061 2787 \nQ 1881 2931 1553 2931 \nQ 1166 2931 1000 2803 \nQ 834 2675 834 2503 \nQ 834 2394 903 2306 \nQ 972 2216 1119 2156 \nQ 1203 2125 1616 2013 \nQ 2213 1853 2448 1751 \nQ 2684 1650 2818 1456 \nQ 2953 1263 2953 975 \nQ 2953 694 2789 445 \nQ 2625 197 2315 61 \nQ 2006 -75 1616 -75 \nQ 969 -75 630 194 \nQ 291 463 197 991 \nz\n\" transform=\"scale(0.015625)\"/>\n       <path id=\"ArialMT-5d\" d=\"M 1363 -1272 \nL 122 -1272 \nL 122 -806 \nL 800 -806 \nL 800 4116 \nL 122 4116 \nL 122 4581 \nL 1363 4581 \nL 1363 -1272 \nz\n\" transform=\"scale(0.015625)\"/>\n      </defs>\n      <use xlink:href=\"#ArialMT-54\"/>\n      <use xlink:href=\"#ArialMT-69\" x=\"57.333984\"/>\n      <use xlink:href=\"#ArialMT-6d\" x=\"79.550781\"/>\n      <use xlink:href=\"#ArialMT-65\" x=\"162.851562\"/>\n      <use xlink:href=\"#ArialMT-20\" x=\"218.466797\"/>\n      <use xlink:href=\"#ArialMT-5b\" x=\"246.25\"/>\n      <use xlink:href=\"#ArialMT-6d\" x=\"274.033203\"/>\n      <use xlink:href=\"#ArialMT-73\" x=\"357.333984\"/>\n      <use xlink:href=\"#ArialMT-5d\" x=\"407.333984\"/>\n     </g>\n    </g>\n   </g>\n   <g id=\"matplotlib.axis_2\">\n    <g id=\"ytick_1\">\n     <g id=\"line2d_11\">\n      <path d=\"M 52.16875 307.659364 \nL 418.06875 307.659364 \n\" clip-path=\"url(#p56124f467e)\" style=\"fill: none; stroke-dasharray: 0.8,1.32; stroke-dashoffset: 0; stroke: #cccccc; stroke-width: 0.8\"/>\n     </g>\n     <g id=\"line2d_12\"/>\n     <g id=\"text_7\">\n      <!-- −2000 -->\n      <g style=\"fill: #262626\" transform=\"translate(20.584375 311.238271)scale(0.1 -0.1)\">\n       <defs>\n        <path id=\"ArialMT-2212\" d=\"M 3381 1997 \nL 356 1997 \nL 356 2522 \nL 3381 2522 \nL 3381 1997 \nz\n\" transform=\"scale(0.015625)\"/>\n       </defs>\n       <use xlink:href=\"#ArialMT-2212\"/>\n       <use xlink:href=\"#ArialMT-32\" x=\"58.398438\"/>\n       <use xlink:href=\"#ArialMT-30\" x=\"114.013672\"/>\n       <use xlink:href=\"#ArialMT-30\" x=\"169.628906\"/>\n       <use xlink:href=\"#ArialMT-30\" x=\"225.244141\"/>\n      </g>\n     </g>\n    </g>\n    <g id=\"ytick_2\">\n     <g id=\"line2d_13\">\n      <path d=\"M 52.16875 267.869729 \nL 418.06875 267.869729 \n\" clip-path=\"url(#p56124f467e)\" style=\"fill: none; stroke-dasharray: 0.8,1.32; stroke-dashoffset: 0; stroke: #cccccc; stroke-width: 0.8\"/>\n     </g>\n     <g id=\"line2d_14\"/>\n     <g id=\"text_8\">\n      <!-- 0 -->\n      <g style=\"fill: #262626\" transform=\"translate(43.107813 271.448635)scale(0.1 -0.1)\">\n       <use xlink:href=\"#ArialMT-30\"/>\n      </g>\n     </g>\n    </g>\n    <g id=\"ytick_3\">\n     <g id=\"line2d_15\">\n      <path d=\"M 52.16875 228.080093 \nL 418.06875 228.080093 \n\" clip-path=\"url(#p56124f467e)\" style=\"fill: none; stroke-dasharray: 0.8,1.32; stroke-dashoffset: 0; stroke: #cccccc; stroke-width: 0.8\"/>\n     </g>\n     <g id=\"line2d_16\"/>\n     <g id=\"text_9\">\n      <!-- 2000 -->\n      <g style=\"fill: #262626\" transform=\"translate(26.425 231.658999)scale(0.1 -0.1)\">\n       <use xlink:href=\"#ArialMT-32\"/>\n       <use xlink:href=\"#ArialMT-30\" x=\"55.615234\"/>\n       <use xlink:href=\"#ArialMT-30\" x=\"111.230469\"/>\n       <use xlink:href=\"#ArialMT-30\" x=\"166.845703\"/>\n      </g>\n     </g>\n    </g>\n    <g id=\"ytick_4\">\n     <g id=\"line2d_17\">\n      <path d=\"M 52.16875 188.290457 \nL 418.06875 188.290457 \n\" clip-path=\"url(#p56124f467e)\" style=\"fill: none; stroke-dasharray: 0.8,1.32; stroke-dashoffset: 0; stroke: #cccccc; stroke-width: 0.8\"/>\n     </g>\n     <g id=\"line2d_18\"/>\n     <g id=\"text_10\">\n      <!-- 4000 -->\n      <g style=\"fill: #262626\" transform=\"translate(26.425 191.869363)scale(0.1 -0.1)\">\n       <use xlink:href=\"#ArialMT-34\"/>\n       <use xlink:href=\"#ArialMT-30\" x=\"55.615234\"/>\n       <use xlink:href=\"#ArialMT-30\" x=\"111.230469\"/>\n       <use xlink:href=\"#ArialMT-30\" x=\"166.845703\"/>\n      </g>\n     </g>\n    </g>\n    <g id=\"ytick_5\">\n     <g id=\"line2d_19\">\n      <path d=\"M 52.16875 148.500821 \nL 418.06875 148.500821 \n\" clip-path=\"url(#p56124f467e)\" style=\"fill: none; stroke-dasharray: 0.8,1.32; stroke-dashoffset: 0; stroke: #cccccc; stroke-width: 0.8\"/>\n     </g>\n     <g id=\"line2d_20\"/>\n     <g id=\"text_11\">\n      <!-- 6000 -->\n      <g style=\"fill: #262626\" transform=\"translate(26.425 152.079727)scale(0.1 -0.1)\">\n       <defs>\n        <path id=\"ArialMT-36\" d=\"M 3184 3459 \nL 2625 3416 \nQ 2550 3747 2413 3897 \nQ 2184 4138 1850 4138 \nQ 1581 4138 1378 3988 \nQ 1113 3794 959 3422 \nQ 806 3050 800 2363 \nQ 1003 2672 1297 2822 \nQ 1591 2972 1913 2972 \nQ 2475 2972 2870 2558 \nQ 3266 2144 3266 1488 \nQ 3266 1056 3080 686 \nQ 2894 316 2569 119 \nQ 2244 -78 1831 -78 \nQ 1128 -78 684 439 \nQ 241 956 241 2144 \nQ 241 3472 731 4075 \nQ 1159 4600 1884 4600 \nQ 2425 4600 2770 4297 \nQ 3116 3994 3184 3459 \nz\nM 888 1484 \nQ 888 1194 1011 928 \nQ 1134 663 1356 523 \nQ 1578 384 1822 384 \nQ 2178 384 2434 671 \nQ 2691 959 2691 1453 \nQ 2691 1928 2437 2201 \nQ 2184 2475 1800 2475 \nQ 1419 2475 1153 2201 \nQ 888 1928 888 1484 \nz\n\" transform=\"scale(0.015625)\"/>\n       </defs>\n       <use xlink:href=\"#ArialMT-36\"/>\n       <use xlink:href=\"#ArialMT-30\" x=\"55.615234\"/>\n       <use xlink:href=\"#ArialMT-30\" x=\"111.230469\"/>\n       <use xlink:href=\"#ArialMT-30\" x=\"166.845703\"/>\n      </g>\n     </g>\n    </g>\n    <g id=\"ytick_6\">\n     <g id=\"line2d_21\">\n      <path d=\"M 52.16875 108.711185 \nL 418.06875 108.711185 \n\" clip-path=\"url(#p56124f467e)\" style=\"fill: none; stroke-dasharray: 0.8,1.32; stroke-dashoffset: 0; stroke: #cccccc; stroke-width: 0.8\"/>\n     </g>\n     <g id=\"line2d_22\"/>\n     <g id=\"text_12\">\n      <!-- 8000 -->\n      <g style=\"fill: #262626\" transform=\"translate(26.425 112.290091)scale(0.1 -0.1)\">\n       <defs>\n        <path id=\"ArialMT-38\" d=\"M 1131 2484 \nQ 781 2613 612 2850 \nQ 444 3088 444 3419 \nQ 444 3919 803 4259 \nQ 1163 4600 1759 4600 \nQ 2359 4600 2725 4251 \nQ 3091 3903 3091 3403 \nQ 3091 3084 2923 2848 \nQ 2756 2613 2416 2484 \nQ 2838 2347 3058 2040 \nQ 3278 1734 3278 1309 \nQ 3278 722 2862 322 \nQ 2447 -78 1769 -78 \nQ 1091 -78 675 323 \nQ 259 725 259 1325 \nQ 259 1772 486 2073 \nQ 713 2375 1131 2484 \nz\nM 1019 3438 \nQ 1019 3113 1228 2906 \nQ 1438 2700 1772 2700 \nQ 2097 2700 2305 2904 \nQ 2513 3109 2513 3406 \nQ 2513 3716 2298 3927 \nQ 2084 4138 1766 4138 \nQ 1444 4138 1231 3931 \nQ 1019 3725 1019 3438 \nz\nM 838 1322 \nQ 838 1081 952 856 \nQ 1066 631 1291 507 \nQ 1516 384 1775 384 \nQ 2178 384 2440 643 \nQ 2703 903 2703 1303 \nQ 2703 1709 2433 1975 \nQ 2163 2241 1756 2241 \nQ 1359 2241 1098 1978 \nQ 838 1716 838 1322 \nz\n\" transform=\"scale(0.015625)\"/>\n       </defs>\n       <use xlink:href=\"#ArialMT-38\"/>\n       <use xlink:href=\"#ArialMT-30\" x=\"55.615234\"/>\n       <use xlink:href=\"#ArialMT-30\" x=\"111.230469\"/>\n       <use xlink:href=\"#ArialMT-30\" x=\"166.845703\"/>\n      </g>\n     </g>\n    </g>\n    <g id=\"ytick_7\">\n     <g id=\"line2d_23\">\n      <path d=\"M 52.16875 68.921549 \nL 418.06875 68.921549 \n\" clip-path=\"url(#p56124f467e)\" style=\"fill: none; stroke-dasharray: 0.8,1.32; stroke-dashoffset: 0; stroke: #cccccc; stroke-width: 0.8\"/>\n     </g>\n     <g id=\"line2d_24\"/>\n     <g id=\"text_13\">\n      <!-- 10000 -->\n      <g style=\"fill: #262626\" transform=\"translate(20.864063 72.500455)scale(0.1 -0.1)\">\n       <use xlink:href=\"#ArialMT-31\"/>\n       <use xlink:href=\"#ArialMT-30\" x=\"55.615234\"/>\n       <use xlink:href=\"#ArialMT-30\" x=\"111.230469\"/>\n       <use xlink:href=\"#ArialMT-30\" x=\"166.845703\"/>\n       <use xlink:href=\"#ArialMT-30\" x=\"222.460938\"/>\n      </g>\n     </g>\n    </g>\n    <g id=\"ytick_8\">\n     <g id=\"line2d_25\">\n      <path d=\"M 52.16875 29.131913 \nL 418.06875 29.131913 \n\" clip-path=\"url(#p56124f467e)\" style=\"fill: none; stroke-dasharray: 0.8,1.32; stroke-dashoffset: 0; stroke: #cccccc; stroke-width: 0.8\"/>\n     </g>\n     <g id=\"line2d_26\"/>\n     <g id=\"text_14\">\n      <!-- 12000 -->\n      <g style=\"fill: #262626\" transform=\"translate(20.864063 32.71082)scale(0.1 -0.1)\">\n       <use xlink:href=\"#ArialMT-31\"/>\n       <use xlink:href=\"#ArialMT-32\" x=\"55.615234\"/>\n       <use xlink:href=\"#ArialMT-30\" x=\"111.230469\"/>\n       <use xlink:href=\"#ArialMT-30\" x=\"166.845703\"/>\n       <use xlink:href=\"#ArialMT-30\" x=\"222.460938\"/>\n      </g>\n     </g>\n    </g>\n    <g id=\"text_15\">\n     <!-- Projected speed [mm/s] -->\n     <g style=\"fill: #262626\" transform=\"translate(14.479687 216.16875)rotate(-90)scale(0.1 -0.1)\">\n      <defs>\n       <path id=\"ArialMT-50\" d=\"M 494 0 \nL 494 4581 \nL 2222 4581 \nQ 2678 4581 2919 4538 \nQ 3256 4481 3484 4323 \nQ 3713 4166 3852 3881 \nQ 3991 3597 3991 3256 \nQ 3991 2672 3619 2267 \nQ 3247 1863 2275 1863 \nL 1100 1863 \nL 1100 0 \nL 494 0 \nz\nM 1100 2403 \nL 2284 2403 \nQ 2872 2403 3119 2622 \nQ 3366 2841 3366 3238 \nQ 3366 3525 3220 3729 \nQ 3075 3934 2838 4000 \nQ 2684 4041 2272 4041 \nL 1100 4041 \nL 1100 2403 \nz\n\" transform=\"scale(0.015625)\"/>\n       <path id=\"ArialMT-72\" d=\"M 416 0 \nL 416 3319 \nL 922 3319 \nL 922 2816 \nQ 1116 3169 1280 3281 \nQ 1444 3394 1641 3394 \nQ 1925 3394 2219 3213 \nL 2025 2691 \nQ 1819 2813 1613 2813 \nQ 1428 2813 1281 2702 \nQ 1134 2591 1072 2394 \nQ 978 2094 978 1738 \nL 978 0 \nL 416 0 \nz\n\" transform=\"scale(0.015625)\"/>\n       <path id=\"ArialMT-6f\" d=\"M 213 1659 \nQ 213 2581 725 3025 \nQ 1153 3394 1769 3394 \nQ 2453 3394 2887 2945 \nQ 3322 2497 3322 1706 \nQ 3322 1066 3130 698 \nQ 2938 331 2570 128 \nQ 2203 -75 1769 -75 \nQ 1072 -75 642 372 \nQ 213 819 213 1659 \nz\nM 791 1659 \nQ 791 1022 1069 705 \nQ 1347 388 1769 388 \nQ 2188 388 2466 706 \nQ 2744 1025 2744 1678 \nQ 2744 2294 2464 2611 \nQ 2184 2928 1769 2928 \nQ 1347 2928 1069 2612 \nQ 791 2297 791 1659 \nz\n\" transform=\"scale(0.015625)\"/>\n       <path id=\"ArialMT-6a\" d=\"M 419 3928 \nL 419 4581 \nL 981 4581 \nL 981 3928 \nL 419 3928 \nz\nM -294 -1288 \nL -188 -809 \nQ -19 -853 78 -853 \nQ 250 -853 334 -739 \nQ 419 -625 419 -169 \nL 419 3319 \nL 981 3319 \nL 981 -181 \nQ 981 -794 822 -1034 \nQ 619 -1347 147 -1347 \nQ -81 -1347 -294 -1288 \nz\n\" transform=\"scale(0.015625)\"/>\n       <path id=\"ArialMT-63\" d=\"M 2588 1216 \nL 3141 1144 \nQ 3050 572 2676 248 \nQ 2303 -75 1759 -75 \nQ 1078 -75 664 370 \nQ 250 816 250 1647 \nQ 250 2184 428 2587 \nQ 606 2991 970 3192 \nQ 1334 3394 1763 3394 \nQ 2303 3394 2647 3120 \nQ 2991 2847 3088 2344 \nL 2541 2259 \nQ 2463 2594 2264 2762 \nQ 2066 2931 1784 2931 \nQ 1359 2931 1093 2626 \nQ 828 2322 828 1663 \nQ 828 994 1084 691 \nQ 1341 388 1753 388 \nQ 2084 388 2306 591 \nQ 2528 794 2588 1216 \nz\n\" transform=\"scale(0.015625)\"/>\n       <path id=\"ArialMT-74\" d=\"M 1650 503 \nL 1731 6 \nQ 1494 -44 1306 -44 \nQ 1000 -44 831 53 \nQ 663 150 594 308 \nQ 525 466 525 972 \nL 525 2881 \nL 113 2881 \nL 113 3319 \nL 525 3319 \nL 525 4141 \nL 1084 4478 \nL 1084 3319 \nL 1650 3319 \nL 1650 2881 \nL 1084 2881 \nL 1084 941 \nQ 1084 700 1114 631 \nQ 1144 563 1211 522 \nQ 1278 481 1403 481 \nQ 1497 481 1650 503 \nz\n\" transform=\"scale(0.015625)\"/>\n       <path id=\"ArialMT-64\" d=\"M 2575 0 \nL 2575 419 \nQ 2259 -75 1647 -75 \nQ 1250 -75 917 144 \nQ 584 363 401 755 \nQ 219 1147 219 1656 \nQ 219 2153 384 2558 \nQ 550 2963 881 3178 \nQ 1213 3394 1622 3394 \nQ 1922 3394 2156 3267 \nQ 2391 3141 2538 2938 \nL 2538 4581 \nL 3097 4581 \nL 3097 0 \nL 2575 0 \nz\nM 797 1656 \nQ 797 1019 1065 703 \nQ 1334 388 1700 388 \nQ 2069 388 2326 689 \nQ 2584 991 2584 1609 \nQ 2584 2291 2321 2609 \nQ 2059 2928 1675 2928 \nQ 1300 2928 1048 2622 \nQ 797 2316 797 1656 \nz\n\" transform=\"scale(0.015625)\"/>\n       <path id=\"ArialMT-70\" d=\"M 422 -1272 \nL 422 3319 \nL 934 3319 \nL 934 2888 \nQ 1116 3141 1344 3267 \nQ 1572 3394 1897 3394 \nQ 2322 3394 2647 3175 \nQ 2972 2956 3137 2557 \nQ 3303 2159 3303 1684 \nQ 3303 1175 3120 767 \nQ 2938 359 2589 142 \nQ 2241 -75 1856 -75 \nQ 1575 -75 1351 44 \nQ 1128 163 984 344 \nL 984 -1272 \nL 422 -1272 \nz\nM 931 1641 \nQ 931 1000 1190 694 \nQ 1450 388 1819 388 \nQ 2194 388 2461 705 \nQ 2728 1022 2728 1688 \nQ 2728 2322 2467 2637 \nQ 2206 2953 1844 2953 \nQ 1484 2953 1207 2617 \nQ 931 2281 931 1641 \nz\n\" transform=\"scale(0.015625)\"/>\n       <path id=\"ArialMT-2f\" d=\"M 0 -78 \nL 1328 4659 \nL 1778 4659 \nL 453 -78 \nL 0 -78 \nz\n\" transform=\"scale(0.015625)\"/>\n      </defs>\n      <use xlink:href=\"#ArialMT-50\"/>\n      <use xlink:href=\"#ArialMT-72\" x=\"66.699219\"/>\n      <use xlink:href=\"#ArialMT-6f\" x=\"100\"/>\n      <use xlink:href=\"#ArialMT-6a\" x=\"155.615234\"/>\n      <use xlink:href=\"#ArialMT-65\" x=\"177.832031\"/>\n      <use xlink:href=\"#ArialMT-63\" x=\"233.447266\"/>\n      <use xlink:href=\"#ArialMT-74\" x=\"283.447266\"/>\n      <use xlink:href=\"#ArialMT-65\" x=\"311.230469\"/>\n      <use xlink:href=\"#ArialMT-64\" x=\"366.845703\"/>\n      <use xlink:href=\"#ArialMT-20\" x=\"422.460938\"/>\n      <use xlink:href=\"#ArialMT-73\" x=\"450.244141\"/>\n      <use xlink:href=\"#ArialMT-70\" x=\"500.244141\"/>\n      <use xlink:href=\"#ArialMT-65\" x=\"555.859375\"/>\n      <use xlink:href=\"#ArialMT-65\" x=\"611.474609\"/>\n      <use xlink:href=\"#ArialMT-64\" x=\"667.089844\"/>\n      <use xlink:href=\"#ArialMT-20\" x=\"722.705078\"/>\n      <use xlink:href=\"#ArialMT-5b\" x=\"750.488281\"/>\n      <use xlink:href=\"#ArialMT-6d\" x=\"778.271484\"/>\n      <use xlink:href=\"#ArialMT-6d\" x=\"861.572266\"/>\n      <use xlink:href=\"#ArialMT-2f\" x=\"944.873047\"/>\n      <use xlink:href=\"#ArialMT-73\" x=\"972.65625\"/>\n      <use xlink:href=\"#ArialMT-5d\" x=\"1022.65625\"/>\n     </g>\n    </g>\n   </g>\n   <g id=\"line2d_27\">\n    <path d=\"M 68.800568 158.917113 \nL 77.329706 166.971214 \nL 85.858843 172.57126 \nL 94.387981 180.371009 \nL 102.917118 186.750679 \nL 111.446256 189.226957 \nL 119.975393 197.833043 \nL 128.504531 203.33981 \nL 137.033668 207.86014 \nL 145.562806 212.808477 \nL 154.091943 217.545463 \nL 162.621081 219.541357 \nL 171.150219 221.965287 \nL 179.679356 220.794314 \nL 188.208494 222.04883 \nL 196.737631 221.457488 \nL 205.266769 217.641205 \nL 213.795906 216.762621 \nL 222.325044 220.223106 \nL 230.854181 220.230307 \nL 239.383319 219.565278 \nL 247.912456 217.873848 \nL 256.441594 211.03518 \nL 264.970731 207.812184 \nL 273.499869 205.504369 \nL 282.029006 198.785987 \nL 290.558144 192.124789 \nL 299.087281 186.0992 \nL 307.616419 182.299638 \nL 316.145557 176.509009 \nL 324.674694 171.983737 \nL 333.203832 166.853064 \nL 341.732969 156.014936 \nL 350.262107 147.727793 \nL 358.791244 143.95314 \nL 367.320382 139.367046 \nL 375.849519 133.068246 \nL 384.378657 125.251806 \nL 392.907794 118.878051 \nL 401.436932 117.709271 \n\" clip-path=\"url(#p56124f467e)\" style=\"fill: none; stroke: #1f77b4; stroke-width: 1.5; stroke-linecap: round\"/>\n   </g>\n   <g id=\"line2d_28\">\n    <path d=\"M 68.800568 49.720013 \nL 77.329706 57.934135 \nL 85.858843 64.961677 \nL 94.387981 78.266771 \nL 102.917118 83.877164 \nL 111.446256 85.004112 \nL 119.975393 99.856882 \nL 128.504531 107.346564 \nL 137.033668 118.060926 \nL 145.562806 125.254752 \nL 154.091943 133.222597 \nL 162.621081 139.291601 \nL 171.150219 141.145234 \nL 179.679356 138.392759 \nL 188.208494 140.515037 \nL 196.737631 139.364285 \nL 205.266769 129.405137 \nL 213.795906 129.334227 \nL 222.325044 138.587392 \nL 230.854181 139.116343 \nL 239.383319 138.673733 \nL 247.912456 136.463064 \nL 256.441594 122.972298 \nL 264.970731 119.453073 \nL 273.499869 116.205265 \nL 282.029006 105.549853 \nL 290.558144 96.531722 \nL 299.087281 88.454513 \nL 307.616419 85.189834 \nL 316.145557 80.644448 \nL 324.674694 76.634806 \nL 333.203832 72.693672 \nL 341.732969 61.762934 \nL 350.262107 52.329225 \nL 358.791244 51.487628 \nL 367.320382 46.699402 \nL 375.849519 38.546252 \nL 384.378657 27.152965 \nL 392.907794 21.422727 \nL 401.436932 22.588114 \n\" clip-path=\"url(#p56124f467e)\" style=\"fill: none; stroke: #ff7f0e; stroke-width: 1.5; stroke-linecap: round\"/>\n   </g>\n   <g id=\"line2d_29\">\n    <path d=\"M 68.800568 268.114213 \nL 77.329706 276.008293 \nL 85.858843 280.180844 \nL 94.387981 282.475247 \nL 102.917118 289.624193 \nL 111.446256 293.449802 \nL 119.975393 295.809203 \nL 128.504531 299.333055 \nL 137.033668 297.659355 \nL 145.562806 300.362203 \nL 154.091943 301.868328 \nL 162.621081 299.791113 \nL 171.150219 302.785339 \nL 179.679356 303.19587 \nL 188.208494 303.582624 \nL 196.737631 303.550691 \nL 205.266769 305.877273 \nL 213.795906 304.191016 \nL 222.325044 301.858819 \nL 230.854181 301.344272 \nL 239.383319 300.456822 \nL 247.912456 299.284632 \nL 256.441594 299.098061 \nL 264.970731 296.171296 \nL 273.499869 294.803473 \nL 282.029006 292.02212 \nL 290.558144 287.717857 \nL 299.087281 283.743888 \nL 307.616419 279.409443 \nL 316.145557 272.373571 \nL 324.674694 267.332668 \nL 333.203832 261.012456 \nL 341.732969 250.266939 \nL 350.262107 243.126361 \nL 358.791244 236.418653 \nL 367.320382 232.03469 \nL 375.849519 227.59024 \nL 384.378657 223.350648 \nL 392.907794 216.333374 \nL 401.436932 212.830429 \n\" clip-path=\"url(#p56124f467e)\" style=\"fill: none; stroke: #2ca02c; stroke-width: 1.5; stroke-linecap: round\"/>\n   </g>\n   <g id=\"patch_3\">\n    <path d=\"M 52.16875 320.1 \nL 52.16875 7.2 \n\" style=\"fill: none; stroke: #262626; stroke-width: 1.25; stroke-linejoin: miter; stroke-linecap: square\"/>\n   </g>\n   <g id=\"patch_4\">\n    <path d=\"M 418.06875 320.1 \nL 418.06875 7.2 \n\" style=\"fill: none; stroke: #262626; stroke-width: 1.25; stroke-linejoin: miter; stroke-linecap: square\"/>\n   </g>\n   <g id=\"patch_5\">\n    <path d=\"M 52.16875 320.1 \nL 418.06875 320.1 \n\" style=\"fill: none; stroke: #262626; stroke-width: 1.25; stroke-linejoin: miter; stroke-linecap: square\"/>\n   </g>\n   <g id=\"patch_6\">\n    <path d=\"M 52.16875 7.2 \nL 418.06875 7.2 \n\" style=\"fill: none; stroke: #262626; stroke-width: 1.25; stroke-linejoin: miter; stroke-linecap: square\"/>\n   </g>\n   <g id=\"legend_1\">\n    <g id=\"patch_7\">\n     <path d=\"M 354.06875 57.973437 \nL 411.06875 57.973437 \nQ 413.06875 57.973437 413.06875 55.973437 \nL 413.06875 14.2 \nQ 413.06875 12.2 411.06875 12.2 \nL 354.06875 12.2 \nQ 352.06875 12.2 352.06875 14.2 \nL 352.06875 55.973437 \nQ 352.06875 57.973437 354.06875 57.973437 \nz\n\" style=\"fill: #ffffff; opacity: 0.8; stroke: #cccccc; stroke-linejoin: miter\"/>\n    </g>\n    <g id=\"line2d_30\">\n     <path d=\"M 356.06875 19.857812 \nL 366.06875 19.857812 \nL 376.06875 19.857812 \n\" style=\"fill: none; stroke: #1f77b4; stroke-width: 1.5; stroke-linecap: round\"/>\n    </g>\n    <g id=\"text_16\">\n     <!-- $\\mu$ -->\n     <g style=\"fill: #262626\" transform=\"translate(384.06875 23.357812)scale(0.1 -0.1)\">\n      <defs>\n       <path id=\"DejaVuSans-Oblique-3bc\" d=\"M -84 -1331 \nL 856 3500 \nL 1434 3500 \nL 1009 1322 \nQ 997 1256 987 1175 \nQ 978 1094 978 1013 \nQ 978 722 1161 565 \nQ 1344 409 1684 409 \nQ 2147 409 2431 671 \nQ 2716 934 2816 1459 \nL 3213 3500 \nL 3788 3500 \nL 3266 809 \nQ 3253 750 3248 706 \nQ 3244 663 3244 628 \nQ 3244 531 3283 486 \nQ 3322 441 3406 441 \nQ 3438 441 3492 456 \nQ 3547 472 3647 513 \nL 3559 50 \nQ 3422 -19 3297 -55 \nQ 3172 -91 3053 -91 \nQ 2847 -91 2730 40 \nQ 2613 172 2613 403 \nQ 2438 153 2195 31 \nQ 1953 -91 1625 -91 \nQ 1334 -91 1117 43 \nQ 900 178 831 397 \nL 494 -1331 \nL -84 -1331 \nz\n\" transform=\"scale(0.015625)\"/>\n      </defs>\n      <use xlink:href=\"#DejaVuSans-Oblique-3bc\" transform=\"translate(0 0.3125)\"/>\n     </g>\n    </g>\n    <g id=\"line2d_31\">\n     <path d=\"M 356.06875 34.115625 \nL 366.06875 34.115625 \nL 376.06875 34.115625 \n\" style=\"fill: none; stroke: #ff7f0e; stroke-width: 1.5; stroke-linecap: round\"/>\n    </g>\n    <g id=\"text_17\">\n     <!-- $\\mu + \\sigma$ -->\n     <g style=\"fill: #262626\" transform=\"translate(384.06875 37.615625)scale(0.1 -0.1)\">\n      <defs>\n       <path id=\"DejaVuSans-2b\" d=\"M 2944 4013 \nL 2944 2272 \nL 4684 2272 \nL 4684 1741 \nL 2944 1741 \nL 2944 0 \nL 2419 0 \nL 2419 1741 \nL 678 1741 \nL 678 2272 \nL 2419 2272 \nL 2419 4013 \nL 2944 4013 \nz\n\" transform=\"scale(0.015625)\"/>\n       <path id=\"DejaVuSans-Oblique-3c3\" d=\"M 2219 3044 \nQ 1744 3044 1422 2700 \nQ 1081 2341 969 1747 \nQ 844 1119 1044 756 \nQ 1241 397 1706 397 \nQ 2166 397 2503 759 \nQ 2844 1122 2966 1747 \nQ 3075 2319 2881 2700 \nQ 2700 3044 2219 3044 \nz\nM 2309 3503 \nL 4219 3500 \nL 4106 2925 \nL 3463 2925 \nQ 3706 2438 3575 1747 \nQ 3406 888 2884 400 \nQ 2359 -91 1609 -91 \nQ 856 -91 525 400 \nQ 194 888 363 1747 \nQ 528 2609 1050 3097 \nQ 1484 3503 2309 3503 \nz\n\" transform=\"scale(0.015625)\"/>\n      </defs>\n      <use xlink:href=\"#DejaVuSans-Oblique-3bc\" transform=\"translate(0 0.296875)\"/>\n      <use xlink:href=\"#DejaVuSans-2b\" transform=\"translate(83.105469 0.296875)\"/>\n      <use xlink:href=\"#DejaVuSans-Oblique-3c3\" transform=\"translate(186.376953 0.296875)\"/>\n     </g>\n    </g>\n    <g id=\"line2d_32\">\n     <path d=\"M 356.06875 48.373437 \nL 366.06875 48.373437 \nL 376.06875 48.373437 \n\" style=\"fill: none; stroke: #2ca02c; stroke-width: 1.5; stroke-linecap: round\"/>\n    </g>\n    <g id=\"text_18\">\n     <!-- $\\mu - \\sigma$ -->\n     <g style=\"fill: #262626\" transform=\"translate(384.06875 51.873437)scale(0.1 -0.1)\">\n      <defs>\n       <path id=\"DejaVuSans-2212\" d=\"M 678 2272 \nL 4684 2272 \nL 4684 1741 \nL 678 1741 \nL 678 2272 \nz\n\" transform=\"scale(0.015625)\"/>\n      </defs>\n      <use xlink:href=\"#DejaVuSans-Oblique-3bc\" transform=\"translate(0 0.265625)\"/>\n      <use xlink:href=\"#DejaVuSans-2212\" transform=\"translate(83.105469 0.265625)\"/>\n      <use xlink:href=\"#DejaVuSans-Oblique-3c3\" transform=\"translate(186.376953 0.265625)\"/>\n     </g>\n    </g>\n   </g>\n  </g>\n </g>\n <defs>\n  <clipPath id=\"p56124f467e\">\n   <rect x=\"52.16875\" y=\"7.2\" width=\"365.9\" height=\"312.9\"/>\n  </clipPath>\n </defs>\n</svg>\n",
      "text/plain": [
       "<Figure size 432x360 with 1 Axes>"
      ]
     },
     "metadata": {},
     "output_type": "display_data"
    }
   ],
   "source": [
    "# Display mean speed diagram.\n",
    "fig = plot_mean_speed(df, add_bounds=True)\n",
    "fig.savefig(output_dir / f\"series_every_{every}.png\", dpi=200)"
   ]
  },
  {
   "attachments": {},
   "cell_type": "markdown",
   "metadata": {},
   "source": [
    "You can also inspect the table for further processing or simply dump it to a file.\n",
    "\n",
    "Below you have an overview of currently available outputs."
   ]
  },
  {
   "cell_type": "code",
   "execution_count": 7,
   "metadata": {},
   "outputs": [
    {
     "data": {
      "text/html": [
       "<div>\n",
       "<style scoped>\n",
       "    .dataframe tbody tr th:only-of-type {\n",
       "        vertical-align: middle;\n",
       "    }\n",
       "\n",
       "    .dataframe tbody tr th {\n",
       "        vertical-align: top;\n",
       "    }\n",
       "\n",
       "    .dataframe thead th {\n",
       "        text-align: right;\n",
       "    }\n",
       "</style>\n",
       "<table border=\"1\" class=\"dataframe\">\n",
       "  <thead>\n",
       "    <tr style=\"text-align: right;\">\n",
       "      <th></th>\n",
       "      <th>t</th>\n",
       "      <th>u_mean</th>\n",
       "      <th>u_std</th>\n",
       "      <th>v_mean</th>\n",
       "      <th>v_std</th>\n",
       "      <th>s_mean</th>\n",
       "      <th>s_std</th>\n",
       "    </tr>\n",
       "  </thead>\n",
       "  <tbody>\n",
       "    <tr>\n",
       "      <th>0</th>\n",
       "      <td>0.000000</td>\n",
       "      <td>-1352.269612</td>\n",
       "      <td>5602.053279</td>\n",
       "      <td>782.789422</td>\n",
       "      <td>5129.890340</td>\n",
       "      <td>5476.431913</td>\n",
       "      <td>5488.720754</td>\n",
       "    </tr>\n",
       "    <tr>\n",
       "      <th>1</th>\n",
       "      <td>0.001111</td>\n",
       "      <td>-1195.983983</td>\n",
       "      <td>5353.822696</td>\n",
       "      <td>947.773185</td>\n",
       "      <td>4978.576520</td>\n",
       "      <td>5071.597789</td>\n",
       "      <td>5480.677383</td>\n",
       "    </tr>\n",
       "    <tr>\n",
       "      <th>2</th>\n",
       "      <td>0.002222</td>\n",
       "      <td>-1030.933114</td>\n",
       "      <td>5195.081193</td>\n",
       "      <td>750.471792</td>\n",
       "      <td>4858.438471</td>\n",
       "      <td>4790.115129</td>\n",
       "      <td>5408.925281</td>\n",
       "    </tr>\n",
       "    <tr>\n",
       "      <th>3</th>\n",
       "      <td>0.003333</td>\n",
       "      <td>-1133.789967</td>\n",
       "      <td>4751.659120</td>\n",
       "      <td>630.248162</td>\n",
       "      <td>4629.919019</td>\n",
       "      <td>4398.065853</td>\n",
       "      <td>5132.202672</td>\n",
       "    </tr>\n",
       "    <tr>\n",
       "      <th>4</th>\n",
       "      <td>0.004444</td>\n",
       "      <td>-1021.714886</td>\n",
       "      <td>4778.295874</td>\n",
       "      <td>513.731352</td>\n",
       "      <td>4385.863647</td>\n",
       "      <td>4077.395934</td>\n",
       "      <td>5170.869858</td>\n",
       "    </tr>\n",
       "  </tbody>\n",
       "</table>\n",
       "</div>"
      ],
      "text/plain": [
       "          t       u_mean        u_std      v_mean        v_std       s_mean  \\\n",
       "0  0.000000 -1352.269612  5602.053279  782.789422  5129.890340  5476.431913   \n",
       "1  0.001111 -1195.983983  5353.822696  947.773185  4978.576520  5071.597789   \n",
       "2  0.002222 -1030.933114  5195.081193  750.471792  4858.438471  4790.115129   \n",
       "3  0.003333 -1133.789967  4751.659120  630.248162  4629.919019  4398.065853   \n",
       "4  0.004444 -1021.714886  4778.295874  513.731352  4385.863647  4077.395934   \n",
       "\n",
       "         s_std  \n",
       "0  5488.720754  \n",
       "1  5480.677383  \n",
       "2  5408.925281  \n",
       "3  5132.202672  \n",
       "4  5170.869858  "
      ]
     },
     "execution_count": 7,
     "metadata": {},
     "output_type": "execute_result"
    }
   ],
   "source": [
    "df.head()"
   ]
  }
 ],
 "metadata": {
  "kernelspec": {
   "display_name": "Python 3",
   "language": "python",
   "name": "python3"
  },
  "language_info": {
   "codemirror_mode": {
    "name": "ipython",
    "version": 3
   },
   "file_extension": ".py",
   "mimetype": "text/x-python",
   "name": "python",
   "nbconvert_exporter": "python",
   "pygments_lexer": "ipython3",
   "version": "3.10.7"
  },
  "orig_nbformat": 4,
  "vscode": {
   "interpreter": {
    "hash": "beedbe2faf2f7048d727558d0bc3221e7eba2a0b921cac4d4771b2feb8f74b30"
   }
  }
 },
 "nbformat": 4,
 "nbformat_minor": 2
}
