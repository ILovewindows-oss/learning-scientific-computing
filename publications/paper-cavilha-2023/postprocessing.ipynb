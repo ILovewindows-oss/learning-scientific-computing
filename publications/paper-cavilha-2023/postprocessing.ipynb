{
 "cells": [
  {
   "cell_type": "code",
   "execution_count": 8,
   "metadata": {},
   "outputs": [],
   "source": [
    "import matplotlib.pyplot as plt\n",
    "import numpy as np\n",
    "import pandas as pd\n",
    "\n",
    "%matplotlib inline"
   ]
  },
  {
   "cell_type": "code",
   "execution_count": 9,
   "metadata": {},
   "outputs": [],
   "source": [
    "def postprocessing(fname, cutoff=100):\n",
    "    \"\"\" Provide standard results postprocessing. \"\"\"\n",
    "    df = pd.read_excel(fname)\n",
    "\n",
    "    # Remove small spots not removed by cutoff.\n",
    "    df = df[df.area > cutoff]\n",
    "\n",
    "    # Remove *line-like* objects.\n",
    "    df = df[df.eccentricity < 1]\n",
    "\n",
    "    # Area of rectangle with sides equal to equivalent ellipse.\n",
    "    df[\"area_rect\"] = df.axis_major_length * df.axis_minor_length\n",
    "\n",
    "    # Filling of rectangle with respect to bounding box.\n",
    "    df[\"area_ratio\"] = df.area / df.area_rect\n",
    "\n",
    "    \n",
    "    return df"
   ]
  },
  {
   "cell_type": "code",
   "execution_count": 10,
   "metadata": {},
   "outputs": [],
   "source": [
    "df50 = postprocessing(\"media/outputs/summary-regions-50.xlsx\")\n",
    "dc50 = df50.describe().T"
   ]
  },
  {
   "cell_type": "code",
   "execution_count": 11,
   "metadata": {},
   "outputs": [],
   "source": [
    "df70 = postprocessing(\"media/outputs/summary-regions-70.xlsx\")\n",
    "dc70 = df70.describe().T"
   ]
  },
  {
   "cell_type": "code",
   "execution_count": 12,
   "metadata": {},
   "outputs": [],
   "source": [
    "df80 = postprocessing(\"media/outputs/summary-regions-80.xlsx\")\n",
    "dc80 = df80.describe().T"
   ]
  },
  {
   "cell_type": "code",
   "execution_count": 13,
   "metadata": {},
   "outputs": [],
   "source": [
    "columns = [c for c in df50.columns if c != \"source\"]\n",
    "tables = [dc50, dc70, dc80]"
   ]
  },
  {
   "cell_type": "code",
   "execution_count": 14,
   "metadata": {},
   "outputs": [
    {
     "name": "stdout",
     "output_type": "stream",
     "text": [
      "Working on area\n",
      "Working on axis_major_length\n",
      "Working on axis_minor_length\n",
      "Working on eccentricity\n",
      "Working on equivalent_diameter_area\n",
      "Working on feret_diameter_max\n",
      "Working on perimeter\n",
      "Working on perimeter_crofton\n",
      "Working on area_rect\n",
      "Working on area_ratio\n"
     ]
    }
   ],
   "source": [
    "x = [50, 70, 80]\n",
    "\n",
    "for c in columns:\n",
    "    print(f\"Working on {c}\")\n",
    "    yval = [dc50.at[c, \"mean\"],\n",
    "            dc70.at[c, \"mean\"],\n",
    "            dc80.at[c, \"mean\"]]\n",
    "    yerr = [1.96 * dc50.at[c, \"std\"] / np.sqrt(dc50.at[c, \"count\"]),\n",
    "            1.96 * dc70.at[c, \"std\"] / np.sqrt(dc70.at[c, \"count\"]),\n",
    "            1.96 * dc80.at[c, \"std\"] / np.sqrt(dc80.at[c, \"count\"])]\n",
    "\n",
    "    plt.close(\"all\")\n",
    "    plt.style.use(\"seaborn-white\")\n",
    "    plt.scatter(x, yval)\n",
    "    plt.errorbar(x, yval, yerr=yerr, capsize=6, ls=\"none\")\n",
    "    plt.grid(linestyle=\":\")\n",
    "    plt.xlabel(\"Spaceholder [%]\")\n",
    "    plt.ylabel(\" \".join(c.split(\"_\")).capitalize())\n",
    "    plt.tight_layout()\n",
    "    plt.savefig(f\"media/outputs/{c}.png\", dpi=300)\n",
    "    plt.close(\"all\")"
   ]
  }
 ],
 "metadata": {
  "kernelspec": {
   "display_name": "Python 3",
   "language": "python",
   "name": "python3"
  },
  "language_info": {
   "codemirror_mode": {
    "name": "ipython",
    "version": 3
   },
   "file_extension": ".py",
   "mimetype": "text/x-python",
   "name": "python",
   "nbconvert_exporter": "python",
   "pygments_lexer": "ipython3",
   "version": "3.10.5"
  },
  "orig_nbformat": 4,
  "vscode": {
   "interpreter": {
    "hash": "3dbf2fdd3bf08fe7555de09ff150e50715bda0a39e2870bf53f93eb7123cd365"
   }
  }
 },
 "nbformat": 4,
 "nbformat_minor": 2
}
