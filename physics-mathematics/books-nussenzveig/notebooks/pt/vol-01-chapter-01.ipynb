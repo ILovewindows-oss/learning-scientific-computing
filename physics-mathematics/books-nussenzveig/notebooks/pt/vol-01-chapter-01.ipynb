{
 "cells": [
  {
   "cell_type": "markdown",
   "metadata": {},
   "source": [
    "# Problemas do Capítulo 1"
   ]
  },
  {
   "cell_type": "markdown",
   "metadata": {},
   "source": [
    "Nos exercícios que se seguem vamos com frequência nos interessar pela ordem de magnitude dos valores.\n",
    "\n",
    "Para tanto provemos a função `order_of_magnitude`, que em Julia é declarada como se segue:"
   ]
  },
  {
   "cell_type": "code",
   "execution_count": 1,
   "metadata": {},
   "outputs": [
    {
     "data": {
      "text/plain": [
       "order_of_magnitude (generic function with 1 method)"
      ]
     },
     "metadata": {},
     "output_type": "display_data"
    }
   ],
   "source": [
    "function order_of_magnitude(x)\n",
    "    Int(round(log10(x)))\n",
    "end"
   ]
  },
  {
   "cell_type": "markdown",
   "metadata": {},
   "source": [
    "## 1.1\n",
    "\n",
    "Estime o número de fios de cabelo que você tem na sua cabeça.\n",
    "\n",
    "---\n",
    "\n",
    "Sei que o comprimento da minha palma da mão é de 21 cm, então estimo grosseiramente que minha cabeça seja uma esfera de diâmetro de 15 cm. Uma pesquisa rápida mostra que um fio de cabelo varia entre 50 e 120 microns de diâmetro. Com esses valores posso rapidamente calcular a área de minha cabeça e de um fio de cabelo."
   ]
  },
  {
   "cell_type": "code",
   "execution_count": 2,
   "metadata": {},
   "outputs": [],
   "source": [
    "D_head = 0.15;\n",
    "\n",
    "D_hair = 100e-06;\n",
    "\n",
    "A_head = 4 * pi * (D_head / 2)^2;\n",
    "\n",
    "A_hair = pi * (D_hair / 2)^2;"
   ]
  },
  {
   "cell_type": "markdown",
   "metadata": {},
   "source": [
    "A cabeça no entanto não é somente cabelo. Considerando que a face mas a região do pescoço ocupam cerca de dois terços da área disponível na minha *esfera*, a área efetivamente coberta pour cabelo pode ser avaliada como se segue."
   ]
  },
  {
   "cell_type": "code",
   "execution_count": 3,
   "metadata": {},
   "outputs": [],
   "source": [
    "hair_covered_frac = 1 / 3;\n",
    "\n",
    "A_head_hair = hair_covered_frac * A_head;"
   ]
  },
  {
   "cell_type": "markdown",
   "metadata": {},
   "source": [
    "Se você for olhar de perto a cabeça de alguém, se dará conta que existe uma distância entre os fios de cabelo razoávelmente superior ao seu raio. Assumindo que para cada fio haja uma área de 30 vezes a de sua própria de pele nos leva ao cálculo final:"
   ]
  },
  {
   "cell_type": "code",
   "execution_count": 4,
   "metadata": {},
   "outputs": [
    {
     "data": {
      "text/plain": [
       "5"
      ]
     },
     "metadata": {},
     "output_type": "display_data"
    }
   ],
   "source": [
    "hair_influence_area = 30;\n",
    "\n",
    "n_hair = A_head_hair / (hair_influence_area * A_hair);\n",
    "\n",
    "order_of_magnitude(n_hair)"
   ]
  },
  {
   "cell_type": "markdown",
   "metadata": {},
   "source": [
    "É de se esperar, se você não for calvo como eu, que em algum momento já tiveste cerca de $10^5$ fios de cabelo!"
   ]
  },
  {
   "cell_type": "markdown",
   "metadata": {},
   "source": [
    "## 1.2\n",
    "\n",
    "Estime o número de folhas de uma árvore.\n",
    "\n",
    "---\n",
    "\n",
    "Imagine uma árvore de porte médio, com as extremidades de suas folhas cobrindo um raio $R$ de 3 m. Suponha que as folhas sejam aproximadamente retangulares com dimensões de 3x5 cm. Com esses valores calculamos as áreas externa da árvore de de uma folha, sua razão aproximando o número de folhas. Como as ramificações da árvore também criam folhas em camadas mais internas, podemos assumir que  essa estimação seja um limite inferior, o verdadeiro valor sendo de 2 à 5 vezes essa primeira estimativa."
   ]
  },
  {
   "cell_type": "code",
   "execution_count": 5,
   "metadata": {},
   "outputs": [
    {
     "data": {
      "text/plain": [
       "5"
      ]
     },
     "metadata": {},
     "output_type": "display_data"
    }
   ],
   "source": [
    "R = 3.0;\n",
    "\n",
    "l = 0.05;\n",
    "\n",
    "w = 0.03;\n",
    "\n",
    "A_tree = 4 * pi * R^2;\n",
    "\n",
    "A_leaf = l * w;\n",
    "\n",
    "n_leaves = A_tree / A_leaf;\n",
    "\n",
    "order_of_magnitude(n_leaves)"
   ]
  },
  {
   "cell_type": "markdown",
   "metadata": {},
   "source": [
    "## 1.3\n",
    "\n",
    "Estime o volume ocupado pelo número de notas de R$ 1,00, correspondente à dívida externa do Brasil. Se pudessem ser empilhadas, que altura atingiria a pilha?\n",
    "\n",
    "---\n",
    "\n",
    "Tomemos como ponto de partida o valor de R$ 6 trilhões ($6\\times10^{12}$). Um bloco de 100 notas virgens tem aproximadamente 1 cm.\n",
    "\n",
    "Logo podemos computar a espessura de uma única nota em metros, o que terá unidades de [m/R$]."
   ]
  },
  {
   "cell_type": "code",
   "execution_count": 6,
   "metadata": {},
   "outputs": [],
   "source": [
    "external_debt = 6.0e+12;\n",
    "\n",
    "bill_thickness = 0.01 / 100;"
   ]
  },
  {
   "cell_type": "markdown",
   "metadata": {},
   "source": [
    "Multiplicando a dívida pela espessura de numa nota por R$ temos as espessura total.\n",
    "\n",
    "Para que o valor seja mais facilmente interpretável, dividimos por 1000 para expressar em quilômetros."
   ]
  },
  {
   "cell_type": "code",
   "execution_count": 7,
   "metadata": {},
   "outputs": [
    {
     "data": {
      "text/plain": [
       "600000.0"
      ]
     },
     "metadata": {},
     "output_type": "display_data"
    }
   ],
   "source": [
    "total_thickness = bill_thickness * external_debt;\n",
    "\n",
    "total_thickness / 1000"
   ]
  },
  {
   "cell_type": "markdown",
   "metadata": {},
   "source": [
    "## 1.4\n",
    "\n",
    "Estime o número médio de gotas de chuva que caem sobre uma área de 1 km² para uma precipitação de 1 cm de chuva.\n",
    "\n",
    "---\n",
    "\n",
    "Primeiro vamos computar o volume de água correspondente à 1000 m x 1000 m x 0,01 m."
   ]
  },
  {
   "cell_type": "code",
   "execution_count": 8,
   "metadata": {},
   "outputs": [],
   "source": [
    "water_volume = 1000.0^2 * 0.01;"
   ]
  },
  {
   "cell_type": "markdown",
   "metadata": {},
   "source": [
    "Gotas de até cerca de 2 mm tendem a manter uma forma aproximadamente esférica, então temos:"
   ]
  },
  {
   "cell_type": "code",
   "execution_count": 9,
   "metadata": {},
   "outputs": [],
   "source": [
    "droplet_volume = (4/3) * pi * 0.002^3;"
   ]
  },
  {
   "cell_type": "markdown",
   "metadata": {},
   "source": [
    "Finalmente podemos calcular o número de gotas por quilômetro quadrado como sendo:"
   ]
  },
  {
   "cell_type": "code",
   "execution_count": 10,
   "metadata": {},
   "outputs": [
    {
     "data": {
      "text/plain": [
       "11"
      ]
     },
     "metadata": {},
     "output_type": "display_data"
    }
   ],
   "source": [
    "n_droplets = water_volume / droplet_volume\n",
    "\n",
    "order_of_magnitude(n_droplets)"
   ]
  },
  {
   "cell_type": "markdown",
   "metadata": {},
   "source": [
    "## 1.5\n",
    "\n",
    "(a) Estime o número de grãos de areia da praia de Copacabana (ou de outra que você conheça melhor). (b) Estime o número de átomos contido num grão de areia. Compare as duas estimativas.\n",
    "\n",
    "---\n",
    "\n",
    "Começamos pelo cálculo do volume de um grão de areia *típico* de 0,2 mm de diâmetro."
   ]
  },
  {
   "cell_type": "code",
   "execution_count": 11,
   "metadata": {},
   "outputs": [],
   "source": [
    "grain_diameter = 0.0002;\n",
    "\n",
    "grain_volume = (4/3) * pi * (grain_diameter / 2)^3;"
   ]
  },
  {
   "cell_type": "markdown",
   "metadata": {},
   "source": [
    "Em seguida computamos o volume de areia na praia, assumindo um comprimento de 4000m por uma faixa de areia de 150m e profundidade de 1m. \n",
    "\n",
    "Esse é o volume da *caixa* contendo toda a areia da praia, no entanto há bastante espaço entre os grãos e a teoria de empacotamento nos permite de encontrar uma [fração sólida de empacotamento](https://en.wikipedia.org/wiki/Random_close_pack) razoável para essa situação da ordem de 0,56 (na verdade como os tamanhos de grão podem ser polidispersos, frações superiores podem ser possíveis, você pode ir a praia medir a real por conta própria, mas para fins de estimação de ordem de grandeza usar 0,4 ou 0,9 não mudará o resultado). "
   ]
  },
  {
   "cell_type": "code",
   "execution_count": 12,
   "metadata": {},
   "outputs": [],
   "source": [
    "beach_volume_per_m = 4000 * 150 * 1;\n",
    "\n",
    "packing_fraction = 0.56;\n",
    "\n",
    "sand_volume = packing_fraction * beach_volume_per_m;"
   ]
  },
  {
   "cell_type": "markdown",
   "metadata": {},
   "source": [
    "O número de grãos então é computado pela razão entre o volume de areia e o volume de um grão."
   ]
  },
  {
   "cell_type": "code",
   "execution_count": 13,
   "metadata": {},
   "outputs": [
    {
     "data": {
      "text/plain": [
       "17"
      ]
     },
     "metadata": {},
     "output_type": "display_data"
    }
   ],
   "source": [
    "n_grains = sand_volume / grain_volume;\n",
    "\n",
    "order_of_magnitude(n_grains)"
   ]
  },
  {
   "cell_type": "markdown",
   "metadata": {},
   "source": [
    "Assumamos aqui que a areia é formada apenas de $SiO_2$ que tem uma densidade de 2650 $kg\\cdotp{}m^{-3}$ e uma massa molar de 60,08 $g\\cdotp{}mol^{-1}$. Podemos então calcular a massa de um grão e em seguida o número de moles de fórmula unitária por grão. Em conhecimento do número de Avogrado e sabendo que temos 3 átomos por fórmula, temos a seguinte aproximação."
   ]
  },
  {
   "cell_type": "code",
   "execution_count": 14,
   "metadata": {},
   "outputs": [
    {
     "data": {
      "text/plain": [
       "18"
      ]
     },
     "metadata": {},
     "output_type": "display_data"
    }
   ],
   "source": [
    "rho_sio2 = 2650.0;\n",
    "\n",
    "mw_sio2 = 0.06008;\n",
    "\n",
    "n_avogradro = 6.02e+23;\n",
    "\n",
    "m_grain = rho_sio2 * grain_volume;\n",
    "\n",
    "n_moles = m_grain / mw_sio2;\n",
    "\n",
    "n_atoms = 3 * n_avogradro * n_moles;\n",
    "\n",
    "order_of_magnitude(n_atoms)"
   ]
  },
  {
   "cell_type": "markdown",
   "metadata": {},
   "source": [
    "## 1.6\n",
    "\n",
    "Em cada inspiração, absorvemos cerca de 15% do oxigênio que penetra em nossos pulmões. Num típico elevador lotado de um prédio de apartamentos, preso entre dois andares, quanto tempo levaria para que 10% do oxigênio contido na cabine fosse consumido?"
   ]
  },
  {
   "cell_type": "markdown",
   "metadata": {},
   "source": [
    "## 1.7\n",
    "\n",
    "Quanto tempo leva a luz do Sol para chegar até a Terra? E até Plutão?"
   ]
  },
  {
   "cell_type": "markdown",
   "metadata": {},
   "source": [
    "## 1.8\n",
    "\n",
    "Estima-se que a densidade média de matéria no universo corresponde a da ordem de 0,2 átomos de hidrogênio por m³. (a) Estime a massa total contida dentro do raio do universo; (b) Estime o número total de núcleons (neutrons e prótons) contido nesse volume; (c) Compare a densidade média de matéria no universo com a densidade típica no interior do núcleo atômico.\n"
   ]
  },
  {
   "cell_type": "markdown",
   "metadata": {},
   "source": [
    "## 1.9\n",
    "\n",
    "A população atual (2012) da Terra é da ordem de 7 bilhões de pessoas, e duplicou em menos de 50 anos. Se a população continuar duplicando a cada 50 anos, qual será a ordem de grandeza da população da Terra no ano 3000? Qual seria a área da superfície da Terra disponível por habitante nessa época, com as mesmas hipóteses?\n"
   ]
  },
  {
   "cell_type": "markdown",
   "metadata": {},
   "source": [
    "## 1.10\n",
    "\n",
    "Segundo o físico inglês James Jeans, em cada inspiração, há uma probabilidade apreciável de que penetre em nossos pulmões uma molécula de ar remanescente do último suspiro exalado por Júlio César. Verifique essa estimativa."
   ]
  },
  {
   "cell_type": "markdown",
   "metadata": {},
   "source": [
    "## 1.11\n",
    "\n",
    "Quando o Sol se põe, decorrem aproximadamente 2 minutos entre o instante em que o disco solar encosta no horizonte e sua ocultação completa. A partir deste dado, estime o diâmetro angular aparente do Sol visto da Terra, em graus e em radianos."
   ]
  },
  {
   "cell_type": "markdown",
   "metadata": {},
   "source": [
    "## 1.12\n",
    "\n",
    "Um parsec é definido como a distância a partir da qual uma unidade astronômica (distância média Terra-Sol) seria vista subtendendo um ângulo (paralaxe) de 1 segundo. Calcule 1 parsec em m e em anos-luz.\n"
   ]
  },
  {
   "cell_type": "markdown",
   "metadata": {},
   "source": [
    "## 1.13\n",
    "\n",
    "Admitindo que a idade do universo é da ordem de 10 bilhões de anos, que fração do $U^{238}$ inicialmente formado já se desintegrou?\n"
   ]
  },
  {
   "cell_type": "markdown",
   "metadata": {},
   "source": [
    "## 1.14\n",
    "\n",
    "Analisando uma amostra de rocha, verifica-se que ela contém 1,58 mg de $U^{238}$ e 0,342 mg de $Pb^{206}$, que é o produto final estável da desintegração do $U^{238}$. Admitindo que todo o $Pb^{206}$ encontrado provém da desintegração do $U^{238}$ contido na amostra, qual é a idade da rocha?\n"
   ]
  },
  {
   "cell_type": "markdown",
   "metadata": {},
   "source": [
    "## 1.15\n",
    "\n",
    "No século III a. C., o astrônomo grego Aristarco de Samos estimou a razão $d_S/d_L$ entre a distância $d_S$ da Terra ao Sol e a distância $d_L$ da Terra à Lua medindo o ângulo $\\theta$ entre as direções em que a Lua e o Sol são vistos da Terra quando a Lua está exatamente \"meio cheia\" (metade do disco lunar iluminado: veja a Figura). O valor que obteve foi $\\theta=87^\\circ$. (a) encontre a estimativa de Aristarco para $d_S/d_L$. (b) Com base nos valores atualmente conhecidos, $d_S/d_L\\approx{} 389$. Ache o valor real de $\\theta$ e critique o método de Aristarco.\n",
    "\n",
    "<center>\n",
    "<img src=\"data:image/png;base64,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\">\n",
    "</center>"
   ]
  },
  {
   "cell_type": "markdown",
   "metadata": {},
   "source": [
    "## 1.16\n",
    "\n",
    "Em seu tratado \"Cálculos com Areia\", Arquimedes inventou uma notação para exprimir números muito grandes e usou-a para estimar o número de grãos de areia que caberiam no \"universo\" da sua época, cujo raio era identificado com a distância da Terra ao Sol. O número que encontrou, em notação moderna, seria inferior a $10^{51}$. Verifique a estimativa de Arquimedes."
   ]
  }
 ],
 "metadata": {
  "kernelspec": {
   "display_name": "Julia 1.7.2",
   "language": "julia",
   "name": "julia-1.7"
  },
  "language_info": {
   "file_extension": ".jl",
   "mimetype": "application/julia",
   "name": "julia",
   "version": "1.7.2"
  },
  "orig_nbformat": 4
 },
 "nbformat": 4,
 "nbformat_minor": 2
}
