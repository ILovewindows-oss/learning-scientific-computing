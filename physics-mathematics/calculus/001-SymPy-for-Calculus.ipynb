{
 "cells": [
  {
   "attachments": {},
   "cell_type": "markdown",
   "metadata": {},
   "source": [
    "# SymPy for Calculus"
   ]
  },
  {
   "cell_type": "code",
   "execution_count": 1,
   "metadata": {},
   "outputs": [],
   "source": [
    "%matplotlib inline\n",
    "%config InlineBackend.figure_formats = [\"svg\"]"
   ]
  },
  {
   "cell_type": "code",
   "execution_count": 90,
   "metadata": {},
   "outputs": [],
   "source": [
    "from operator import methodcaller\n",
    "import matplotlib.pyplot as plt\n",
    "import numpy as np\n",
    "import sympy as sm\n",
    "import sympy.vector as smv\n",
    "import scipy.integrate as sci"
   ]
  },
  {
   "attachments": {},
   "cell_type": "markdown",
   "metadata": {},
   "source": [
    "## Symbolics basics"
   ]
  },
  {
   "cell_type": "code",
   "execution_count": 3,
   "metadata": {},
   "outputs": [
    {
     "data": {
      "text/latex": [
       "$\\displaystyle x$"
      ],
      "text/plain": [
       "x"
      ]
     },
     "execution_count": 3,
     "metadata": {},
     "output_type": "execute_result"
    }
   ],
   "source": [
    "x, y = sm.symbols(\"x y\")\n",
    "x"
   ]
  },
  {
   "cell_type": "code",
   "execution_count": 4,
   "metadata": {},
   "outputs": [
    {
     "data": {
      "text/plain": [
       "(a0, a1, a2, a3, a4, a5, a6, a7, a8, a9)"
      ]
     },
     "execution_count": 4,
     "metadata": {},
     "output_type": "execute_result"
    }
   ],
   "source": [
    "a = sm.symbols(\"a:10\")\n",
    "a"
   ]
  },
  {
   "cell_type": "code",
   "execution_count": 5,
   "metadata": {},
   "outputs": [
    {
     "data": {
      "text/plain": [
       "(b0, b1, b2, b3, b4, b5, b6, b7, b8, b9)"
      ]
     },
     "execution_count": 5,
     "metadata": {},
     "output_type": "execute_result"
    }
   ],
   "source": [
    "b = sm.symbols(\"b:10\", integer=True)\n",
    "b"
   ]
  },
  {
   "cell_type": "code",
   "execution_count": 6,
   "metadata": {},
   "outputs": [],
   "source": [
    "z = sm.Symbol(\"z\", real=True)"
   ]
  },
  {
   "cell_type": "code",
   "execution_count": 7,
   "metadata": {},
   "outputs": [
    {
     "data": {
      "text/plain": [
       "f"
      ]
     },
     "execution_count": 7,
     "metadata": {},
     "output_type": "execute_result"
    }
   ],
   "source": [
    "f, g = sm.symbols(\"f g\", cls=sm.Function)\n",
    "f"
   ]
  },
  {
   "cell_type": "code",
   "execution_count": 8,
   "metadata": {},
   "outputs": [
    {
     "data": {
      "text/plain": [
       "F"
      ]
     },
     "execution_count": 8,
     "metadata": {},
     "output_type": "execute_result"
    }
   ],
   "source": [
    "F = sm.Function(\"F\")\n",
    "F"
   ]
  },
  {
   "cell_type": "code",
   "execution_count": 9,
   "metadata": {},
   "outputs": [
    {
     "data": {
      "text/latex": [
       "$\\displaystyle F{\\left(x \\right)}$"
      ],
      "text/plain": [
       "F(x)"
      ]
     },
     "execution_count": 9,
     "metadata": {},
     "output_type": "execute_result"
    }
   ],
   "source": [
    "F = sm.Function(\"F\")(x)\n",
    "F"
   ]
  },
  {
   "cell_type": "code",
   "execution_count": 10,
   "metadata": {},
   "outputs": [
    {
     "data": {
      "text/latex": [
       "$\\displaystyle \\sin{\\left(x \\right)}$"
      ],
      "text/plain": [
       "sin(x)"
      ]
     },
     "execution_count": 10,
     "metadata": {},
     "output_type": "execute_result"
    }
   ],
   "source": [
    "sm.sin(x)"
   ]
  },
  {
   "cell_type": "code",
   "execution_count": 11,
   "metadata": {},
   "outputs": [
    {
     "data": {
      "text/latex": [
       "$\\displaystyle \\log{\\left(x \\right)}$"
      ],
      "text/plain": [
       "log(x)"
      ]
     },
     "execution_count": 11,
     "metadata": {},
     "output_type": "execute_result"
    }
   ],
   "source": [
    "sm.log(x)"
   ]
  },
  {
   "cell_type": "code",
   "execution_count": 12,
   "metadata": {},
   "outputs": [
    {
     "data": {
      "text/latex": [
       "$\\displaystyle \\frac{\\log{\\left(x \\right)}}{\\log{\\left(3 \\right)}}$"
      ],
      "text/plain": [
       "log(x)/log(3)"
      ]
     },
     "execution_count": 12,
     "metadata": {},
     "output_type": "execute_result"
    }
   ],
   "source": [
    "sm.log(x, 3)"
   ]
  },
  {
   "cell_type": "code",
   "execution_count": 13,
   "metadata": {},
   "outputs": [
    {
     "data": {
      "text/latex": [
       "$\\displaystyle x^{1.5}$"
      ],
      "text/plain": [
       "x**1.5"
      ]
     },
     "execution_count": 13,
     "metadata": {},
     "output_type": "execute_result"
    }
   ],
   "source": [
    "x**(3/2)"
   ]
  },
  {
   "cell_type": "code",
   "execution_count": 14,
   "metadata": {},
   "outputs": [
    {
     "data": {
      "text/latex": [
       "$\\displaystyle x^{\\frac{3}{2}}$"
      ],
      "text/plain": [
       "x**(3/2)"
      ]
     },
     "execution_count": 14,
     "metadata": {},
     "output_type": "execute_result"
    }
   ],
   "source": [
    "x**sm.Rational(3, 2)"
   ]
  },
  {
   "cell_type": "code",
   "execution_count": 15,
   "metadata": {},
   "outputs": [],
   "source": [
    "# dir(sm)"
   ]
  },
  {
   "attachments": {},
   "cell_type": "markdown",
   "metadata": {},
   "source": [
    "## Limits"
   ]
  },
  {
   "cell_type": "code",
   "execution_count": 16,
   "metadata": {},
   "outputs": [
    {
     "data": {
      "text/latex": [
       "$\\displaystyle \\frac{\\cos{\\left(x \\right)} - 1}{x}$"
      ],
      "text/plain": [
       "(cos(x) - 1)/x"
      ]
     },
     "execution_count": 16,
     "metadata": {},
     "output_type": "execute_result"
    }
   ],
   "source": [
    "f = (sm.cos(x) - 1) / x\n",
    "f"
   ]
  },
  {
   "cell_type": "code",
   "execution_count": 17,
   "metadata": {},
   "outputs": [
    {
     "data": {
      "text/latex": [
       "$\\displaystyle 0$"
      ],
      "text/plain": [
       "0"
      ]
     },
     "execution_count": 17,
     "metadata": {},
     "output_type": "execute_result"
    }
   ],
   "source": [
    "sm.limit(f, x, 0)"
   ]
  },
  {
   "cell_type": "code",
   "execution_count": 18,
   "metadata": {},
   "outputs": [
    {
     "data": {
      "text/latex": [
       "$\\displaystyle 0$"
      ],
      "text/plain": [
       "0"
      ]
     },
     "execution_count": 18,
     "metadata": {},
     "output_type": "execute_result"
    }
   ],
   "source": [
    "sm.limit(f, x, sm.oo)"
   ]
  },
  {
   "cell_type": "code",
   "execution_count": 19,
   "metadata": {},
   "outputs": [
    {
     "data": {
      "text/latex": [
       "$\\displaystyle 2$"
      ],
      "text/plain": [
       "2"
      ]
     },
     "execution_count": 19,
     "metadata": {},
     "output_type": "execute_result"
    }
   ],
   "source": [
    "f = 2 * sm.exp(1 / x) / (sm.exp(1 / x) + 1)\n",
    "\n",
    "sm.limit(f, x, 0, dir=\"+\")"
   ]
  },
  {
   "attachments": {},
   "cell_type": "markdown",
   "metadata": {},
   "source": [
    "## Derivatives"
   ]
  },
  {
   "cell_type": "code",
   "execution_count": 20,
   "metadata": {},
   "outputs": [
    {
     "data": {
      "text/latex": [
       "$\\displaystyle 2 x$"
      ],
      "text/plain": [
       "2*x"
      ]
     },
     "execution_count": 20,
     "metadata": {},
     "output_type": "execute_result"
    }
   ],
   "source": [
    "sm.diff(x**2, x)"
   ]
  },
  {
   "cell_type": "code",
   "execution_count": 21,
   "metadata": {},
   "outputs": [
    {
     "data": {
      "text/latex": [
       "$\\displaystyle 2$"
      ],
      "text/plain": [
       "2"
      ]
     },
     "execution_count": 21,
     "metadata": {},
     "output_type": "execute_result"
    }
   ],
   "source": [
    "sm.diff(x**2, x, 2, evaluate=True)"
   ]
  },
  {
   "cell_type": "code",
   "execution_count": 22,
   "metadata": {},
   "outputs": [
    {
     "data": {
      "text/latex": [
       "$\\displaystyle \\frac{d^{2}}{d x^{2}} x^{2}$"
      ],
      "text/plain": [
       "Derivative(x**2, (x, 2))"
      ]
     },
     "execution_count": 22,
     "metadata": {},
     "output_type": "execute_result"
    }
   ],
   "source": [
    "sm.diff(x**2, x, 2, evaluate=False)"
   ]
  },
  {
   "cell_type": "code",
   "execution_count": 23,
   "metadata": {},
   "outputs": [
    {
     "data": {
      "text/latex": [
       "$\\displaystyle 2 x e^{x^{2}}$"
      ],
      "text/plain": [
       "2*x*exp(x**2)"
      ]
     },
     "execution_count": 23,
     "metadata": {},
     "output_type": "execute_result"
    }
   ],
   "source": [
    "sm.diff(sm.exp(x**2), x)"
   ]
  },
  {
   "cell_type": "code",
   "execution_count": 24,
   "metadata": {},
   "outputs": [
    {
     "data": {
      "text/latex": [
       "$\\displaystyle \\frac{x e^{x^{\\frac{3}{4}}}}{\\sin{\\left(\\frac{x}{2} \\right)} + 1}$"
      ],
      "text/plain": [
       "x*exp(x**(3/4))/(sin(x/2) + 1)"
      ]
     },
     "execution_count": 24,
     "metadata": {},
     "output_type": "execute_result"
    }
   ],
   "source": [
    "f = x * sm.exp(x**sm.Rational(3, 4)) / (1 + sm.sin(x / 2))\n",
    "f"
   ]
  },
  {
   "cell_type": "code",
   "execution_count": 25,
   "metadata": {},
   "outputs": [
    {
     "data": {
      "text/latex": [
       "$\\displaystyle \\frac{3 x^{\\frac{3}{4}} e^{x^{\\frac{3}{4}}}}{4 \\left(\\sin{\\left(\\frac{x}{2} \\right)} + 1\\right)} - \\frac{x e^{x^{\\frac{3}{4}}} \\cos{\\left(\\frac{x}{2} \\right)}}{2 \\left(\\sin{\\left(\\frac{x}{2} \\right)} + 1\\right)^{2}} + \\frac{e^{x^{\\frac{3}{4}}}}{\\sin{\\left(\\frac{x}{2} \\right)} + 1}$"
      ],
      "text/plain": [
       "3*x**(3/4)*exp(x**(3/4))/(4*(sin(x/2) + 1)) - x*exp(x**(3/4))*cos(x/2)/(2*(sin(x/2) + 1)**2) + exp(x**(3/4))/(sin(x/2) + 1)"
      ]
     },
     "execution_count": 25,
     "metadata": {},
     "output_type": "execute_result"
    }
   ],
   "source": [
    "dfdx = sm.diff(f, x)\n",
    "dfdx"
   ]
  },
  {
   "cell_type": "code",
   "execution_count": 26,
   "metadata": {},
   "outputs": [
    {
     "data": {
      "text/latex": [
       "$\\displaystyle x^{2} y + z$"
      ],
      "text/plain": [
       "x**2*y + z"
      ]
     },
     "execution_count": 26,
     "metadata": {},
     "output_type": "execute_result"
    }
   ],
   "source": [
    "f = x**2 * y + z\n",
    "f"
   ]
  },
  {
   "cell_type": "code",
   "execution_count": 27,
   "metadata": {},
   "outputs": [
    {
     "data": {
      "text/latex": [
       "$\\displaystyle x^{2}$"
      ],
      "text/plain": [
       "x**2"
      ]
     },
     "execution_count": 27,
     "metadata": {},
     "output_type": "execute_result"
    }
   ],
   "source": [
    "sm.diff(f, y)"
   ]
  },
  {
   "cell_type": "code",
   "execution_count": 28,
   "metadata": {},
   "outputs": [
    {
     "data": {
      "text/latex": [
       "$\\displaystyle f{\\left(x + g{\\left(x \\right)} \\right)}$"
      ],
      "text/plain": [
       "f(x + g(x))"
      ]
     },
     "execution_count": 28,
     "metadata": {},
     "output_type": "execute_result"
    }
   ],
   "source": [
    "f, g = sm.symbols(\"f g\", cls=sm.Function)\n",
    "g = g(x)\n",
    "f = f(x + g)\n",
    "f"
   ]
  },
  {
   "cell_type": "code",
   "execution_count": 29,
   "metadata": {},
   "outputs": [
    {
     "data": {
      "text/latex": [
       "$\\displaystyle \\left(\\frac{d}{d x} g{\\left(x \\right)} + 1\\right) \\left. \\frac{d}{d \\xi_{1}} f{\\left(\\xi_{1} \\right)} \\right|_{\\substack{ \\xi_{1}=x + g{\\left(x \\right)} }}$"
      ],
      "text/plain": [
       "(Derivative(g(x), x) + 1)*Subs(Derivative(f(_xi_1), _xi_1), _xi_1, x + g(x))"
      ]
     },
     "execution_count": 29,
     "metadata": {},
     "output_type": "execute_result"
    }
   ],
   "source": [
    "sm.diff(f, x)"
   ]
  },
  {
   "attachments": {},
   "cell_type": "markdown",
   "metadata": {},
   "source": [
    "## Antiderivatives"
   ]
  },
  {
   "cell_type": "code",
   "execution_count": 30,
   "metadata": {},
   "outputs": [
    {
     "data": {
      "text/latex": [
       "$\\displaystyle \\sin{\\left(x \\right)}$"
      ],
      "text/plain": [
       "sin(x)"
      ]
     },
     "execution_count": 30,
     "metadata": {},
     "output_type": "execute_result"
    }
   ],
   "source": [
    "f = sm.cos(x)\n",
    "sm.integrate(f, x)"
   ]
  },
  {
   "cell_type": "code",
   "execution_count": 31,
   "metadata": {},
   "outputs": [
    {
     "data": {
      "text/latex": [
       "$\\displaystyle \\frac{x \\sin{\\left(\\log{\\left(x \\right)} \\right)}}{2} - \\frac{x \\cos{\\left(\\log{\\left(x \\right)} \\right)}}{2}$"
      ],
      "text/plain": [
       "x*sin(log(x))/2 - x*cos(log(x))/2"
      ]
     },
     "execution_count": 31,
     "metadata": {},
     "output_type": "execute_result"
    }
   ],
   "source": [
    "f = sm.sin(sm.log(x))\n",
    "sm.integrate(f, x)"
   ]
  },
  {
   "cell_type": "code",
   "execution_count": 32,
   "metadata": {},
   "outputs": [
    {
     "data": {
      "text/latex": [
       "$\\displaystyle \\frac{\\sqrt{\\pi} \\operatorname{erfi}{\\left(x \\right)}}{2}$"
      ],
      "text/plain": [
       "sqrt(pi)*erfi(x)/2"
      ]
     },
     "execution_count": 32,
     "metadata": {},
     "output_type": "execute_result"
    }
   ],
   "source": [
    "f = sm.exp(x**2)\n",
    "sm.integrate(f, x)"
   ]
  },
  {
   "cell_type": "code",
   "execution_count": 33,
   "metadata": {},
   "outputs": [
    {
     "data": {
      "text/latex": [
       "$\\displaystyle \\operatorname{asinh}{\\left(x \\right)}$"
      ],
      "text/plain": [
       "asinh(x)"
      ]
     },
     "execution_count": 33,
     "metadata": {},
     "output_type": "execute_result"
    }
   ],
   "source": [
    "f = 1 / sm.sqrt(1 + x**2)\n",
    "sm.integrate(f, x)"
   ]
  },
  {
   "cell_type": "code",
   "execution_count": 34,
   "metadata": {},
   "outputs": [
    {
     "data": {
      "text/latex": [
       "$\\displaystyle 1.33333333333333 x^{0.75}$"
      ],
      "text/plain": [
       "1.33333333333333*x**0.75"
      ]
     },
     "execution_count": 34,
     "metadata": {},
     "output_type": "execute_result"
    }
   ],
   "source": [
    "f = x**(-1/4)\n",
    "sm.integrate(f, x)"
   ]
  },
  {
   "cell_type": "code",
   "execution_count": 35,
   "metadata": {},
   "outputs": [
    {
     "data": {
      "text/latex": [
       "$\\displaystyle \\frac{4 x^{\\frac{3}{4}}}{3}$"
      ],
      "text/plain": [
       "4*x**(3/4)/3"
      ]
     },
     "execution_count": 35,
     "metadata": {},
     "output_type": "execute_result"
    }
   ],
   "source": [
    "f = x**sm.Rational(-1, 4)\n",
    "sm.integrate(f, x)"
   ]
  },
  {
   "cell_type": "code",
   "execution_count": 36,
   "metadata": {},
   "outputs": [],
   "source": [
    "f = 2 * (sm.sin(x**2) * sm.log(1 / x))\n",
    "F = sm.integrate(f, x)"
   ]
  },
  {
   "cell_type": "code",
   "execution_count": 37,
   "metadata": {},
   "outputs": [
    {
     "data": {
      "text/latex": [
       "$\\displaystyle \\frac{\\Gamma^{2}\\left(\\frac{3}{4}\\right) {{}_{2}F_{3}\\left(\\begin{matrix} \\frac{3}{4}, \\frac{3}{4} \\\\ \\frac{3}{2}, \\frac{7}{4}, \\frac{7}{4} \\end{matrix}\\middle| {- \\frac{1}{4}} \\right)}}{8 \\Gamma^{2}\\left(\\frac{7}{4}\\right)}$"
      ],
      "text/plain": [
       "gamma(3/4)**2*hyper((3/4, 3/4), (3/2, 7/4, 7/4), -1/4)/(8*gamma(7/4)**2)"
      ]
     },
     "execution_count": 37,
     "metadata": {},
     "output_type": "execute_result"
    }
   ],
   "source": [
    "F.subs(x, 1)"
   ]
  },
  {
   "cell_type": "code",
   "execution_count": 38,
   "metadata": {},
   "outputs": [
    {
     "data": {
      "text/latex": [
       "$\\displaystyle 0.215555493685125$"
      ],
      "text/plain": [
       "0.215555493685125"
      ]
     },
     "execution_count": 38,
     "metadata": {},
     "output_type": "execute_result"
    }
   ],
   "source": [
    "F.subs(x, 1).evalf()"
   ]
  },
  {
   "cell_type": "code",
   "execution_count": 39,
   "metadata": {},
   "outputs": [
    {
     "data": {
      "text/latex": [
       "$\\displaystyle - \\frac{\\gamma}{2} + \\frac{\\operatorname{Ei}{\\left(\\pi^{2} \\right)}}{2}$"
      ],
      "text/plain": [
       "-EulerGamma/2 + Ei(pi**2)/2"
      ]
     },
     "execution_count": 39,
     "metadata": {},
     "output_type": "execute_result"
    }
   ],
   "source": [
    "f = sm.exp(x**2) / x\n",
    "F = sm.integrate(f, (x, 0, sm.pi))\n",
    "F"
   ]
  },
  {
   "cell_type": "code",
   "execution_count": 40,
   "metadata": {},
   "outputs": [
    {
     "data": {
      "text/latex": [
       "$\\displaystyle 1110.32084473226$"
      ],
      "text/plain": [
       "1110.32084473226"
      ]
     },
     "execution_count": 40,
     "metadata": {},
     "output_type": "execute_result"
    }
   ],
   "source": [
    "F.evalf()"
   ]
  },
  {
   "cell_type": "code",
   "execution_count": 41,
   "metadata": {},
   "outputs": [
    {
     "data": {
      "text/latex": [
       "$\\displaystyle \\left(t^{10} - 10 t^{9} + 90 t^{8} - 720 t^{7} + 5040 t^{6} - 30240 t^{5} + 151200 t^{4} - 604800 t^{3} + 1814400 t^{2} - 3628800 t + 3628800\\right) e^{t} - 3628800$"
      ],
      "text/plain": [
       "(t**10 - 10*t**9 + 90*t**8 - 720*t**7 + 5040*t**6 - 30240*t**5 + 151200*t**4 - 604800*t**3 + 1814400*t**2 - 3628800*t + 3628800)*exp(t) - 3628800"
      ]
     },
     "execution_count": 41,
     "metadata": {},
     "output_type": "execute_result"
    }
   ],
   "source": [
    "t = sm.symbols(\"t\", real=True)\n",
    "f = x**10 * sm.exp(x)\n",
    "F = sm.integrate(f, (x, 0, t))\n",
    "F"
   ]
  },
  {
   "cell_type": "code",
   "execution_count": 42,
   "metadata": {},
   "outputs": [
    {
     "data": {
      "text/latex": [
       "$\\displaystyle \\infty$"
      ],
      "text/plain": [
       "oo"
      ]
     },
     "execution_count": 42,
     "metadata": {},
     "output_type": "execute_result"
    }
   ],
   "source": [
    "f = 1 / x\n",
    "F = sm.integrate(f, (x, 1, sm.oo))\n",
    "F\n"
   ]
  },
  {
   "cell_type": "code",
   "execution_count": 43,
   "metadata": {},
   "outputs": [
    {
     "data": {
      "text/latex": [
       "$\\displaystyle 1$"
      ],
      "text/plain": [
       "1"
      ]
     },
     "execution_count": 43,
     "metadata": {},
     "output_type": "execute_result"
    }
   ],
   "source": [
    "f = 1 / x**2\n",
    "F = sm.integrate(f, (x, 1, sm.oo))\n",
    "F"
   ]
  },
  {
   "cell_type": "code",
   "execution_count": 44,
   "metadata": {},
   "outputs": [
    {
     "data": {
      "text/latex": [
       "$\\displaystyle \\begin{cases} \\frac{1}{t - 1} & \\text{for}\\: t > 1 \\\\\\int\\limits_{1}^{\\infty} x^{- t}\\, dx & \\text{otherwise} \\end{cases}$"
      ],
      "text/plain": [
       "Piecewise((1/(t - 1), t > 1), (Integral(x**(-t), (x, 1, oo)), True))"
      ]
     },
     "execution_count": 44,
     "metadata": {},
     "output_type": "execute_result"
    }
   ],
   "source": [
    "f = 1 / x**t\n",
    "F = sm.integrate(f, (x, 1, sm.oo))\n",
    "F\n"
   ]
  },
  {
   "attachments": {},
   "cell_type": "markdown",
   "metadata": {},
   "source": [
    "## Ordinary differential equations"
   ]
  },
  {
   "cell_type": "code",
   "execution_count": 45,
   "metadata": {},
   "outputs": [],
   "source": [
    "x0 = 2\n",
    "f0 = 6"
   ]
  },
  {
   "cell_type": "code",
   "execution_count": 46,
   "metadata": {},
   "outputs": [
    {
     "data": {
      "text/latex": [
       "$\\displaystyle 2 x^{2}$"
      ],
      "text/plain": [
       "2*x**2"
      ]
     },
     "execution_count": 46,
     "metadata": {},
     "output_type": "execute_result"
    }
   ],
   "source": [
    "dfdx = 2 * x ** 2\n",
    "dfdx"
   ]
  },
  {
   "cell_type": "code",
   "execution_count": 47,
   "metadata": {},
   "outputs": [
    {
     "data": {
      "text/latex": [
       "$\\displaystyle \\frac{2 x^{3}}{3}$"
      ],
      "text/plain": [
       "2*x**3/3"
      ]
     },
     "execution_count": 47,
     "metadata": {},
     "output_type": "execute_result"
    }
   ],
   "source": [
    "fx = sm.integrate(dfdx, x)\n",
    "fx"
   ]
  },
  {
   "cell_type": "code",
   "execution_count": 48,
   "metadata": {},
   "outputs": [
    {
     "data": {
      "text/latex": [
       "$\\displaystyle \\frac{2}{3}$"
      ],
      "text/plain": [
       "2/3"
      ]
     },
     "execution_count": 48,
     "metadata": {},
     "output_type": "execute_result"
    }
   ],
   "source": [
    "C = f0 - fx.subs(x, x0)\n",
    "C"
   ]
  },
  {
   "cell_type": "code",
   "execution_count": 49,
   "metadata": {},
   "outputs": [
    {
     "data": {
      "text/latex": [
       "$\\displaystyle \\frac{2 x^{3}}{3} + \\frac{2}{3}$"
      ],
      "text/plain": [
       "2*x**3/3 + 2/3"
      ]
     },
     "execution_count": 49,
     "metadata": {},
     "output_type": "execute_result"
    }
   ],
   "source": [
    "fx = fx + C\n",
    "fx"
   ]
  },
  {
   "cell_type": "code",
   "execution_count": 50,
   "metadata": {},
   "outputs": [
    {
     "data": {
      "text/plain": [
       "True"
      ]
     },
     "execution_count": 50,
     "metadata": {},
     "output_type": "execute_result"
    }
   ],
   "source": [
    "sm.diff(fx, x) == dfdx"
   ]
  },
  {
   "cell_type": "code",
   "execution_count": 51,
   "metadata": {},
   "outputs": [
    {
     "data": {
      "text/plain": [
       "True"
      ]
     },
     "execution_count": 51,
     "metadata": {},
     "output_type": "execute_result"
    }
   ],
   "source": [
    "fx.subs(x, x0) == f0"
   ]
  },
  {
   "attachments": {},
   "cell_type": "markdown",
   "metadata": {},
   "source": [
    "## Series"
   ]
  },
  {
   "cell_type": "code",
   "execution_count": 52,
   "metadata": {},
   "outputs": [],
   "source": [
    "n = sm.symbols(\"n\", integer=True)"
   ]
  },
  {
   "cell_type": "code",
   "execution_count": 53,
   "metadata": {},
   "outputs": [
    {
     "data": {
      "text/latex": [
       "$\\displaystyle \\sum_{n=0}^{\\infty} 2^{- n}$"
      ],
      "text/plain": [
       "Sum(2**(-n), (n, 0, oo))"
      ]
     },
     "execution_count": 53,
     "metadata": {},
     "output_type": "execute_result"
    }
   ],
   "source": [
    "f = 1 / 2**n\n",
    "S = sm.Sum(f, (n, 0, sm.oo))\n",
    "S"
   ]
  },
  {
   "cell_type": "code",
   "execution_count": 54,
   "metadata": {},
   "outputs": [
    {
     "data": {
      "text/latex": [
       "$\\displaystyle 2$"
      ],
      "text/plain": [
       "2"
      ]
     },
     "execution_count": 54,
     "metadata": {},
     "output_type": "execute_result"
    }
   ],
   "source": [
    "S.doit()"
   ]
  },
  {
   "cell_type": "code",
   "execution_count": 55,
   "metadata": {},
   "outputs": [
    {
     "data": {
      "text/latex": [
       "$\\displaystyle \\sum_{n=1}^{\\infty} \\frac{\\operatorname{atan}{\\left(n \\right)}}{n^{\\frac{11}{10}}}$"
      ],
      "text/plain": [
       "Sum(atan(n)/n**(11/10), (n, 1, oo))"
      ]
     },
     "execution_count": 55,
     "metadata": {},
     "output_type": "execute_result"
    }
   ],
   "source": [
    "f = sm.atan(n) / (n**sm.Rational(11, 10))\n",
    "S = sm.Sum(f, (n, 1, sm.oo))\n",
    "S"
   ]
  },
  {
   "cell_type": "code",
   "execution_count": 56,
   "metadata": {},
   "outputs": [
    {
     "data": {
      "text/latex": [
       "$\\displaystyle \\sum_{n=1}^{\\infty} \\frac{\\operatorname{atan}{\\left(n \\right)}}{n^{\\frac{11}{10}}}$"
      ],
      "text/plain": [
       "Sum(atan(n)/n**(11/10), (n, 1, oo))"
      ]
     },
     "execution_count": 56,
     "metadata": {},
     "output_type": "execute_result"
    }
   ],
   "source": [
    "S.doit()"
   ]
  },
  {
   "cell_type": "code",
   "execution_count": 57,
   "metadata": {},
   "outputs": [
    {
     "data": {
      "text/latex": [
       "$\\displaystyle 15.3028821020457$"
      ],
      "text/plain": [
       "15.3028821020457"
      ]
     },
     "execution_count": 57,
     "metadata": {},
     "output_type": "execute_result"
    }
   ],
   "source": [
    "S.n()"
   ]
  },
  {
   "cell_type": "code",
   "execution_count": 58,
   "metadata": {},
   "outputs": [
    {
     "data": {
      "text/latex": [
       "$\\displaystyle \\sum_{n=1}^{\\infty} \\frac{\\cos{\\left(n \\right)} + 1}{n}$"
      ],
      "text/plain": [
       "Sum((cos(n) + 1)/n, (n, 1, oo))"
      ]
     },
     "execution_count": 58,
     "metadata": {},
     "output_type": "execute_result"
    }
   ],
   "source": [
    "f = (1 + sm.cos(n)) / n\n",
    "S = sm.Sum(f, (n, 1, sm.oo))\n",
    "S"
   ]
  },
  {
   "cell_type": "code",
   "execution_count": 59,
   "metadata": {},
   "outputs": [
    {
     "data": {
      "text/latex": [
       "$\\displaystyle \\sum_{n=1}^{\\infty} \\frac{\\cos{\\left(n \\right)} + 1}{n}$"
      ],
      "text/plain": [
       "Sum((cos(n) + 1)/n, (n, 1, oo))"
      ]
     },
     "execution_count": 59,
     "metadata": {},
     "output_type": "execute_result"
    }
   ],
   "source": [
    "S.doit()"
   ]
  },
  {
   "cell_type": "code",
   "execution_count": 60,
   "metadata": {},
   "outputs": [
    {
     "data": {
      "text/latex": [
       "$\\displaystyle 3.0 \\cdot 10^{2}$"
      ],
      "text/plain": [
       "0.e+2"
      ]
     },
     "execution_count": 60,
     "metadata": {},
     "output_type": "execute_result"
    }
   ],
   "source": [
    "S.n()"
   ]
  },
  {
   "attachments": {},
   "cell_type": "markdown",
   "metadata": {},
   "source": [
    "## Vectors"
   ]
  },
  {
   "cell_type": "code",
   "execution_count": 61,
   "metadata": {},
   "outputs": [],
   "source": [
    "x, y, z, t = sm.symbols(\"x, y, z, t\")\n",
    "us = sm.symbols(\"u:3\")\n",
    "vs = sm.symbols(\"v:3\")"
   ]
  },
  {
   "cell_type": "code",
   "execution_count": 62,
   "metadata": {},
   "outputs": [
    {
     "data": {
      "text/plain": [
       "(Matrix([[u0, u1, u2]]), Matrix([[v0, v1, v2]]))"
      ]
     },
     "execution_count": 62,
     "metadata": {},
     "output_type": "execute_result"
    }
   ],
   "source": [
    "u = sm.Matrix(us)\n",
    "v = sm.Matrix(vs)\n",
    "u.T, v.T"
   ]
  },
  {
   "cell_type": "code",
   "execution_count": 63,
   "metadata": {},
   "outputs": [
    {
     "data": {
      "text/latex": [
       "$\\displaystyle \\left[\\begin{matrix}2 u_{0} + v_{0}\\\\2 u_{1} + v_{1}\\\\2 u_{2} + v_{2}\\end{matrix}\\right]$"
      ],
      "text/plain": [
       "Matrix([\n",
       "[2*u0 + v0],\n",
       "[2*u1 + v1],\n",
       "[2*u2 + v2]])"
      ]
     },
     "execution_count": 63,
     "metadata": {},
     "output_type": "execute_result"
    }
   ],
   "source": [
    "2*u + v"
   ]
  },
  {
   "cell_type": "code",
   "execution_count": 64,
   "metadata": {},
   "outputs": [
    {
     "data": {
      "text/latex": [
       "$\\displaystyle \\left[\\begin{matrix}u_{0} v_{0} + u_{1} v_{1} + u_{2} v_{2}\\end{matrix}\\right]$"
      ],
      "text/plain": [
       "Matrix([[u0*v0 + u1*v1 + u2*v2]])"
      ]
     },
     "execution_count": 64,
     "metadata": {},
     "output_type": "execute_result"
    }
   ],
   "source": [
    "u.T @ v"
   ]
  },
  {
   "cell_type": "code",
   "execution_count": 65,
   "metadata": {},
   "outputs": [
    {
     "data": {
      "text/latex": [
       "$\\displaystyle u_{0} v_{0} + u_{1} v_{1} + u_{2} v_{2}$"
      ],
      "text/plain": [
       "u0*v0 + u1*v1 + u2*v2"
      ]
     },
     "execution_count": 65,
     "metadata": {},
     "output_type": "execute_result"
    }
   ],
   "source": [
    "u.dot(v)"
   ]
  },
  {
   "cell_type": "code",
   "execution_count": 66,
   "metadata": {},
   "outputs": [
    {
     "data": {
      "text/latex": [
       "$\\displaystyle \\left[\\begin{matrix}u_{1} v_{2} - u_{2} v_{1}\\\\- u_{0} v_{2} + u_{2} v_{0}\\\\u_{0} v_{1} - u_{1} v_{0}\\end{matrix}\\right]$"
      ],
      "text/plain": [
       "Matrix([\n",
       "[ u1*v2 - u2*v1],\n",
       "[-u0*v2 + u2*v0],\n",
       "[ u0*v1 - u1*v0]])"
      ]
     },
     "execution_count": 66,
     "metadata": {},
     "output_type": "execute_result"
    }
   ],
   "source": [
    "u.cross(v)"
   ]
  },
  {
   "cell_type": "code",
   "execution_count": 67,
   "metadata": {},
   "outputs": [
    {
     "data": {
      "text/latex": [
       "$\\displaystyle \\sqrt{\\left|{u_{0}}\\right|^{2} + \\left|{u_{1}}\\right|^{2} + \\left|{u_{2}}\\right|^{2}}$"
      ],
      "text/plain": [
       "sqrt(Abs(u0)**2 + Abs(u1)**2 + Abs(u2)**2)"
      ]
     },
     "execution_count": 67,
     "metadata": {},
     "output_type": "execute_result"
    }
   ],
   "source": [
    "u.norm()"
   ]
  },
  {
   "cell_type": "code",
   "execution_count": 68,
   "metadata": {},
   "outputs": [
    {
     "data": {
      "text/latex": [
       "$\\displaystyle \\left[\\begin{matrix}\\frac{v_{0} \\left(u_{0} v_{0} + u_{1} v_{1} + u_{2} v_{2}\\right)}{\\left|{v_{0}}\\right|^{2} + \\left|{v_{1}}\\right|^{2} + \\left|{v_{2}}\\right|^{2}} & \\frac{v_{1} \\left(u_{0} v_{0} + u_{1} v_{1} + u_{2} v_{2}\\right)}{\\left|{v_{0}}\\right|^{2} + \\left|{v_{1}}\\right|^{2} + \\left|{v_{2}}\\right|^{2}} & \\frac{v_{2} \\left(u_{0} v_{0} + u_{1} v_{1} + u_{2} v_{2}\\right)}{\\left|{v_{0}}\\right|^{2} + \\left|{v_{1}}\\right|^{2} + \\left|{v_{2}}\\right|^{2}}\\end{matrix}\\right]$"
      ],
      "text/plain": [
       "Matrix([[v0*(u0*v0 + u1*v1 + u2*v2)/(Abs(v0)**2 + Abs(v1)**2 + Abs(v2)**2), v1*(u0*v0 + u1*v1 + u2*v2)/(Abs(v0)**2 + Abs(v1)**2 + Abs(v2)**2), v2*(u0*v0 + u1*v1 + u2*v2)/(Abs(v0)**2 + Abs(v1)**2 + Abs(v2)**2)]])"
      ]
     },
     "execution_count": 68,
     "metadata": {},
     "output_type": "execute_result"
    }
   ],
   "source": [
    "unit_v = v / v.norm()**2\n",
    "proj_u_v = u.dot(v) * unit_v\n",
    "proj_u_v.T"
   ]
  },
  {
   "cell_type": "code",
   "execution_count": 69,
   "metadata": {},
   "outputs": [
    {
     "data": {
      "text/latex": [
       "$\\displaystyle \\left[\\begin{matrix}t + 1\\\\2 - t\\\\2 t + 3\\end{matrix}\\right]$"
      ],
      "text/plain": [
       "Matrix([\n",
       "[  t + 1],\n",
       "[  2 - t],\n",
       "[2*t + 3]])"
      ]
     },
     "execution_count": 69,
     "metadata": {},
     "output_type": "execute_result"
    }
   ],
   "source": [
    "r0 = sm.Matrix([1, 2, 3])\n",
    "m = sm.Matrix([1, -1, 2])\n",
    "r = r0 + t * m\n",
    "r"
   ]
  },
  {
   "cell_type": "code",
   "execution_count": 70,
   "metadata": {},
   "outputs": [
    {
     "data": {
      "text/latex": [
       "$\\displaystyle x + y + z - 6$"
      ],
      "text/plain": [
       "x + y + z - 6"
      ]
     },
     "execution_count": 70,
     "metadata": {},
     "output_type": "execute_result"
    }
   ],
   "source": [
    "n = sm.Matrix([1, 1, 1])\n",
    "r = sm.Matrix([x, y, z])\n",
    "p = n.dot(r - r0)\n",
    "p"
   ]
  },
  {
   "cell_type": "code",
   "execution_count": 97,
   "metadata": {},
   "outputs": [
    {
     "data": {
      "text/latex": [
       "$\\displaystyle \\frac{\\pi}{2}$"
      ],
      "text/plain": [
       "pi/2"
      ]
     },
     "execution_count": 97,
     "metadata": {},
     "output_type": "execute_result"
    }
   ],
   "source": [
    "r = sm.Matrix([\n",
    "    sm.sin(t),\n",
    "    sm.cos(t),\n",
    "    t\n",
    "])\n",
    "v = sm.diff(r, t)\n",
    "a = sm.diff(v, t)\n",
    "\n",
    "theta = sm.acos(v.dot(a) / (v.norm() * a.norm()))\n",
    "theta"
   ]
  },
  {
   "cell_type": "code",
   "execution_count": 98,
   "metadata": {},
   "outputs": [
    {
     "data": {
      "image/svg+xml": "<?xml version=\"1.0\" encoding=\"utf-8\" standalone=\"no\"?>\n<!DOCTYPE svg PUBLIC \"-//W3C//DTD SVG 1.1//EN\"\n  \"http://www.w3.org/Graphics/SVG/1.1/DTD/svg11.dtd\">\n<svg xmlns:xlink=\"http://www.w3.org/1999/xlink\" width=\"431.016628pt\" height=\"424.8pt\" viewBox=\"0 0 431.016628 424.8\" xmlns=\"http://www.w3.org/2000/svg\" version=\"1.1\">\n <metadata>\n  <rdf:RDF xmlns:dc=\"http://purl.org/dc/elements/1.1/\" xmlns:cc=\"http://creativecommons.org/ns#\" xmlns:rdf=\"http://www.w3.org/1999/02/22-rdf-syntax-ns#\">\n   <cc:Work>\n    <dc:type rdf:resource=\"http://purl.org/dc/dcmitype/StillImage\"/>\n    <dc:date>2023-01-14T17:58:54.724504</dc:date>\n    <dc:format>image/svg+xml</dc:format>\n    <dc:creator>\n     <cc:Agent>\n      <dc:title>Matplotlib v3.5.2, https://matplotlib.org/</dc:title>\n     </cc:Agent>\n    </dc:creator>\n   </cc:Work>\n  </rdf:RDF>\n </metadata>\n <defs>\n  <style type=\"text/css\">*{stroke-linejoin: round; stroke-linecap: butt}</style>\n </defs>\n <g id=\"figure_1\">\n  <g id=\"patch_1\">\n   <path d=\"M 0 424.8 \nL 431.016628 424.8 \nL 431.016628 0 \nL 0 0 \nL 0 424.8 \nz\n\" style=\"fill: none\"/>\n  </g>\n  <g id=\"patch_2\">\n   <path d=\"M 7.2 417.6 \nL 417.6 417.6 \nL 417.6 7.2 \nL 7.2 7.2 \nz\n\" style=\"fill: #ffffff\"/>\n  </g>\n  <g id=\"pane3d_1\">\n   <g id=\"patch_3\">\n    <path d=\"M 38.18803 316.408512 \nL 173.715513 202.806689 \nL 171.831551 38.972551 \nL 29.81838 142.607295 \n\" style=\"fill: #f2f2f2; opacity: 0.5; stroke: #f2f2f2; stroke-linejoin: miter\"/>\n   </g>\n  </g>\n  <g id=\"pane3d_2\">\n   <g id=\"patch_4\">\n    <path d=\"M 173.715513 202.806689 \nL 391.188767 266.017578 \nL 398.949621 96.540361 \nL 171.831551 38.972551 \n\" style=\"fill: #e6e6e6; opacity: 0.5; stroke: #e6e6e6; stroke-linejoin: miter\"/>\n   </g>\n  </g>\n  <g id=\"pane3d_3\">\n   <g id=\"patch_5\">\n    <path d=\"M 38.18803 316.408512 \nL 268.720301 391.700351 \nL 391.188767 266.017578 \nL 173.715513 202.806689 \n\" style=\"fill: #ececec; opacity: 0.5; stroke: #ececec; stroke-linejoin: miter\"/>\n   </g>\n  </g>\n  <g id=\"axis3d_1\">\n   <g id=\"line2d_1\">\n    <path d=\"M 38.18803 316.408512 \nL 268.720301 391.700351 \n\" style=\"fill: none; stroke: #000000; stroke-width: 0.8; stroke-linecap: square\"/>\n   </g>\n   <g id=\"Line3DCollection_1\">\n    <path d=\"M 52.138182 320.964632 \nL 186.930119 206.647653 \nL 185.604879 42.463688 \n\" style=\"fill: none; stroke: #b0b0b0; stroke-width: 0.8\"/>\n    <path d=\"M 76.290664 328.852832 \nL 209.7924 213.292815 \nL 209.442131 48.505736 \n\" style=\"fill: none; stroke: #b0b0b0; stroke-width: 0.8\"/>\n    <path d=\"M 100.717867 336.830757 \nL 232.893192 220.007303 \nL 233.538807 54.613541 \n\" style=\"fill: none; stroke: #b0b0b0; stroke-width: 0.8\"/>\n    <path d=\"M 125.424506 344.899945 \nL 256.236248 226.792208 \nL 257.899165 60.788182 \n\" style=\"fill: none; stroke: #b0b0b0; stroke-width: 0.8\"/>\n    <path d=\"M 150.415402 353.061972 \nL 279.825399 233.648643 \nL 282.527558 67.030762 \n\" style=\"fill: none; stroke: #b0b0b0; stroke-width: 0.8\"/>\n    <path d=\"M 175.695489 361.318448 \nL 303.664557 240.577745 \nL 307.428434 73.342408 \n\" style=\"fill: none; stroke: #b0b0b0; stroke-width: 0.8\"/>\n    <path d=\"M 201.269818 369.671024 \nL 327.757717 247.580676 \nL 332.60634 79.724273 \n\" style=\"fill: none; stroke: #b0b0b0; stroke-width: 0.8\"/>\n    <path d=\"M 227.143554 378.121386 \nL 352.108962 254.658621 \nL 358.065925 86.177536 \n\" style=\"fill: none; stroke: #b0b0b0; stroke-width: 0.8\"/>\n    <path d=\"M 253.321987 386.671262 \nL 376.72246 261.812793 \nL 383.811942 92.703401 \n\" style=\"fill: none; stroke: #b0b0b0; stroke-width: 0.8\"/>\n   </g>\n   <g id=\"xtick_1\">\n    <g id=\"line2d_2\">\n     <path d=\"M 53.311942 319.969166 \nL 49.785625 322.959835 \n\" style=\"fill: none; stroke: #000000; stroke-width: 0.8; stroke-linecap: square\"/>\n    </g>\n    <g id=\"text_1\">\n     <!-- −1.00 -->\n     <g transform=\"translate(29.296296 344.253221)scale(0.1 -0.1)\">\n      <defs>\n       <path id=\"DejaVuSans-2212\" d=\"M 678 2272 \nL 4684 2272 \nL 4684 1741 \nL 678 1741 \nL 678 2272 \nz\n\" transform=\"scale(0.015625)\"/>\n       <path id=\"DejaVuSans-31\" d=\"M 794 531 \nL 1825 531 \nL 1825 4091 \nL 703 3866 \nL 703 4441 \nL 1819 4666 \nL 2450 4666 \nL 2450 531 \nL 3481 531 \nL 3481 0 \nL 794 0 \nL 794 531 \nz\n\" transform=\"scale(0.015625)\"/>\n       <path id=\"DejaVuSans-2e\" d=\"M 684 794 \nL 1344 794 \nL 1344 0 \nL 684 0 \nL 684 794 \nz\n\" transform=\"scale(0.015625)\"/>\n       <path id=\"DejaVuSans-30\" d=\"M 2034 4250 \nQ 1547 4250 1301 3770 \nQ 1056 3291 1056 2328 \nQ 1056 1369 1301 889 \nQ 1547 409 2034 409 \nQ 2525 409 2770 889 \nQ 3016 1369 3016 2328 \nQ 3016 3291 2770 3770 \nQ 2525 4250 2034 4250 \nz\nM 2034 4750 \nQ 2819 4750 3233 4129 \nQ 3647 3509 3647 2328 \nQ 3647 1150 3233 529 \nQ 2819 -91 2034 -91 \nQ 1250 -91 836 529 \nQ 422 1150 422 2328 \nQ 422 3509 836 4129 \nQ 1250 4750 2034 4750 \nz\n\" transform=\"scale(0.015625)\"/>\n      </defs>\n      <use xlink:href=\"#DejaVuSans-2212\"/>\n      <use xlink:href=\"#DejaVuSans-31\" x=\"83.789062\"/>\n      <use xlink:href=\"#DejaVuSans-2e\" x=\"147.412109\"/>\n      <use xlink:href=\"#DejaVuSans-30\" x=\"179.199219\"/>\n      <use xlink:href=\"#DejaVuSans-30\" x=\"242.822266\"/>\n     </g>\n    </g>\n   </g>\n   <g id=\"xtick_2\">\n    <g id=\"line2d_3\">\n     <path d=\"M 77.453723 327.84608 \nL 73.959526 330.870681 \n\" style=\"fill: none; stroke: #000000; stroke-width: 0.8; stroke-linecap: square\"/>\n    </g>\n    <g id=\"text_2\">\n     <!-- −0.75 -->\n     <g transform=\"translate(53.464622 352.249461)scale(0.1 -0.1)\">\n      <defs>\n       <path id=\"DejaVuSans-37\" d=\"M 525 4666 \nL 3525 4666 \nL 3525 4397 \nL 1831 0 \nL 1172 0 \nL 2766 4134 \nL 525 4134 \nL 525 4666 \nz\n\" transform=\"scale(0.015625)\"/>\n       <path id=\"DejaVuSans-35\" d=\"M 691 4666 \nL 3169 4666 \nL 3169 4134 \nL 1269 4134 \nL 1269 2991 \nQ 1406 3038 1543 3061 \nQ 1681 3084 1819 3084 \nQ 2600 3084 3056 2656 \nQ 3513 2228 3513 1497 \nQ 3513 744 3044 326 \nQ 2575 -91 1722 -91 \nQ 1428 -91 1123 -41 \nQ 819 9 494 109 \nL 494 744 \nQ 775 591 1075 516 \nQ 1375 441 1709 441 \nQ 2250 441 2565 725 \nQ 2881 1009 2881 1497 \nQ 2881 1984 2565 2268 \nQ 2250 2553 1709 2553 \nQ 1456 2553 1204 2497 \nQ 953 2441 691 2322 \nL 691 4666 \nz\n\" transform=\"scale(0.015625)\"/>\n      </defs>\n      <use xlink:href=\"#DejaVuSans-2212\"/>\n      <use xlink:href=\"#DejaVuSans-30\" x=\"83.789062\"/>\n      <use xlink:href=\"#DejaVuSans-2e\" x=\"147.412109\"/>\n      <use xlink:href=\"#DejaVuSans-37\" x=\"179.199219\"/>\n      <use xlink:href=\"#DejaVuSans-35\" x=\"242.822266\"/>\n     </g>\n    </g>\n   </g>\n   <g id=\"xtick_3\">\n    <g id=\"line2d_4\">\n     <path d=\"M 101.869906 335.812525 \nL 98.40879 338.87164 \n\" style=\"fill: none; stroke: #000000; stroke-width: 0.8; stroke-linecap: square\"/>\n    </g>\n    <g id=\"text_3\">\n     <!-- −0.50 -->\n     <g transform=\"translate(77.90852 360.336876)scale(0.1 -0.1)\">\n      <use xlink:href=\"#DejaVuSans-2212\"/>\n      <use xlink:href=\"#DejaVuSans-30\" x=\"83.789062\"/>\n      <use xlink:href=\"#DejaVuSans-2e\" x=\"147.412109\"/>\n      <use xlink:href=\"#DejaVuSans-35\" x=\"179.199219\"/>\n      <use xlink:href=\"#DejaVuSans-30\" x=\"242.822266\"/>\n     </g>\n    </g>\n   </g>\n   <g id=\"xtick_4\">\n    <g id=\"line2d_5\">\n     <path d=\"M 126.565194 343.870036 \nL 123.138149 346.964258 \n\" style=\"fill: none; stroke: #000000; stroke-width: 0.8; stroke-linecap: square\"/>\n    </g>\n    <g id=\"text_4\">\n     <!-- −0.25 -->\n     <g transform=\"translate(102.632728 368.517033)scale(0.1 -0.1)\">\n      <defs>\n       <path id=\"DejaVuSans-32\" d=\"M 1228 531 \nL 3431 531 \nL 3431 0 \nL 469 0 \nL 469 531 \nQ 828 903 1448 1529 \nQ 2069 2156 2228 2338 \nQ 2531 2678 2651 2914 \nQ 2772 3150 2772 3378 \nQ 2772 3750 2511 3984 \nQ 2250 4219 1831 4219 \nQ 1534 4219 1204 4116 \nQ 875 4013 500 3803 \nL 500 4441 \nQ 881 4594 1212 4672 \nQ 1544 4750 1819 4750 \nQ 2544 4750 2975 4387 \nQ 3406 4025 3406 3419 \nQ 3406 3131 3298 2873 \nQ 3191 2616 2906 2266 \nQ 2828 2175 2409 1742 \nQ 1991 1309 1228 531 \nz\n\" transform=\"scale(0.015625)\"/>\n      </defs>\n      <use xlink:href=\"#DejaVuSans-2212\"/>\n      <use xlink:href=\"#DejaVuSans-30\" x=\"83.789062\"/>\n      <use xlink:href=\"#DejaVuSans-2e\" x=\"147.412109\"/>\n      <use xlink:href=\"#DejaVuSans-32\" x=\"179.199219\"/>\n      <use xlink:href=\"#DejaVuSans-35\" x=\"242.822266\"/>\n     </g>\n    </g>\n   </g>\n   <g id=\"xtick_5\">\n    <g id=\"line2d_6\">\n     <path d=\"M 151.544403 352.020183 \nL 148.152443 355.150121 \n\" style=\"fill: none; stroke: #000000; stroke-width: 0.8; stroke-linecap: square\"/>\n    </g>\n    <g id=\"text_5\">\n     <!-- 0.00 -->\n     <g transform=\"translate(131.83194 376.791537)scale(0.1 -0.1)\">\n      <use xlink:href=\"#DejaVuSans-30\"/>\n      <use xlink:href=\"#DejaVuSans-2e\" x=\"63.623047\"/>\n      <use xlink:href=\"#DejaVuSans-30\" x=\"95.410156\"/>\n      <use xlink:href=\"#DejaVuSans-30\" x=\"159.033203\"/>\n     </g>\n    </g>\n   </g>\n   <g id=\"xtick_6\">\n    <g id=\"line2d_7\">\n     <path d=\"M 176.812455 360.264574 \nL 173.456625 363.430849 \n\" style=\"fill: none; stroke: #000000; stroke-width: 0.8; stroke-linecap: square\"/>\n    </g>\n    <g id=\"text_6\">\n     <!-- 0.25 -->\n     <g transform=\"translate(157.131431 385.16203)scale(0.1 -0.1)\">\n      <use xlink:href=\"#DejaVuSans-30\"/>\n      <use xlink:href=\"#DejaVuSans-2e\" x=\"63.623047\"/>\n      <use xlink:href=\"#DejaVuSans-32\" x=\"95.410156\"/>\n      <use xlink:href=\"#DejaVuSans-35\" x=\"159.033203\"/>\n     </g>\n    </g>\n   </g>\n   <g id=\"xtick_7\">\n    <g id=\"line2d_8\">\n     <path d=\"M 202.374391 368.604852 \nL 199.055765 371.808102 \n\" style=\"fill: none; stroke: #000000; stroke-width: 0.8; stroke-linecap: square\"/>\n    </g>\n    <g id=\"text_7\">\n     <!-- 0.50 -->\n     <g transform=\"translate(182.726122 393.630192)scale(0.1 -0.1)\">\n      <use xlink:href=\"#DejaVuSans-30\"/>\n      <use xlink:href=\"#DejaVuSans-2e\" x=\"63.623047\"/>\n      <use xlink:href=\"#DejaVuSans-35\" x=\"95.410156\"/>\n      <use xlink:href=\"#DejaVuSans-30\" x=\"159.033203\"/>\n     </g>\n    </g>\n   </g>\n   <g id=\"xtick_8\">\n    <g id=\"line2d_9\">\n     <path d=\"M 228.235368 377.042701 \nL 224.955049 380.283575 \n\" style=\"fill: none; stroke: #000000; stroke-width: 0.8; stroke-linecap: square\"/>\n    </g>\n    <g id=\"text_8\">\n     <!-- 0.75 -->\n     <g transform=\"translate(208.62121 402.197742)scale(0.1 -0.1)\">\n      <use xlink:href=\"#DejaVuSans-30\"/>\n      <use xlink:href=\"#DejaVuSans-2e\" x=\"63.623047\"/>\n      <use xlink:href=\"#DejaVuSans-37\" x=\"95.410156\"/>\n      <use xlink:href=\"#DejaVuSans-35\" x=\"159.033203\"/>\n     </g>\n    </g>\n   </g>\n   <g id=\"xtick_9\">\n    <g id=\"line2d_10\">\n     <path d=\"M 254.400663 385.579841 \nL 251.159787 388.859008 \n\" style=\"fill: none; stroke: #000000; stroke-width: 0.8; stroke-linecap: square\"/>\n    </g>\n    <g id=\"text_9\">\n     <!-- 1.00 -->\n     <g transform=\"translate(234.822015 410.86644)scale(0.1 -0.1)\">\n      <use xlink:href=\"#DejaVuSans-31\"/>\n      <use xlink:href=\"#DejaVuSans-2e\" x=\"63.623047\"/>\n      <use xlink:href=\"#DejaVuSans-30\" x=\"95.410156\"/>\n      <use xlink:href=\"#DejaVuSans-30\" x=\"159.033203\"/>\n     </g>\n    </g>\n   </g>\n  </g>\n  <g id=\"axis3d_2\">\n   <g id=\"line2d_11\">\n    <path d=\"M 391.188767 266.017578 \nL 268.720301 391.700351 \n\" style=\"fill: none; stroke: #000000; stroke-width: 0.8; stroke-linecap: square\"/>\n   </g>\n   <g id=\"Line3DCollection_2\">\n    <path d=\"M 39.605229 135.465298 \nL 47.494951 308.607267 \nL 277.165083 383.033928 \n\" style=\"fill: none; stroke: #b0b0b0; stroke-width: 0.8\"/>\n    <path d=\"M 56.178779 123.370676 \nL 63.26686 295.38694 \nL 291.464265 368.35945 \n\" style=\"fill: none; stroke: #b0b0b0; stroke-width: 0.8\"/>\n    <path d=\"M 72.424121 111.515566 \nL 78.739992 282.417054 \nL 305.478277 353.977625 \n\" style=\"fill: none; stroke: #b0b0b0; stroke-width: 0.8\"/>\n    <path d=\"M 88.350909 99.892922 \nL 93.922757 269.690559 \nL 319.215567 339.879787 \n\" style=\"fill: none; stroke: #b0b0b0; stroke-width: 0.8\"/>\n    <path d=\"M 103.968421 88.495972 \nL 108.823253 257.200668 \nL 332.684249 326.057606 \n\" style=\"fill: none; stroke: #b0b0b0; stroke-width: 0.8\"/>\n    <path d=\"M 119.28558 77.318207 \nL 123.449279 244.940843 \nL 345.892125 312.503075 \n\" style=\"fill: none; stroke: #b0b0b0; stroke-width: 0.8\"/>\n    <path d=\"M 134.310968 66.353364 \nL 137.808349 232.904786 \nL 358.8467 299.208495 \n\" style=\"fill: none; stroke: #b0b0b0; stroke-width: 0.8\"/>\n    <path d=\"M 149.052842 55.595415 \nL 151.907706 221.086425 \nL 371.555189 286.166459 \n\" style=\"fill: none; stroke: #b0b0b0; stroke-width: 0.8\"/>\n    <path d=\"M 163.519153 45.038561 \nL 165.754332 209.479908 \nL 384.02454 273.369838 \n\" style=\"fill: none; stroke: #b0b0b0; stroke-width: 0.8\"/>\n   </g>\n   <g id=\"xtick_10\">\n    <g id=\"line2d_12\">\n     <path d=\"M 275.229644 382.406732 \nL 281.040966 384.289943 \n\" style=\"fill: none; stroke: #000000; stroke-width: 0.8; stroke-linecap: square\"/>\n    </g>\n    <g id=\"text_10\">\n     <!-- −1.00 -->\n     <g transform=\"translate(274.720602 404.05312)scale(0.1 -0.1)\">\n      <use xlink:href=\"#DejaVuSans-2212\"/>\n      <use xlink:href=\"#DejaVuSans-31\" x=\"83.789062\"/>\n      <use xlink:href=\"#DejaVuSans-2e\" x=\"147.412109\"/>\n      <use xlink:href=\"#DejaVuSans-30\" x=\"179.199219\"/>\n      <use xlink:href=\"#DejaVuSans-30\" x=\"242.822266\"/>\n     </g>\n    </g>\n   </g>\n   <g id=\"xtick_11\">\n    <g id=\"line2d_13\">\n     <path d=\"M 289.542218 367.744821 \nL 295.31328 369.59028 \n\" style=\"fill: none; stroke: #000000; stroke-width: 0.8; stroke-linecap: square\"/>\n    </g>\n    <g id=\"text_11\">\n     <!-- −0.75 -->\n     <g transform=\"translate(288.895521 389.237777)scale(0.1 -0.1)\">\n      <use xlink:href=\"#DejaVuSans-2212\"/>\n      <use xlink:href=\"#DejaVuSans-30\" x=\"83.789062\"/>\n      <use xlink:href=\"#DejaVuSans-2e\" x=\"147.412109\"/>\n      <use xlink:href=\"#DejaVuSans-37\" x=\"179.199219\"/>\n      <use xlink:href=\"#DejaVuSans-35\" x=\"242.822266\"/>\n     </g>\n    </g>\n   </g>\n   <g id=\"xtick_12\">\n    <g id=\"line2d_14\">\n     <path d=\"M 303.569475 353.375191 \nL 309.30072 355.184021 \n\" style=\"fill: none; stroke: #000000; stroke-width: 0.8; stroke-linecap: square\"/>\n    </g>\n    <g id=\"text_12\">\n     <!-- −0.50 -->\n     <g transform=\"translate(302.78764 374.71801)scale(0.1 -0.1)\">\n      <use xlink:href=\"#DejaVuSans-2212\"/>\n      <use xlink:href=\"#DejaVuSans-30\" x=\"83.789062\"/>\n      <use xlink:href=\"#DejaVuSans-2e\" x=\"147.412109\"/>\n      <use xlink:href=\"#DejaVuSans-35\" x=\"179.199219\"/>\n      <use xlink:href=\"#DejaVuSans-30\" x=\"242.822266\"/>\n     </g>\n    </g>\n   </g>\n   <g id=\"xtick_13\">\n    <g id=\"line2d_15\">\n     <path d=\"M 317.319864 339.289187 \nL 323.011729 341.062469 \n\" style=\"fill: none; stroke: #000000; stroke-width: 0.8; stroke-linecap: square\"/>\n    </g>\n    <g id=\"text_13\">\n     <!-- −0.25 -->\n     <g transform=\"translate(316.40534 360.485061)scale(0.1 -0.1)\">\n      <use xlink:href=\"#DejaVuSans-2212\"/>\n      <use xlink:href=\"#DejaVuSans-30\" x=\"83.789062\"/>\n      <use xlink:href=\"#DejaVuSans-2e\" x=\"147.412109\"/>\n      <use xlink:href=\"#DejaVuSans-32\" x=\"179.199219\"/>\n      <use xlink:href=\"#DejaVuSans-35\" x=\"242.822266\"/>\n     </g>\n    </g>\n   </g>\n   <g id=\"xtick_14\">\n    <g id=\"line2d_16\">\n     <path d=\"M 330.8015 325.478495 \nL 336.454424 327.217266 \n\" style=\"fill: none; stroke: #000000; stroke-width: 0.8; stroke-linecap: square\"/>\n    </g>\n    <g id=\"text_14\">\n     <!-- 0.00 -->\n     <g transform=\"translate(333.946515 346.530514)scale(0.1 -0.1)\">\n      <use xlink:href=\"#DejaVuSans-30\"/>\n      <use xlink:href=\"#DejaVuSans-2e\" x=\"63.623047\"/>\n      <use xlink:href=\"#DejaVuSans-30\" x=\"95.410156\"/>\n      <use xlink:href=\"#DejaVuSans-30\" x=\"159.033203\"/>\n     </g>\n    </g>\n   </g>\n   <g id=\"xtick_15\">\n    <g id=\"line2d_17\">\n     <path d=\"M 344.022188 311.935122 \nL 349.636603 313.64038 \n\" style=\"fill: none; stroke: #000000; stroke-width: 0.8; stroke-linecap: square\"/>\n    </g>\n    <g id=\"text_15\">\n     <!-- 0.25 -->\n     <g transform=\"translate(347.039218 332.846281)scale(0.1 -0.1)\">\n      <use xlink:href=\"#DejaVuSans-30\"/>\n      <use xlink:href=\"#DejaVuSans-2e\" x=\"63.623047\"/>\n      <use xlink:href=\"#DejaVuSans-32\" x=\"95.410156\"/>\n      <use xlink:href=\"#DejaVuSans-35\" x=\"159.033203\"/>\n     </g>\n    </g>\n   </g>\n   <g id=\"xtick_16\">\n    <g id=\"line2d_18\">\n     <path d=\"M 356.98943 298.651379 \nL 362.565767 300.324084 \n\" style=\"fill: none; stroke: #000000; stroke-width: 0.8; stroke-linecap: square\"/>\n    </g>\n    <g id=\"text_16\">\n     <!-- 0.50 -->\n     <g transform=\"translate(359.880736 319.424582)scale(0.1 -0.1)\">\n      <use xlink:href=\"#DejaVuSans-30\"/>\n      <use xlink:href=\"#DejaVuSans-2e\" x=\"63.623047\"/>\n      <use xlink:href=\"#DejaVuSans-35\" x=\"95.410156\"/>\n      <use xlink:href=\"#DejaVuSans-30\" x=\"159.033203\"/>\n     </g>\n    </g>\n   </g>\n   <g id=\"xtick_17\">\n    <g id=\"line2d_19\">\n     <path d=\"M 369.710445 285.619874 \nL 375.249131 287.260948 \n\" style=\"fill: none; stroke: #000000; stroke-width: 0.8; stroke-linecap: square\"/>\n    </g>\n    <g id=\"text_17\">\n     <!-- 0.75 -->\n     <g transform=\"translate(372.478228 306.257934)scale(0.1 -0.1)\">\n      <use xlink:href=\"#DejaVuSans-30\"/>\n      <use xlink:href=\"#DejaVuSans-2e\" x=\"63.623047\"/>\n      <use xlink:href=\"#DejaVuSans-37\" x=\"95.410156\"/>\n      <use xlink:href=\"#DejaVuSans-35\" x=\"159.033203\"/>\n     </g>\n    </g>\n   </g>\n   <g id=\"xtick_18\">\n    <g id=\"line2d_20\">\n     <path d=\"M 382.192181 272.833487 \nL 387.693638 274.44382 \n\" style=\"fill: none; stroke: #000000; stroke-width: 0.8; stroke-linecap: square\"/>\n    </g>\n    <g id=\"text_18\">\n     <!-- 1.00 -->\n     <g transform=\"translate(384.838584 293.339135)scale(0.1 -0.1)\">\n      <use xlink:href=\"#DejaVuSans-31\"/>\n      <use xlink:href=\"#DejaVuSans-2e\" x=\"63.623047\"/>\n      <use xlink:href=\"#DejaVuSans-30\" x=\"95.410156\"/>\n      <use xlink:href=\"#DejaVuSans-30\" x=\"159.033203\"/>\n     </g>\n    </g>\n   </g>\n  </g>\n  <g id=\"axis3d_3\">\n   <g id=\"line2d_21\">\n    <path d=\"M 391.188767 266.017578 \nL 398.949621 96.540361 \n\" style=\"fill: none; stroke: #000000; stroke-width: 0.8; stroke-linecap: square\"/>\n   </g>\n   <g id=\"Line3DCollection_3\">\n    <path d=\"M 391.337456 262.770582 \nL 173.679344 199.661302 \nL 38.027942 313.084176 \n\" style=\"fill: none; stroke: #b0b0b0; stroke-width: 0.8\"/>\n    <path d=\"M 392.481838 237.780215 \nL 173.401065 175.461486 \nL 36.795483 287.491377 \n\" style=\"fill: none; stroke: #b0b0b0; stroke-width: 0.8\"/>\n    <path d=\"M 393.641426 212.457785 \nL 173.119266 150.955486 \nL 35.546024 261.545532 \n\" style=\"fill: none; stroke: #b0b0b0; stroke-width: 0.8\"/>\n    <path d=\"M 394.816524 186.796628 \nL 172.833878 126.137452 \nL 34.279208 235.239286 \n\" style=\"fill: none; stroke: #b0b0b0; stroke-width: 0.8\"/>\n    <path d=\"M 396.007448 160.789902 \nL 172.544834 101.001386 \nL 32.994673 208.565076 \n\" style=\"fill: none; stroke: #b0b0b0; stroke-width: 0.8\"/>\n    <path d=\"M 397.214518 134.43058 \nL 172.252061 75.541138 \nL 31.692043 181.515129 \n\" style=\"fill: none; stroke: #b0b0b0; stroke-width: 0.8\"/>\n    <path d=\"M 398.438065 107.711442 \nL 171.955488 49.750393 \nL 30.370934 154.081448 \n\" style=\"fill: none; stroke: #b0b0b0; stroke-width: 0.8\"/>\n   </g>\n   <g id=\"xtick_19\">\n    <g id=\"line2d_22\">\n     <path d=\"M 389.510632 262.2409 \nL 394.995454 263.831206 \n\" style=\"fill: none; stroke: #000000; stroke-width: 0.8; stroke-linecap: square\"/>\n    </g>\n    <g id=\"text_19\">\n     <!-- 0 -->\n     <g transform=\"translate(406.439461 267.765364)scale(0.1 -0.1)\">\n      <use xlink:href=\"#DejaVuSans-30\"/>\n     </g>\n    </g>\n   </g>\n   <g id=\"xtick_20\">\n    <g id=\"line2d_23\">\n     <path d=\"M 390.642505 237.257007 \nL 396.164911 238.827886 \n\" style=\"fill: none; stroke: #000000; stroke-width: 0.8; stroke-linecap: square\"/>\n    </g>\n    <g id=\"text_20\">\n     <!-- 2 -->\n     <g transform=\"translate(407.702031 242.806844)scale(0.1 -0.1)\">\n      <use xlink:href=\"#DejaVuSans-32\"/>\n     </g>\n    </g>\n   </g>\n   <g id=\"xtick_21\">\n    <g id=\"line2d_24\">\n     <path d=\"M 391.789411 211.941269 \nL 397.349921 213.492062 \n\" style=\"fill: none; stroke: #000000; stroke-width: 0.8; stroke-linecap: square\"/>\n    </g>\n    <g id=\"text_21\">\n     <!-- 4 -->\n     <g transform=\"translate(408.981345 217.517339)scale(0.1 -0.1)\">\n      <defs>\n       <path id=\"DejaVuSans-34\" d=\"M 2419 4116 \nL 825 1625 \nL 2419 1625 \nL 2419 4116 \nz\nM 2253 4666 \nL 3047 4666 \nL 3047 1625 \nL 3713 1625 \nL 3713 1100 \nL 3047 1100 \nL 3047 0 \nL 2419 0 \nL 2419 1100 \nL 313 1100 \nL 313 1709 \nL 2253 4666 \nz\n\" transform=\"scale(0.015625)\"/>\n      </defs>\n      <use xlink:href=\"#DejaVuSans-34\"/>\n     </g>\n    </g>\n   </g>\n   <g id=\"xtick_22\">\n    <g id=\"line2d_25\">\n     <path d=\"M 392.951654 186.287032 \nL 398.550794 187.817058 \n\" style=\"fill: none; stroke: #000000; stroke-width: 0.8; stroke-linecap: square\"/>\n    </g>\n    <g id=\"text_22\">\n     <!-- 6 -->\n     <g transform=\"translate(410.277738 191.890219)scale(0.1 -0.1)\">\n      <defs>\n       <path id=\"DejaVuSans-36\" d=\"M 2113 2584 \nQ 1688 2584 1439 2293 \nQ 1191 2003 1191 1497 \nQ 1191 994 1439 701 \nQ 1688 409 2113 409 \nQ 2538 409 2786 701 \nQ 3034 994 3034 1497 \nQ 3034 2003 2786 2293 \nQ 2538 2584 2113 2584 \nz\nM 3366 4563 \nL 3366 3988 \nQ 3128 4100 2886 4159 \nQ 2644 4219 2406 4219 \nQ 1781 4219 1451 3797 \nQ 1122 3375 1075 2522 \nQ 1259 2794 1537 2939 \nQ 1816 3084 2150 3084 \nQ 2853 3084 3261 2657 \nQ 3669 2231 3669 1497 \nQ 3669 778 3244 343 \nQ 2819 -91 2113 -91 \nQ 1303 -91 875 529 \nQ 447 1150 447 2328 \nQ 447 3434 972 4092 \nQ 1497 4750 2381 4750 \nQ 2619 4750 2861 4703 \nQ 3103 4656 3366 4563 \nz\n\" transform=\"scale(0.015625)\"/>\n      </defs>\n      <use xlink:href=\"#DejaVuSans-36\"/>\n     </g>\n    </g>\n   </g>\n   <g id=\"xtick_23\">\n    <g id=\"line2d_26\">\n     <path d=\"M 394.129541 160.287459 \nL 399.767853 161.796017 \n\" style=\"fill: none; stroke: #000000; stroke-width: 0.8; stroke-linecap: square\"/>\n    </g>\n    <g id=\"text_23\">\n     <!-- 8 -->\n     <g transform=\"translate(411.591553 165.91868)scale(0.1 -0.1)\">\n      <defs>\n       <path id=\"DejaVuSans-38\" d=\"M 2034 2216 \nQ 1584 2216 1326 1975 \nQ 1069 1734 1069 1313 \nQ 1069 891 1326 650 \nQ 1584 409 2034 409 \nQ 2484 409 2743 651 \nQ 3003 894 3003 1313 \nQ 3003 1734 2745 1975 \nQ 2488 2216 2034 2216 \nz\nM 1403 2484 \nQ 997 2584 770 2862 \nQ 544 3141 544 3541 \nQ 544 4100 942 4425 \nQ 1341 4750 2034 4750 \nQ 2731 4750 3128 4425 \nQ 3525 4100 3525 3541 \nQ 3525 3141 3298 2862 \nQ 3072 2584 2669 2484 \nQ 3125 2378 3379 2068 \nQ 3634 1759 3634 1313 \nQ 3634 634 3220 271 \nQ 2806 -91 2034 -91 \nQ 1263 -91 848 271 \nQ 434 634 434 1313 \nQ 434 1759 690 2068 \nQ 947 2378 1403 2484 \nz\nM 1172 3481 \nQ 1172 3119 1398 2916 \nQ 1625 2713 2034 2713 \nQ 2441 2713 2670 2916 \nQ 2900 3119 2900 3481 \nQ 2900 3844 2670 4047 \nQ 2441 4250 2034 4250 \nQ 1625 4250 1398 4047 \nQ 1172 3844 1172 3481 \nz\n\" transform=\"scale(0.015625)\"/>\n      </defs>\n      <use xlink:href=\"#DejaVuSans-38\"/>\n     </g>\n    </g>\n   </g>\n   <g id=\"xtick_24\">\n    <g id=\"line2d_27\">\n     <path d=\"M 395.323391 133.935531 \nL 401.001425 135.421896 \n\" style=\"fill: none; stroke: #000000; stroke-width: 0.8; stroke-linecap: square\"/>\n    </g>\n    <g id=\"text_24\">\n     <!-- 10 -->\n     <g transform=\"translate(409.741896 139.59573)scale(0.1 -0.1)\">\n      <use xlink:href=\"#DejaVuSans-31\"/>\n      <use xlink:href=\"#DejaVuSans-30\" x=\"63.623047\"/>\n     </g>\n    </g>\n   </g>\n   <g id=\"xtick_25\">\n    <g id=\"line2d_28\">\n     <path d=\"M 396.533531 107.224036 \nL 402.251851 108.687459 \n\" style=\"fill: none; stroke: #000000; stroke-width: 0.8; stroke-linecap: square\"/>\n    </g>\n    <g id=\"text_25\">\n     <!-- 12 -->\n     <g transform=\"translate(411.091628 112.914188)scale(0.1 -0.1)\">\n      <use xlink:href=\"#DejaVuSans-31\"/>\n      <use xlink:href=\"#DejaVuSans-32\" x=\"63.623047\"/>\n     </g>\n    </g>\n   </g>\n  </g>\n  <g id=\"axes_1\">\n   <g id=\"line2d_29\">\n    <path d=\"M 272.284669 237.442219 \nL 283.987309 239.803845 \nL 294.745364 242.902003 \nL 304.390684 246.674804 \nL 312.765946 251.049979 \nL 319.727107 255.945145 \nL 325.146065 261.268255 \nL 328.913479 266.918237 \nL 330.941677 272.785895 \nL 331.16758 278.755094 \nL 329.5555 284.70426 \nL 326.099685 290.508207 \nL 320.826442 296.040289 \nL 313.795667 301.174845 \nL 305.101623 305.78989 \nL 294.872808 309.76996 \nL 283.270784 313.00904 \nL 270.487918 315.413416 \nL 256.743996 316.904358 \nL 242.281778 317.420459 \nL 227.361615 316.919546 \nL 212.255313 315.380013 \nL 197.239505 312.801521 \nL 182.588802 309.205021 \nL 168.569029 304.632077 \nL 155.430854 299.143552 \nL 143.40405 292.817717 \nL 132.692638 285.747891 \nL 123.471039 278.039745 \nL 115.881332 269.808404 \nL 110.031627 261.175476 \nL 105.995509 252.266144 \nL 103.812445 243.206421 \nL 103.489013 234.120648 \nL 105.000799 225.129299 \nL 108.294775 216.347123 \nL 113.29201 207.881625 \nL 119.890549 199.831881 \nL 127.96833 192.287664 \nL 137.386045 185.32883 \nL 147.989851 179.024937 \nL 159.613909 173.435033 \nL 172.08269 168.607587 \nL 185.213076 164.5805 \nL 198.81626 161.38118 \nL 212.699473 159.026628 \nL 226.667583 157.523533 \nL 240.524621 156.868343 \nL 254.075284 157.047315 \nL 267.126466 158.036542 \nL 279.488888 159.801963 \nL 290.978861 162.299376 \nL 301.420233 165.474473 \nL 310.64655 169.262938 \nL 318.503444 173.59063 \nL 324.851248 178.373906 \nL 329.567807 183.520118 \nL 332.551437 188.928334 \nL 333.723952 194.49032 \nL 333.033643 200.091811 \nL 330.458083 205.614107 \nL 326.006592 210.935977 \nL 319.722189 215.935879 \nL 311.682854 220.494441 \nL 302.001931 224.497149 \nL 290.827519 227.837157 \nL 278.340755 230.418098 \nL 264.752935 232.156786 \nL 250.301493 232.985671 \nL 235.244918 232.85491 \nL 219.856794 231.733952 \nL 204.419176 229.612527 \nL 189.215581 226.500988 \nL 174.523925 222.429977 \nL 160.609693 217.449438 \nL 147.719668 211.627032 \nL 136.076439 205.046044 \nL 125.87392 197.8029 \nL 117.273973 190.004421 \nL 110.404194 181.764965 \nL 105.356847 173.203554 \nL 102.188846 164.441139 \nL 100.922676 155.59806 \nL 101.548066 146.791789 \nL 104.024263 138.134991 \nL 108.282704 129.733921 \nL 114.229936 121.687154 \nL 121.750629 114.084626 \nL 130.71057 107.006959 \nL 140.959522 100.525012 \nL 152.333923 94.699643 \nL 164.659341 89.581601 \nL 177.752719 85.211534 \nL 191.424381 81.620054 \nL 205.479852 78.827841 \nL 219.721511 76.845745 \nL 233.950144 75.674881 \nL 247.966438 75.306696 \nL 261.572484 75.723008 \nL 274.573346 76.896022 \n\" clip-path=\"url(#p4c344a77b3)\" style=\"fill: none; stroke: #1f77b4; stroke-width: 1.5; stroke-linecap: square\"/>\n   </g>\n  </g>\n </g>\n <defs>\n  <clipPath id=\"p4c344a77b3\">\n   <rect x=\"7.2\" y=\"7.2\" width=\"410.4\" height=\"410.4\"/>\n  </clipPath>\n </defs>\n</svg>\n",
      "text/plain": [
       "<Figure size 432x432 with 1 Axes>"
      ]
     },
     "metadata": {
      "needs_background": "light"
     },
     "output_type": "display_data"
    }
   ],
   "source": [
    "t_num = np.linspace(0, 4*np.pi, 100)\n",
    "r_num = sm.lambdify([t], r, modules=\"numpy\")\n",
    "x_num, y_num, z_num = map(methodcaller(\"ravel\"), r_num(t_num))\n",
    "\n",
    "fig = plt.figure(figsize=(6, 6))\n",
    "ax = fig.add_subplot(projection=\"3d\")\n",
    "ax.plot(x_num, y_num, z_num)\n",
    "fig.tight_layout()"
   ]
  },
  {
   "cell_type": "code",
   "execution_count": 105,
   "metadata": {},
   "outputs": [
    {
     "data": {
      "text/latex": [
       "$\\displaystyle \\left[\\begin{matrix}\\sin{\\left(t \\right)}\\\\\\cos{\\left(t \\right)}\\\\t\\end{matrix}\\right]$"
      ],
      "text/plain": [
       "Matrix([\n",
       "[sin(t)],\n",
       "[cos(t)],\n",
       "[     t]])"
      ]
     },
     "execution_count": 105,
     "metadata": {},
     "output_type": "execute_result"
    }
   ],
   "source": [
    "r_integ = sm.Integral(v).doit()\n",
    "r_integ"
   ]
  },
  {
   "cell_type": "code",
   "execution_count": 106,
   "metadata": {},
   "outputs": [
    {
     "data": {
      "text/plain": [
       "True"
      ]
     },
     "execution_count": 106,
     "metadata": {},
     "output_type": "execute_result"
    }
   ],
   "source": [
    "r_integ == r"
   ]
  },
  {
   "cell_type": "code",
   "execution_count": 109,
   "metadata": {},
   "outputs": [
    {
     "data": {
      "text/latex": [
       "$\\displaystyle \\left[\\begin{matrix}\\sin{\\left(t \\right)}\\\\\\cos{\\left(t \\right)}\\\\t\\end{matrix}\\right]$"
      ],
      "text/plain": [
       "Matrix([\n",
       "[sin(t)],\n",
       "[cos(t)],\n",
       "[     t]])"
      ]
     },
     "execution_count": 109,
     "metadata": {},
     "output_type": "execute_result"
    }
   ],
   "source": [
    "r_integ = sm.integrate(v, t)\n",
    "r_integ"
   ]
  },
  {
   "cell_type": "code",
   "execution_count": 112,
   "metadata": {},
   "outputs": [
    {
     "data": {
      "text/latex": [
       "$\\displaystyle 4 \\pi$"
      ],
      "text/plain": [
       "4*pi"
      ]
     },
     "execution_count": 112,
     "metadata": {},
     "output_type": "execute_result"
    }
   ],
   "source": [
    "r_integ = sm.integrate(v, (t, 0, 4*sm.pi))\n",
    "r_integ.norm()"
   ]
  },
  {
   "cell_type": "code",
   "execution_count": 123,
   "metadata": {},
   "outputs": [
    {
     "data": {
      "text/plain": [
       "12.566370614359176"
      ]
     },
     "execution_count": 123,
     "metadata": {},
     "output_type": "execute_result"
    }
   ],
   "source": [
    "v_num = sm.lambdify([t], v, modules=\"numpy\")\n",
    "r_integ = sci.quad_vec(v_num, 0, 4*np.pi)[0]\n",
    "np.linalg.norm(r_integ)"
   ]
  },
  {
   "cell_type": "code",
   "execution_count": 133,
   "metadata": {},
   "outputs": [
    {
     "data": {
      "text/latex": [
       "$\\displaystyle \\sqrt{\\left|{\\sin{\\left(t \\right)}}\\right|^{2} + \\left|{\\cos{\\left(t \\right)}}\\right|^{2} + 1}$"
      ],
      "text/plain": [
       "sqrt(Abs(sin(t))**2 + Abs(cos(t))**2 + 1)"
      ]
     },
     "execution_count": 133,
     "metadata": {},
     "output_type": "execute_result"
    }
   ],
   "source": [
    "norm_dr = sm.diff(r, t).norm()\n",
    "norm_dr"
   ]
  },
  {
   "cell_type": "code",
   "execution_count": 140,
   "metadata": {},
   "outputs": [
    {
     "data": {
      "text/latex": [
       "$\\displaystyle 4 \\sqrt{2} \\pi$"
      ],
      "text/plain": [
       "4*sqrt(2)*pi"
      ]
     },
     "execution_count": 140,
     "metadata": {},
     "output_type": "execute_result"
    }
   ],
   "source": [
    "arc_length = sm.integrate(norm_dr, (t, 0, 4*sm.pi))\n",
    "arc_length"
   ]
  },
  {
   "cell_type": "code",
   "execution_count": 141,
   "metadata": {},
   "outputs": [
    {
     "data": {
      "text/latex": [
       "$\\displaystyle 1.0$"
      ],
      "text/plain": [
       "1.00000000000000"
      ]
     },
     "execution_count": 141,
     "metadata": {},
     "output_type": "execute_result"
    }
   ],
   "source": [
    "norm_dr_num = sm.lambdify([t], norm_dr, modules=\"numpy\")\n",
    "arc_length_num = sci.quad(norm_dr_num, 0, 4*np.pi)[0]\n",
    "arc_length_num / arc_length.evalf()"
   ]
  },
  {
   "cell_type": "code",
   "execution_count": 143,
   "metadata": {},
   "outputs": [
    {
     "data": {
      "text/latex": [
       "$\\displaystyle x \\left(- x \\sin{\\left(x + y \\right)} + 2 \\cos{\\left(x + y \\right)}\\right)$"
      ],
      "text/plain": [
       "x*(-x*sin(x + y) + 2*cos(x + y))"
      ]
     },
     "execution_count": 143,
     "metadata": {},
     "output_type": "execute_result"
    }
   ],
   "source": [
    "f = x**2 * sm.sin(x + y)\n",
    "dfdxy = sm.diff(f, x, y)\n",
    "dfdxy"
   ]
  },
  {
   "cell_type": "code",
   "execution_count": 144,
   "metadata": {},
   "outputs": [
    {
     "data": {
      "text/latex": [
       "$\\displaystyle x \\left(- x \\sin{\\left(x + y \\right)} + 2 \\cos{\\left(x + y \\right)}\\right)$"
      ],
      "text/plain": [
       "x*(-x*sin(x + y) + 2*cos(x + y))"
      ]
     },
     "execution_count": 144,
     "metadata": {},
     "output_type": "execute_result"
    }
   ],
   "source": [
    "dfdyx = sm.diff(f, y, x)\n",
    "dfdyx"
   ]
  },
  {
   "cell_type": "code",
   "execution_count": 145,
   "metadata": {},
   "outputs": [
    {
     "data": {
      "text/plain": [
       "True"
      ]
     },
     "execution_count": 145,
     "metadata": {},
     "output_type": "execute_result"
    }
   ],
   "source": [
    "dfdyx == dfdxy"
   ]
  },
  {
   "cell_type": "code",
   "execution_count": null,
   "metadata": {},
   "outputs": [],
   "source": []
  }
 ],
 "metadata": {
  "kernelspec": {
   "display_name": "Python 3",
   "language": "python",
   "name": "python3"
  },
  "language_info": {
   "codemirror_mode": {
    "name": "ipython",
    "version": 3
   },
   "file_extension": ".py",
   "mimetype": "text/x-python",
   "name": "python",
   "nbconvert_exporter": "python",
   "pygments_lexer": "ipython3",
   "version": "3.10.5"
  },
  "orig_nbformat": 4,
  "vscode": {
   "interpreter": {
    "hash": "3dbf2fdd3bf08fe7555de09ff150e50715bda0a39e2870bf53f93eb7123cd365"
   }
  }
 },
 "nbformat": 4,
 "nbformat_minor": 2
}
