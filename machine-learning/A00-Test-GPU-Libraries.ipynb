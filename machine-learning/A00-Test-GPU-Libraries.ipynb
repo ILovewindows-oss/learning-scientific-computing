{
 "cells": [
  {
   "cell_type": "markdown",
   "id": "51a786ff",
   "metadata": {},
   "source": [
    "# Test GPU availability with ML packages"
   ]
  },
  {
   "cell_type": "code",
   "execution_count": 12,
   "id": "97ad3ac8",
   "metadata": {},
   "outputs": [],
   "source": [
    "import tensorflow as tf\n",
    "import torch"
   ]
  },
  {
   "cell_type": "code",
   "execution_count": 13,
   "id": "f921128d",
   "metadata": {},
   "outputs": [
    {
     "data": {
      "text/plain": [
       "[]"
      ]
     },
     "execution_count": 13,
     "metadata": {},
     "output_type": "execute_result"
    }
   ],
   "source": [
    "tf.config.list_physical_devices('GPU')"
   ]
  },
  {
   "cell_type": "code",
   "execution_count": 14,
   "id": "d92e5888",
   "metadata": {},
   "outputs": [
    {
     "name": "stdout",
     "output_type": "stream",
     "text": [
      "False\n"
     ]
    }
   ],
   "source": [
    "print(torch.cuda.is_available())\n",
    "\n",
    "if (n_devices := torch.cuda.device_count()) > 0:\n",
    "    for device in range(n_devices):\n",
    "        print(torch.cuda.get_device_name(device))\n",
    "        print(torch.cuda.get_device_properties(device))"
   ]
  }
 ],
 "metadata": {
  "kernelspec": {
   "display_name": "Python 3.10.5 64-bit",
   "language": "python",
   "name": "python3"
  },
  "language_info": {
   "codemirror_mode": {
    "name": "ipython",
    "version": 3
   },
   "file_extension": ".py",
   "mimetype": "text/x-python",
   "name": "python",
   "nbconvert_exporter": "python",
   "pygments_lexer": "ipython3",
   "version": "3.10.5"
  },
  "vscode": {
   "interpreter": {
    "hash": "3dbf2fdd3bf08fe7555de09ff150e50715bda0a39e2870bf53f93eb7123cd365"
   }
  }
 },
 "nbformat": 4,
 "nbformat_minor": 5
}
