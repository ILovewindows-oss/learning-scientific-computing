{
 "cells": [
  {
   "cell_type": "markdown",
   "id": "3bba897c-a0e3-4eb1-bb53-8b7966f42f37",
   "metadata": {},
   "source": [
    "# Teaching Model Predictive Control with a Stirred Reactor Example"
   ]
  },
  {
   "cell_type": "markdown",
   "id": "218cfef3-2b7d-4368-ad2a-7df50f83841e",
   "metadata": {},
   "source": [
    "In this study we implement a model predictive control (MPC) for a dummy chemical reactor. This notebook guides you through the different steps of the implementation using the powerful package [CasADi](https://web.casadi.org/) in its Python programming interface. Our goal is to provide controlled concentration output, which may be required to change in time, *i.e.* a costumer order required different concentratio, in a continuous stirred tank reactor. In our dummy production, reagent $A$ is fed to the system with a carrier $B$ to produce $C$, whose concentration is the target. The chemical process is illustrated as the irreversible reaction happening at a known rate $k_1$:\n",
    "\n",
    "$$\n",
    "A + B \\rightarrow B + C\n",
    "$$"
   ]
  },
  {
   "cell_type": "markdown",
   "id": "6f087328-ee3d-468a-a4d4-aebe975776ce",
   "metadata": {},
   "source": [
    "To control the molar fraction of $C$, denoted $x_C$, we play with flow rates of $A$ and $B$ given by $\\dot{q}_A$ and $\\dot{q}_B$. For smooth functioning of the system, the total flow rate is required to remain constant at $\\dot{q}_t$ so that $\\dot{q}_B=\\dot{q}_t-\\dot{q}_A$, *i.e.* a compensation valve is the action we control. That implies we have a single degree of freedom in the actions we can take to pilot this simple system."
   ]
  },
  {
   "cell_type": "markdown",
   "id": "9e715261-e982-43ee-bb43-51aa2bd34930",
   "metadata": {},
   "source": [
    "The reactor volume is kept constant at $n_t$ moles. The following differential equation applies to each chemical species $i$\n",
    "\n",
    "$$\n",
    "n_t\\dot{x}_i = \\dot{q}_i - \\dot{q}_t x_i + \\dot{n}_{gen,i}\n",
    "$$\n",
    "\n",
    "Here $\\dot{n}_{gen,B}$ is zero for $B$ and is computed as a first order kinetic term $\\dot{n}_{gen,A}=-\\dot{n}_{gen,C}=-k_1 x_A$ for other species."
   ]
  },
  {
   "cell_type": "markdown",
   "id": "04986662-b485-40a8-a751-7ba16227d719",
   "metadata": {},
   "source": [
    "To create the optimization routine we will make use of `SX` symbolic class of `casadi`. That will be used to compose right-hand side derivative `Function` objects for later integrating the problem. Optimization of controls is done though solver [Ipopt](https://github.com/coin-or/Ipopt) which can be accessed though interface `nlpsol`. The reminder of imports are utilities that will be invoked at the right moment."
   ]
  },
  {
   "cell_type": "code",
   "execution_count": 1,
   "id": "22d85cac-9b7f-4498-b5a8-e7ed2ac06d76",
   "metadata": {},
   "outputs": [],
   "source": [
    "from casadi import SX\n",
    "from casadi import Function\n",
    "from casadi import nlpsol\n",
    "from casadi import vertcat\n",
    "import numpy as np\n",
    "import matplotlib.pyplot as plt\n",
    "\n",
    "%matplotlib inline"
   ]
  },
  {
   "cell_type": "markdown",
   "id": "ac1165a6-f251-4e78-90ef-bb8ffe4ff290",
   "metadata": {},
   "source": [
    "As stated in the introduction, some quantities are fixed/known. That includes the reaction rate $k_1=10.0\\:\\mathrm{mol\\cdotp{}s^{-1}}$, the size of reactor $n_t=1000.0\\:\\mathrm{mol}$ and the total flow rate of $\\dot{q}_t=3.0\\:\\mathrm{mol\\cdotp{}s^{-1}}$. We declare them here so that we can focus on symbolic manipulations."
   ]
  },
  {
   "cell_type": "code",
   "execution_count": 2,
   "id": "2ece8dd8-cf32-4b04-bbb3-e2849aeaa54d",
   "metadata": {},
   "outputs": [],
   "source": [
    "k_1 = 10.0\n",
    "n_t = 1000.0\n",
    "qdot_t = 3.0"
   ]
  },
  {
   "cell_type": "markdown",
   "id": "bed08522-9245-46d0-b28e-221682e20a5d",
   "metadata": {},
   "source": [
    "There are 3 chemical species being modeled in the fictional system. Using `SX` we create their symbolic variables so that we can profit from `casadi` automatic differentiation for computation of jacobian and hessian matrices required by the optimizer."
   ]
  },
  {
   "cell_type": "code",
   "execution_count": 3,
   "id": "2acd04e5-8f58-4671-87bb-f2504808eec0",
   "metadata": {},
   "outputs": [],
   "source": [
    "x_A = SX.sym(\"x_A\")\n",
    "x_B = SX.sym(\"x_B\")\n",
    "x_C = SX.sym(\"x_C\")"
   ]
  },
  {
   "cell_type": "markdown",
   "id": "b71eba2b-efe6-45f7-ad7a-cf62b9bd07e6",
   "metadata": {},
   "source": [
    "The same is done for flow rate $\\dot{q}_A$ and restriction on total flow is applied.\n",
    "\n",
    "Notice here that we can use numerical `qdot_t` and symbolic `qdot_A` in the same expression."
   ]
  },
  {
   "cell_type": "code",
   "execution_count": 4,
   "id": "0c13db51-cb8a-40d9-999e-20bb5f0280d4",
   "metadata": {},
   "outputs": [],
   "source": [
    "qdot_A = SX.sym(\"qdot_A\")\n",
    "qdot_B = qdot_t - qdot_A"
   ]
  },
  {
   "cell_type": "markdown",
   "id": "10fa47e8-7871-42b8-8848-540497adf59a",
   "metadata": {},
   "source": [
    "Source terms are then computed as previously described.\n",
    "\n",
    "Again we illustrate simultaneous use of symbolics and numerics."
   ]
  },
  {
   "cell_type": "code",
   "execution_count": 5,
   "id": "6c614a94-bd49-4032-97fd-ecc07e4536b1",
   "metadata": {},
   "outputs": [],
   "source": [
    "ndot_gen_A = -k_1 * x_A\n",
    "ndot_gen_B = +0.0\n",
    "ndot_gen_C = -ndot_gen_A"
   ]
  },
  {
   "cell_type": "markdown",
   "id": "b694003d-5ac9-4e52-bc8b-d6fdc0fb9c92",
   "metadata": {},
   "source": [
    "With these elements we are ready to perform the molar balances describing the time-evolution of the system."
   ]
  },
  {
   "cell_type": "code",
   "execution_count": 6,
   "id": "167dd60a-dc0c-4dc6-b5b7-89048d60ad10",
   "metadata": {},
   "outputs": [],
   "source": [
    "xdot_A = (qdot_A - qdot_t * x_A + ndot_gen_A) / n_t\n",
    "xdot_B = (qdot_B - qdot_t * x_B + ndot_gen_B) / n_t\n",
    "xdot_C = (0.0    - qdot_t * x_C + ndot_gen_C) / n_t"
   ]
  },
  {
   "cell_type": "markdown",
   "id": "87c83fcf-64f0-43b9-9897-25ea9c3499dd",
   "metadata": {},
   "source": [
    "To create nice interfaces we group the variables in `x` and `p`. It is common to use these names for the unknowns and control parameters is optimal control problem statements, so they are retained as a good choice."
   ]
  },
  {
   "cell_type": "code",
   "execution_count": 7,
   "id": "5dd75bdb-788a-4dd9-9839-e871cfc579e0",
   "metadata": {},
   "outputs": [],
   "source": [
    "x = vertcat(x_A, x_B, x_C)\n",
    "p = qdot_A"
   ]
  },
  {
   "cell_type": "markdown",
   "id": "4dec6725-49ee-4311-9c05-5bddbeebc9cc",
   "metadata": {},
   "source": [
    "Using `Function` we wrap-up the above expressions. Each function is provided a name, a list of inputs and a list of outputs. Other optional arguments are not used here to name the inputs and outputs and you can check their usage in the [documentation](https://web.casadi.org/docs/)."
   ]
  },
  {
   "cell_type": "code",
   "execution_count": 8,
   "id": "921f16bb-46c6-43e5-a730-9992d13a9350",
   "metadata": {},
   "outputs": [],
   "source": [
    "F_xdot_A = Function(\"F_xdot_A\", [x, p], [xdot_A])\n",
    "F_xdot_B = Function(\"F_xdot_B\", [x, p], [xdot_B])\n",
    "F_xdot_C = Function(\"F_xdot_C\", [x, p], [xdot_C])"
   ]
  },
  {
   "cell_type": "markdown",
   "id": "9d101c4b-e64c-489d-b61e-685a3f44cae4",
   "metadata": {},
   "source": [
    "It is interesting to check the string representation of a `Function`. Here we see that it receives a first input `i0` which is an array of 3 elements and a second number `i1` for the returning a single value `o0`."
   ]
  },
  {
   "cell_type": "code",
   "execution_count": 9,
   "id": "1f3db317-5604-4caf-a877-79ff31704043",
   "metadata": {},
   "outputs": [
    {
     "data": {
      "text/plain": [
       "Function(F_xdot_A:(i0[3],i1)->(o0) SXFunction)"
      ]
     },
     "execution_count": 9,
     "metadata": {},
     "output_type": "execute_result"
    }
   ],
   "source": [
    "F_xdot_A"
   ]
  },
  {
   "cell_type": "markdown",
   "id": "7bde2e1b-ca19-494b-a974-5a309acf9311",
   "metadata": {},
   "source": [
    "We can check the proper functioning of these functions as simple Python objects. It shows that although we have symbolically built the system but numerical evaluation is possible. Return values are of type `DM`, CasADi's way of representing dense matrices (here an order zero matrix, a single number)."
   ]
  },
  {
   "cell_type": "code",
   "execution_count": 10,
   "id": "f25b41a5-105e-496e-91d7-a2f53078612d",
   "metadata": {},
   "outputs": [
    {
     "data": {
      "text/plain": [
       "(DM(0.0035), DM(-0.0085), DM(0.005))"
      ]
     },
     "execution_count": 10,
     "metadata": {},
     "output_type": "execute_result"
    }
   ],
   "source": [
    "F_xdot_A([0.5, 0.5, 0], 10),\\\n",
    "F_xdot_B([0.5, 0.5, 0], 10),\\\n",
    "F_xdot_C([0.5, 0.5, 0], 10)"
   ]
  },
  {
   "cell_type": "markdown",
   "id": "d3ff6a48-7a9a-4aea-92f2-4340c695d0b4",
   "metadata": {},
   "source": [
    "The model being ready we can start the conception of our controller. The numbers we need to choose here require domain knowledge. The first is the prediction horizon $N_p$. It must be long enough so that the optimization routine foresees the dynamics of the system to apply corrections in time. But this value alone has no sense without the definition of the time-step $\\tau$ between consective corrective actions. This again must take into consideration the delays system response and the valve itself in this specific case. Here we chose to take into account the next 1500 s of the dynamics through 100 steps of 15 s.\n",
    "\n",
    "**Note:** the time-step $\\tau$ may be the same used for integration of the problem, but you may use a smaller value if during each length $\\tau$ you keep the control action constant. This might be required when dealing with stiff differential equations of system model, *i.e.* a combustion process or complex gas pressure control."
   ]
  },
  {
   "cell_type": "code",
   "execution_count": 11,
   "id": "2c2c8b3a-0ad3-4c60-abf0-d95a491ba25a",
   "metadata": {},
   "outputs": [],
   "source": [
    "Np = 100\n",
    "tau = 15.0"
   ]
  },
  {
   "cell_type": "markdown",
   "id": "d7e42c6d-a186-400d-85da-fd6e269d5474",
   "metadata": {},
   "source": [
    "The composition of the cost function in MPC also requires domain knowledge. The scale of the problem is usually selected to be one of deviation of main controlled variable so the mutiplier of quadratic term $Q$ is set to unity (or identity matrix in more complex multidimensional formulations). We should also pay attention to the change in command, so another quadratic term penalizing important changes is added to cost function. Its scaling $R$ has to be chosen so that is remains in a good order of magnitude compared to target variable cost and still perform its function. The last parameter $S$ is the terminal penalization, generally set to a high value so that we enforce the last point in prediction horizon to match the set-point."
   ]
  },
  {
   "cell_type": "code",
   "execution_count": 12,
   "id": "f6a641ab-546a-42c6-b31d-bbbfd808f835",
   "metadata": {},
   "outputs": [],
   "source": [
    "Q = 1.0\n",
    "R = 0.05\n",
    "S = 100.0"
   ]
  },
  {
   "cell_type": "markdown",
   "id": "32c70bcd-4f25-4a6e-adce-ac59ee5293da",
   "metadata": {},
   "source": [
    "Because of limitations of our compensation valve, the fraction of $A$ in the total flow is limited to 85% of total feed rate. Initially it is found to be at 50% of the total capacity."
   ]
  },
  {
   "cell_type": "code",
   "execution_count": 13,
   "id": "105c7340-e62f-4be4-9675-6bc1659f3c79",
   "metadata": {},
   "outputs": [],
   "source": [
    "x_A_max = 0.85\n",
    "qdot0_A = 0.5*qdot_t"
   ]
  },
  {
   "cell_type": "markdown",
   "id": "5b8b6821-af0b-4e72-b798-9826277d60c8",
   "metadata": {},
   "source": [
    "Next we create our cost function `J` set initially to zero and the list of constraints `g`."
   ]
  },
  {
   "cell_type": "code",
   "execution_count": 14,
   "id": "0d389c19-62da-48c4-92db-50d5a8a1c8b5",
   "metadata": {},
   "outputs": [],
   "source": [
    "J = 0.0\n",
    "g = []"
   ]
  },
  {
   "cell_type": "markdown",
   "id": "14752abd-5e6a-468c-a24b-02dc0328dd2f",
   "metadata": {},
   "source": [
    "The production planning already knows the target concentration (set-point) over the prediction horizon so that we can construct our cost function. It is symbolically declared in `xs_C` and contains one extra point over `Np` representing the current state of the reactor."
   ]
  },
  {
   "cell_type": "code",
   "execution_count": 15,
   "id": "0117c5e2-8591-4a13-8cd2-53c63e175bbc",
   "metadata": {},
   "outputs": [],
   "source": [
    "xs_C = SX.sym(\"xs_C\", Np+1)"
   ]
  },
  {
   "cell_type": "markdown",
   "id": "7d71b5a3-c339-4bc7-9921-3fa7320b200a",
   "metadata": {},
   "source": [
    "We also need lower and upper boundaries of our solution variable, here the controller command for the flow rate of $A$. It can be set from zero (we are not aiming the production of $C$) up to the maximum amount it can be set, here 85% of total flow rate. Same is done for the commands at each step sent to the valve."
   ]
  },
  {
   "cell_type": "code",
   "execution_count": 16,
   "id": "6b2663df-8d55-42da-996b-403fd7c03f16",
   "metadata": {},
   "outputs": [],
   "source": [
    "lbx = [0.0]\n",
    "ubx = [x_A_max*qdot_t]\n",
    "v_qdot_A = [SX.sym(f\"v_dot_A_0\")]"
   ]
  },
  {
   "cell_type": "markdown",
   "id": "597c773b-f3d6-4616-ab2f-cd82d006e840",
   "metadata": {},
   "source": [
    "The initial state of the system is set to the symbols we already know (later we will replace them by numeric *measurements*). Notice that in this tutorial case we are handling the variables individually, but in a real-world problem you would probably use a vector with all variables as we edd in `x` before."
   ]
  },
  {
   "cell_type": "code",
   "execution_count": 17,
   "id": "736c82ec-976a-4c97-adaa-6481970198b1",
   "metadata": {},
   "outputs": [],
   "source": [
    "xt_A = x_A\n",
    "xt_B = x_B\n",
    "xt_C = x_C"
   ]
  },
  {
   "cell_type": "markdown",
   "id": "b6726f02-98e9-4d02-a042-e4455084e6d7",
   "metadata": {},
   "source": [
    "Finally we integrate the problem over time. The loop is composed of a few characteristic steps:\n",
    "- Creation of a command variable `v_qdot_a_ts` for the current step.\n",
    "- Bounding the values of control variable throughs `lbx` and `ubx`.\n",
    "- Stacking of current system state in `xn` and current commands in `pn`.\n",
    "- Actual time integration of the system dynamics.\n",
    "- Increment of cost function with current deviations.\n",
    "- Add constraints (not done here) to the states and controls.\n",
    "\n",
    "Below you will recognize a simple Euler time-stepping. Again, in real-world problems you would at least use a Runge-Kutta order 4 integration. As it was said before, you might need to use an internal (smaller) time-step for very stiff problems, situation where the states `xn` would be internally updated but the command `pn` would be held constant.\n",
    "\n",
    "**Note:** in real-world you would probably use a multiple-shooting approach to simultaneously simulate and optimize the problem. For keeping this tutorial focused on the main ideas it was chosen to exploit this simpler approach (from the implementation standpoint)."
   ]
  },
  {
   "cell_type": "code",
   "execution_count": 18,
   "id": "45e868e6-4189-4050-a74f-4649f2ae6820",
   "metadata": {},
   "outputs": [],
   "source": [
    "for ts in range(1, Np+1):\n",
    "    v_qdot_A_ts = SX.sym(f\"v_dot_A_{ts}\")\n",
    "    v_qdot_A.append(v_qdot_A_ts)\n",
    "    \n",
    "    lbx.append(0.0)\n",
    "    ubx.append(x_A_max*qdot_t)\n",
    "\n",
    "    xn = vertcat(xt_A, xt_B, xt_C)\n",
    "    pn = v_qdot_A_ts\n",
    "        \n",
    "    xt_A = xt_A + tau * F_xdot_A(xn, pn)\n",
    "    xt_B = xt_B + tau * F_xdot_B(xn, pn)\n",
    "    xt_C = xt_C + tau * F_xdot_C(xn, pn)\n",
    "    \n",
    "    J += Q * pow(xt_C - xs_C[ts], 2) +\\\n",
    "         R * pow(v_qdot_A_ts - v_qdot_A[ts-1], 2)"
   ]
  },
  {
   "cell_type": "markdown",
   "id": "15ab7871-abe2-48db-9def-c33a3c0593fb",
   "metadata": {},
   "source": [
    "Since initial flow rate is already known, we add a constraint to its value. It is uppon the call of optimizer that we will tell that this value must be zero."
   ]
  },
  {
   "cell_type": "code",
   "execution_count": 19,
   "id": "8ff7d484-dc22-43f7-92eb-8c15b83cef53",
   "metadata": {},
   "outputs": [],
   "source": [
    "g.append(v_qdot_A[0] - qdot0_A)"
   ]
  },
  {
   "cell_type": "markdown",
   "id": "1d62c9a1-fce0-48cb-8088-5901a4d2e755",
   "metadata": {},
   "source": [
    "To complete the cost function, the terminal cost is added with scale `S`."
   ]
  },
  {
   "cell_type": "code",
   "execution_count": 20,
   "id": "8d4eaa45-ace5-441e-8066-e1792f87a8d6",
   "metadata": {},
   "outputs": [],
   "source": [
    "J += S * pow(xt_C - xs_C[-1], 2)"
   ]
  },
  {
   "cell_type": "markdown",
   "id": "ea56ca29-1e4c-4bc6-b1bc-f360a198248c",
   "metadata": {},
   "source": [
    "The assembly of the system to be solved made below. Here we have chosen to optimize the problem with Ipopt as a nonlinear problem. In some cases you might wish to use a quadratic solver, but it imposes some limitations in problem formulation. You should do that when solving as a NLP is too slow for your problem. In CasADi's representation `f` denotes the cost, `x` the free variables (the commands here), `g` the constraints list, and `p` the parameters, values that were left in symbolic form and we need to provide numerically. Here `p` is the array of set-points and the system initial state. Interface `nlpsol` allows for creating a solver, which may be used many times later."
   ]
  },
  {
   "cell_type": "code",
   "execution_count": 21,
   "id": "9abaaa19-16e7-4c3a-99be-25f220faa08a",
   "metadata": {},
   "outputs": [],
   "source": [
    "nlp = {\n",
    "    \"f\": J,\n",
    "    \"x\": vertcat(*v_qdot_A), \n",
    "    \"g\": vertcat(*g),\n",
    "    \"p\": vertcat(xs_C, x)\n",
    "}\n",
    "solver = nlpsol(\"solver\", \"ipopt\", nlp)"
   ]
  },
  {
   "cell_type": "markdown",
   "id": "8866aa98-058d-47d7-b0b3-06ced025364c",
   "metadata": {},
   "source": [
    "Below we see the interface of the solver with the sizes of the arrays we must provide."
   ]
  },
  {
   "cell_type": "code",
   "execution_count": 22,
   "id": "7ac68e2e-e107-4d19-aa42-64f4cda22338",
   "metadata": {},
   "outputs": [
    {
     "data": {
      "text/plain": [
       "Function(solver:(x0[101],p[104],lbx[101],ubx[101],lbg,ubg,lam_x0[101],lam_g0)->(x[101],f,g,lam_x[101],lam_g,lam_p[104]) IpoptInterface)"
      ]
     },
     "execution_count": 22,
     "metadata": {},
     "output_type": "execute_result"
    }
   ],
   "source": [
    "solver"
   ]
  },
  {
   "cell_type": "markdown",
   "id": "ed9e112b-44bd-4d75-96d5-ed5601459ba3",
   "metadata": {},
   "source": [
    "Let's now compose the parameters array. For the set-point `xs_C_num` consider that you need the solution to be delivered with a concentration of 30% in the first 75 steps (3/4 of prediction horizon) of $C$ and for the next lot the concetration must be increased to 60%. Below we create and array with that."
   ]
  },
  {
   "cell_type": "code",
   "execution_count": 23,
   "id": "9e29860f-bbf5-4338-92a0-3358ea47471c",
   "metadata": {},
   "outputs": [],
   "source": [
    "xs_C_num = np.zeros(Np+1)\n",
    "xs_C_num[:3*Np//4] = 0.3\n",
    "xs_C_num[3*Np//4:] = 0.6"
   ]
  },
  {
   "cell_type": "markdown",
   "id": "113d2e4d-88fe-4a71-8107-732cc0fe7333",
   "metadata": {},
   "source": [
    "At the initial time the system is composed only of $B$, the second element in our composition array. With that we can merge the arrays in the format expected by the solver (as declared above) to provide `p`."
   ]
  },
  {
   "cell_type": "code",
   "execution_count": 24,
   "id": "18905b06-09d7-4263-9bfa-c1b31acae8ff",
   "metadata": {},
   "outputs": [],
   "source": [
    "x0_num = [0.0, 1.0, 0.0]\n",
    "p = [*xs_C_num, *x0_num]"
   ]
  },
  {
   "cell_type": "markdown",
   "id": "19fa95c9-93c7-48d1-86dc-e43f7da9680c",
   "metadata": {},
   "source": [
    "Call of the solver is mostly trivial. If this is the first call to the solver, normally provide an initial guess composed of a fixed value that makes sense to your system. Here an array of ones was chosen. When using the solver in an actual control loop, generally the results of last call are provided. Since we have a single constraint in `g`, it suffices to provide `lbg=ubg=0.0` to enforce the initial flow rate to the prescribed value. Call can be a bit verbose and you might want to log it in a production environment."
   ]
  },
  {
   "cell_type": "code",
   "execution_count": 25,
   "id": "2c22a4b8-0275-4b29-9f57-cadb7261e9b0",
   "metadata": {},
   "outputs": [
    {
     "name": "stdout",
     "output_type": "stream",
     "text": [
      "\n",
      "******************************************************************************\n",
      "This program contains Ipopt, a library for large-scale nonlinear optimization.\n",
      " Ipopt is released as open source code under the Eclipse Public License (EPL).\n",
      "         For more information visit https://github.com/coin-or/Ipopt\n",
      "******************************************************************************\n",
      "\n",
      "This is Ipopt version 3.14.4, running with linear solver MUMPS 5.4.1.\n",
      "\n",
      "Number of nonzeros in equality constraint Jacobian...:        1\n",
      "Number of nonzeros in inequality constraint Jacobian.:        0\n",
      "Number of nonzeros in Lagrangian Hessian.............:     4954\n",
      "\n",
      "Total number of variables............................:      101\n",
      "                     variables with only lower bounds:        0\n",
      "                variables with lower and upper bounds:      101\n",
      "                     variables with only upper bounds:        0\n",
      "Total number of equality constraints.................:        1\n",
      "Total number of inequality constraints...............:        0\n",
      "        inequality constraints with only lower bounds:        0\n",
      "   inequality constraints with lower and upper bounds:        0\n",
      "        inequality constraints with only upper bounds:        0\n",
      "\n",
      "iter    objective    inf_pr   inf_du lg(mu)  ||d||  lg(rg) alpha_du alpha_pr  ls\n",
      "   0  1.6918907e+01 5.00e-01 5.81e-01  -1.0 0.00e+00    -  0.00e+00 0.00e+00   0\n",
      "   1  1.2250164e+01 0.00e+00 2.31e-01  -1.0 5.00e-01    -  7.07e-01 1.00e+00f  1\n",
      "   2  5.7590447e+00 0.00e+00 1.47e-01  -1.7 6.01e-01    -  7.34e-01 1.00e+00f  1\n",
      "   3  2.5077325e+00 0.00e+00 3.26e-02  -2.5 4.37e-01    -  7.88e-01 1.00e+00f  1\n",
      "   4  1.5218922e+00 0.00e+00 1.55e-02  -2.5 5.31e-01    -  8.50e-01 1.00e+00f  1\n",
      "   5  1.1782613e+00 0.00e+00 7.02e-03  -3.8 3.73e-01    -  8.70e-01 1.00e+00f  1\n",
      "   6  1.0551276e+00 0.00e+00 2.36e-03  -3.8 2.09e-01    -  9.10e-01 1.00e+00f  1\n",
      "   7  1.0171965e+00 0.00e+00 3.50e-16  -3.8 1.41e-01    -  1.00e+00 1.00e+00f  1\n",
      "   8  1.0034264e+00 0.00e+00 1.23e-04  -5.7 7.27e-02    -  9.44e-01 9.70e-01f  1\n",
      "   9  1.0007878e+00 0.00e+00 1.43e-05  -5.7 3.25e-02    -  1.00e+00 9.92e-01f  1\n",
      "iter    objective    inf_pr   inf_du lg(mu)  ||d||  lg(rg) alpha_du alpha_pr  ls\n",
      "  10  1.0005680e+00 0.00e+00 1.08e-16  -5.7 1.10e-02    -  1.00e+00 1.00e+00f  1\n",
      "  11  1.0004858e+00 0.00e+00 5.23e-05  -8.6 4.67e-03    -  1.00e+00 9.03e-01f  1\n",
      "  12  1.0004759e+00 0.00e+00 3.30e-07  -8.6 2.40e-03    -  1.00e+00 9.99e-01f  1\n",
      "  13  1.0004756e+00 0.00e+00 4.08e-16  -8.6 1.11e-03    -  1.00e+00 1.00e+00f  1\n",
      "  14  1.0004755e+00 0.00e+00 1.11e-16  -8.6 5.47e-04    -  1.00e+00 1.00e+00f  1\n",
      "  15  1.0004755e+00 0.00e+00 1.65e-16  -8.6 2.63e-04    -  1.00e+00 1.00e+00f  1\n",
      "\n",
      "Number of Iterations....: 15\n",
      "\n",
      "                                   (scaled)                 (unscaled)\n",
      "Objective...............:   1.0004754913567611e+00    1.0004754913567611e+00\n",
      "Dual infeasibility......:   1.6479873021779667e-16    1.6479873021779667e-16\n",
      "Constraint violation....:   0.0000000000000000e+00    0.0000000000000000e+00\n",
      "Variable bound violation:   0.0000000000000000e+00    0.0000000000000000e+00\n",
      "Complementarity.........:   9.3985015831363353e-09    9.3985015831363353e-09\n",
      "Overall NLP error.......:   9.3985015831363353e-09    9.3985015831363353e-09\n",
      "\n",
      "\n",
      "Number of objective function evaluations             = 16\n",
      "Number of objective gradient evaluations             = 16\n",
      "Number of equality constraint evaluations            = 16\n",
      "Number of inequality constraint evaluations          = 0\n",
      "Number of equality constraint Jacobian evaluations   = 16\n",
      "Number of inequality constraint Jacobian evaluations = 0\n",
      "Number of Lagrangian Hessian evaluations             = 15\n",
      "Total seconds in IPOPT                               = 0.018\n",
      "\n",
      "EXIT: Optimal Solution Found.\n",
      "      solver  :   t_proc      (avg)   t_wall      (avg)    n_eval\n",
      "       nlp_f  | 147.00us (  9.19us) 146.70us (  9.17us)        16\n",
      "       nlp_g  |  55.00us (  3.44us)  36.97us (  2.31us)        16\n",
      "    nlp_grad  |  21.00us ( 21.00us)  20.32us ( 20.32us)         1\n",
      "  nlp_grad_f  | 257.00us ( 15.12us) 243.65us ( 14.33us)        17\n",
      "  nlp_hess_l  |   5.38ms (358.73us)   5.34ms (355.87us)        15\n",
      "   nlp_jac_g  |  35.00us (  2.06us)  34.24us (  2.01us)        17\n",
      "       total  |  18.47ms ( 18.47ms)  18.14ms ( 18.14ms)         1\n"
     ]
    }
   ],
   "source": [
    "solution = solver(x0=np.ones(Np+1), p=p, lbx=lbx, ubx=ubx, lbg=0.0, ubg=0.0)"
   ]
  },
  {
   "cell_type": "markdown",
   "id": "0e50ed54-1dbe-41ec-a2b3-5a823bfbb711",
   "metadata": {},
   "source": [
    "Below we recover the solution for reuse in system simulation. Observe that the simulation loop is essentially the same as the construction of the cost function but we implement just the time-stepping routines."
   ]
  },
  {
   "cell_type": "code",
   "execution_count": 26,
   "id": "bd844b33-cb47-4edd-8e75-848850f21577",
   "metadata": {},
   "outputs": [],
   "source": [
    "qdot_A_opt = solution[\"x\"].full().ravel()\n",
    "\n",
    "xt_A = np.zeros(Np+1)\n",
    "xt_B = np.zeros(Np+1)\n",
    "xt_C = np.zeros(Np+1)\n",
    "\n",
    "xt_A[0] = x0_num[0]\n",
    "xt_B[0] = x0_num[1]\n",
    "xt_C[0] = x0_num[2]\n",
    "\n",
    "for ts in range(1, Np+1):\n",
    "    xn = vertcat(xt_A[ts-1], xt_B[ts-1], xt_C[ts-1])\n",
    "    pn = qdot_A_opt[ts-1]\n",
    "        \n",
    "    xt_A[ts] = xt_A[ts-1] + tau * F_xdot_A(xn, pn)\n",
    "    xt_B[ts] = xt_B[ts-1] + tau * F_xdot_B(xn, pn)\n",
    "    xt_C[ts] = xt_C[ts-1] + tau * F_xdot_C(xn, pn)"
   ]
  },
  {
   "cell_type": "markdown",
   "id": "691a0b0d-3c42-4d20-959e-c10658906c35",
   "metadata": {},
   "source": [
    "According to the quality deparment, the product is good to be delivered if its concentration is anywhere withing 5% of the prescribed value. A boolean array `good` is created for displaying. This could be used to predict when the exit valve feed barrels of product or when it should recycle/throw the output."
   ]
  },
  {
   "cell_type": "code",
   "execution_count": 27,
   "id": "7be41c2e-82ca-4f70-8d38-edb56aa4c8f9",
   "metadata": {},
   "outputs": [],
   "source": [
    "xs_C_max = np.clip(xs_C_num + 0.05, 0.0, 1.0)\n",
    "xs_C_min = np.clip(xs_C_num - 0.05, 0.0, 1.0)\n",
    "good = (xt_C >= xs_C_min) & (xt_C <= xs_C_max)"
   ]
  },
  {
   "cell_type": "markdown",
   "id": "677b665a-845e-452a-ad8e-f0485448a339",
   "metadata": {},
   "source": [
    "The next figure illustrates the expected dynamical behavior of the system. First concentration of $C$ rises from zero to the prescribed value in about 20 steps, and because of the change in set-point it starts deviating from target at step 60 to reach the new value. It is also interesting to observe that command saturates at 85%, what indicates that production of the second target is a limiting case for this reactor. We respected the process window during 58.4% of the time."
   ]
  },
  {
   "cell_type": "code",
   "execution_count": 28,
   "id": "3571e6c5-f6b0-47ad-b8d9-b8d4da10445b",
   "metadata": {},
   "outputs": [
    {
     "data": {
      "image/png": "[encoded data removed]",
      "text/plain": [
       "<Figure size 1200x600 with 1 Axes>"
      ]
     },
     "metadata": {},
     "output_type": "display_data"
    }
   ],
   "source": [
    "steps = list(range(Np+1))\n",
    "quality = 100 * sum(good.astype(\"u8\")) / len(good)\n",
    "\n",
    "plt.style.use(\"default\")\n",
    "plt.figure(figsize=(12, 6))\n",
    "plt.grid(linestyle=\":\")\n",
    "plt.plot(steps, xt_A, label=\"$X_A$\")\n",
    "plt.plot(steps, xt_B, label=\"$X_B$\")\n",
    "plt.plot(steps, xt_C, lw=4, label=\"$X_C$\")\n",
    "plt.step(steps, xs_C_max, \"k:\", label=\"_none_\")\n",
    "plt.step(steps, xs_C_min, \"k:\", label=\"_none_\")\n",
    "plt.step(steps, xs_C_num, lw=4, label=\"$X_C$ (target)\")\n",
    "plt.step(steps, qdot_A_opt / qdot_t, label=\"$Q_A$ (relative)\", where=\"post\")\n",
    "plt.fill_between(steps, xs_C_min, xs_C_max, where=good, alpha=0.3)\n",
    "plt.title(f\"Expected quality level at {quality:.1f}%\")\n",
    "plt.ylabel(\"Mole fractions and relative flow rate of A\")\n",
    "plt.xlabel(\"Action step number over prediction horizon\")\n",
    "plt.legend(loc=4, fancybox=True,  framealpha=1.0)\n",
    "plt.xlim(0, Np)\n",
    "plt.tight_layout()"
   ]
  },
  {
   "cell_type": "markdown",
   "id": "44c16eb4-8738-4bb4-bfb8-94be3fbbe37f",
   "metadata": {},
   "source": [
    "There are many ways you could propose exercises from this guided study:\n",
    "- Implement a higher order time-stepping scheme.\n",
    "- Provide simultaneous simulation/optimization with multiple-shooting.\n",
    "- Investigate role of total flow rate or reactor size over quality.\n",
    "- Use the solver in a simulated control loop with random noise in measurements.\n",
    "- ..."
   ]
  }
 ],
 "metadata": {
  "kernelspec": {
   "display_name": "Python 3 (ipykernel)",
   "language": "python",
   "name": "python3"
  },
  "language_info": {
   "codemirror_mode": {
    "name": "ipython",
    "version": 3
   },
   "file_extension": ".py",
   "mimetype": "text/x-python",
   "name": "python",
   "nbconvert_exporter": "python",
   "pygments_lexer": "ipython3",
   "version": "3.10.4"
  }
 },
 "nbformat": 4,
 "nbformat_minor": 5
}
