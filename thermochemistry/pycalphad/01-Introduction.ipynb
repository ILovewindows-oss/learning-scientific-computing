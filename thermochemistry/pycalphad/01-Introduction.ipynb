{
 "cells": [
  {
   "cell_type": "code",
   "execution_count": null,
   "metadata": {},
   "outputs": [],
   "source": [
    "from majordome.utilities import Capturing\n",
    "from pycalphad import Database\n",
    "from pycalphad import calculate\n",
    "from pycalphad import equilibrium\n",
    "from pycalphad import variables as v\n",
    "import matplotlib.pyplot as plt\n",
    "import numpy as np\n",
    "import pandas as pd\n",
    "\n",
    "%matplotlib inline"
   ]
  },
  {
   "cell_type": "code",
   "execution_count": null,
   "metadata": {},
   "outputs": [],
   "source": [
    "def compute_equilibrium(T, X):\n",
    "    \"\"\" Compute a single phase equilibrium. \"\"\"\n",
    "    conditions = {**X, v.T: T, v.P:101325.0, v.N: 1}\n",
    "    res = equilibrium(tdb, comps, phases, conditions)\n",
    "\n",
    "    df = pd.DataFrame({\n",
    "        \"phase\": res[\"Phase\"].to_numpy().ravel(),\n",
    "        \"moles\": res[\"NP\"].to_numpy().ravel(),\n",
    "        \"T\": T\n",
    "    })\n",
    "\n",
    "    df = df.loc[df[\"phase\"] != \"\"]\n",
    "    return df"
   ]
  },
  {
   "cell_type": "code",
   "execution_count": null,
   "metadata": {},
   "outputs": [],
   "source": [
    "def scan_temperature(Tmin, Tmax, steps, X):\n",
    "    \"\"\" Compute equilibria over temperature range. \"\"\"\n",
    "    data = []\n",
    "\n",
    "    for T in np.linspace(Tmin, Tmax, steps):\n",
    "        df = compute_equilibrium(T, X)\n",
    "\n",
    "        if df.empty:\n",
    "            print(f\"Failed at {T}K\")\n",
    "            continue\n",
    "\n",
    "        data.append(df)\n",
    "    \n",
    "    return pd.concat(data)"
   ]
  },
  {
   "cell_type": "code",
   "execution_count": null,
   "metadata": {},
   "outputs": [],
   "source": [
    "def plot_phase_fractions(df):\n",
    "    \"\"\" Plot phase fractions over scanned range. \"\"\"\n",
    "    plt.close(\"all\")\n",
    "    plt.style.use(\"seaborn-white\")\n",
    "    fig, ax = plt.subplots(figsize=(8, 6))\n",
    "    df.plot(ax=ax)\n",
    "    ax.grid(linestyle=\":\")\n",
    "    ax.set_xlabel(\"Temperature [K]\")\n",
    "    ax.set_ylabel(\"Phase Fraction [-]\")\n",
    "    fig.tight_layout()"
   ]
  },
  {
   "cell_type": "code",
   "execution_count": null,
   "metadata": {},
   "outputs": [],
   "source": [
    "tdb = Database(\"../tdb/hallstedt1990.tdb\")\n",
    "\n",
    "comps = [\"AL\", \"CA\", \"O\", \"VA\"]\n",
    "\n",
    "phases = list(tdb.phases.keys())"
   ]
  },
  {
   "cell_type": "code",
   "execution_count": null,
   "metadata": {},
   "outputs": [],
   "source": [
    "CAO = {v.X(\"AL\"): 0.0, v.X(\"CA\"): 0.5}\n",
    "COR = {v.X(\"AL\"): 2/3, v.X(\"CA\"): 0.0}\n",
    "\n",
    "C3A1 = {v.X(\"AL\"): 2/11, v.X(\"CA\"): 3/11+1/10000}\n",
    "C1A1 = {v.X(\"AL\"): 2/7, v.X(\"CA\"): 1/7}\n",
    "C1A2 = {v.X(\"AL\"): 4/12, v.X(\"CA\"): 1/12}\n",
    "C1A6 = {v.X(\"AL\"): 12/32, v.X(\"CA\"): 1/32}"
   ]
  },
  {
   "cell_type": "code",
   "execution_count": null,
   "metadata": {},
   "outputs": [],
   "source": [
    "C1A2"
   ]
  },
  {
   "cell_type": "code",
   "execution_count": null,
   "metadata": {},
   "outputs": [],
   "source": [
    "Tmin = 1000.0\n",
    "Tmax = 3500.0\n",
    "steps = 300"
   ]
  },
  {
   "cell_type": "code",
   "execution_count": null,
   "metadata": {},
   "outputs": [],
   "source": [
    "X = C3A1\n",
    "with Capturing() as output:\n",
    "    data = scan_temperature(Tmin, Tmax, steps, X)\n",
    "    df = pd.pivot_table(data, values=\"moles\", index=\"T\", columns=\"phase\")"
   ]
  },
  {
   "cell_type": "code",
   "execution_count": null,
   "metadata": {},
   "outputs": [],
   "source": [
    "plot_phase_fractions(df)"
   ]
  },
  {
   "cell_type": "code",
   "execution_count": null,
   "metadata": {},
   "outputs": [],
   "source": [
    "X = C1A1\n",
    "with Capturing() as output:\n",
    "    data = scan_temperature(Tmin, Tmax, steps, X)\n",
    "    df = pd.pivot_table(data, values=\"moles\", index=\"T\", columns=\"phase\")"
   ]
  },
  {
   "cell_type": "code",
   "execution_count": null,
   "metadata": {},
   "outputs": [],
   "source": [
    "plot_phase_fractions(df)"
   ]
  },
  {
   "cell_type": "code",
   "execution_count": null,
   "metadata": {},
   "outputs": [],
   "source": [
    "X = C1A2\n",
    "with Capturing() as output:\n",
    "    data = scan_temperature(Tmin, Tmax, steps, X)\n",
    "    df = pd.pivot_table(data, values=\"moles\", index=\"T\", columns=\"phase\")"
   ]
  },
  {
   "cell_type": "code",
   "execution_count": null,
   "metadata": {},
   "outputs": [],
   "source": [
    "plot_phase_fractions(df)"
   ]
  },
  {
   "cell_type": "code",
   "execution_count": null,
   "metadata": {},
   "outputs": [],
   "source": [
    "X = C1A6\n",
    "with Capturing() as output:\n",
    "    data = scan_temperature(Tmin, Tmax, steps, X)\n",
    "    df = pd.pivot_table(data, values=\"moles\", index=\"T\", columns=\"phase\")"
   ]
  },
  {
   "cell_type": "code",
   "execution_count": null,
   "metadata": {},
   "outputs": [],
   "source": [
    "plot_phase_fractions(df)"
   ]
  },
  {
   "cell_type": "code",
   "execution_count": null,
   "metadata": {},
   "outputs": [],
   "source": [
    "X = CAO\n",
    "with Capturing() as output:\n",
    "    data = scan_temperature(Tmin, Tmax, steps, X)\n",
    "    df = pd.pivot_table(data, values=\"moles\", index=\"T\", columns=\"phase\")"
   ]
  },
  {
   "cell_type": "code",
   "execution_count": null,
   "metadata": {},
   "outputs": [],
   "source": [
    "plot_phase_fractions(df)"
   ]
  },
  {
   "cell_type": "code",
   "execution_count": null,
   "metadata": {},
   "outputs": [],
   "source": [
    "X = COR\n",
    "with Capturing() as output:\n",
    "    data = scan_temperature(Tmin, Tmax, steps, X)\n",
    "    df = pd.pivot_table(data, values=\"moles\", index=\"T\", columns=\"phase\")"
   ]
  },
  {
   "cell_type": "code",
   "execution_count": null,
   "metadata": {},
   "outputs": [],
   "source": [
    "plot_phase_fractions(df)"
   ]
  }
 ],
 "metadata": {
  "kernelspec": {
   "display_name": "Python 3 (ipykernel)",
   "language": "python",
   "name": "python3"
  },
  "language_info": {
   "codemirror_mode": {
    "name": "ipython",
    "version": 3
   },
   "file_extension": ".py",
   "mimetype": "text/x-python",
   "name": "python",
   "nbconvert_exporter": "python",
   "pygments_lexer": "ipython3",
   "version": "3.10.4"
  },
  "vscode": {
   "interpreter": {
    "hash": "916dbcbb3f70747c44a77c7bcd40155683ae19c65e1c03b4aa3499c5328201f1"
   }
  }
 },
 "nbformat": 4,
 "nbformat_minor": 2
}
