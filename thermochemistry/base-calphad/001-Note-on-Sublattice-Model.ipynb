{
 "cells": [
  {
   "cell_type": "markdown",
   "metadata": {},
   "source": [
    "## CALPHAD: site-fractions in 3 sublattice phase\n",
    "\n",
    "In this notebook we show that a 3 sublattice phase with 2 components in a binary system introduces a new variable to the optimization, *i.e.* minimization of Gibbs energy, of the system. Assume a phase such as $\\gamma-AlMg$ with a model $(Mg)_{5}(Mg,Al)_{12}(Al,Mg)_{12}$. For simplicity in what follows we denote it as $(A)_{5}(A,B)_{12}(B,A)_{12}$.\n",
    "\n",
    "In terms of composition, such a binary system is defined by a single molar fraction of, say, component $A$, $x_A$, the amount of $x_B$ determined by balance:"
   ]
  },
  {
   "cell_type": "code",
   "execution_count": 1,
   "metadata": {},
   "outputs": [],
   "source": [
    "from sympy import symbols\n",
    "from sympy import solve"
   ]
  },
  {
   "cell_type": "code",
   "execution_count": 2,
   "metadata": {},
   "outputs": [
    {
     "data": {
      "text/plain": [
       "(x_A, 1 - x_A)"
      ]
     },
     "execution_count": 2,
     "metadata": {},
     "output_type": "execute_result"
    }
   ],
   "source": [
    "x_A = symbols(\"x_A\")\n",
    "x_B = 1 - x_A\n",
    "\n",
    "x_A, x_B"
   ]
  },
  {
   "cell_type": "markdown",
   "metadata": {},
   "source": [
    "Since in the first sublattice only element $A$ is present, it has  unit site fraction. Just to keep formal we introduce symbols for the site fractions in this first sublattice."
   ]
  },
  {
   "cell_type": "code",
   "execution_count": 3,
   "metadata": {},
   "outputs": [
    {
     "data": {
      "text/plain": [
       "(1, 0)"
      ]
     },
     "execution_count": 3,
     "metadata": {},
     "output_type": "execute_result"
    }
   ],
   "source": [
    "y_A1 = 1\n",
    "y_B1 = 1 - y_A1\n",
    "\n",
    "y_A1, y_B1"
   ]
  },
  {
   "cell_type": "markdown",
   "metadata": {},
   "source": [
    "The remaining unknowns are the site fractions in sublattice 2 and 3. Again, the sum of fractions is unit and a single value per sublattice completely defines the system:"
   ]
  },
  {
   "cell_type": "code",
   "execution_count": 4,
   "metadata": {},
   "outputs": [
    {
     "data": {
      "text/plain": [
       "(y_A2, 1 - y_A2, y_A3, 1 - y_A3)"
      ]
     },
     "execution_count": 4,
     "metadata": {},
     "output_type": "execute_result"
    }
   ],
   "source": [
    "y_A2, y_A3 = symbols(\"y_A2 y_A3\")\n",
    "\n",
    "y_B2 = 1 - y_A2\n",
    "y_B3 = 1 - y_A3\n",
    "\n",
    "y_A2, y_B2, y_A3, y_B3"
   ]
  },
  {
   "cell_type": "markdown",
   "metadata": {},
   "source": [
    "The site fraction being defined as the occupancy of a given sublattice $k$ with $N_s$ sites by the element in question, say $y_{A}^{(k)} = N_{a} / N_{s}$, then the number of moles $N_{a} = y_{A}^{(k)} N_{s}$. The mole fraction $x_{A}$ is then $\\sum N_{A}/N_{t}$, with $N_{t}=\\sum N_{s}$, the number of sites in the phase. For the phase in question $N_{t}=29$ and the mole fraction balances for both elements can be written as:"
   ]
  },
  {
   "cell_type": "code",
   "execution_count": 5,
   "metadata": {},
   "outputs": [],
   "source": [
    "expr1 = 29 * x_A - (5 * y_A1 + 12 * y_A2 + 12 * y_A3)\n",
    "expr2 = 29 * x_B - (5 * y_B1 + 12 * y_B2 + 12 * y_B3)"
   ]
  },
  {
   "cell_type": "code",
   "execution_count": 6,
   "metadata": {},
   "outputs": [
    {
     "data": {
      "text/latex": [
       "$\\displaystyle 29 x_{A} - 12 y_{A2} - 12 y_{A3} - 5$"
      ],
      "text/plain": [
       "29*x_A - 12*y_A2 - 12*y_A3 - 5"
      ]
     },
     "execution_count": 6,
     "metadata": {},
     "output_type": "execute_result"
    }
   ],
   "source": [
    "expr1"
   ]
  },
  {
   "cell_type": "code",
   "execution_count": 7,
   "metadata": {},
   "outputs": [
    {
     "data": {
      "text/latex": [
       "$\\displaystyle - 29 x_{A} + 12 y_{A2} + 12 y_{A3} + 5$"
      ],
      "text/plain": [
       "-29*x_A + 12*y_A2 + 12*y_A3 + 5"
      ]
     },
     "execution_count": 7,
     "metadata": {},
     "output_type": "execute_result"
    }
   ],
   "source": [
    "expr2"
   ]
  },
  {
   "cell_type": "markdown",
   "metadata": {},
   "source": [
    "From the constraints previously introduced, these expressions obviously add up to zero. We have nonetheless the constraint of $y_{A}^{(3)}$ in terms of $y_{A}^{(2)}$"
   ]
  },
  {
   "cell_type": "code",
   "execution_count": 8,
   "metadata": {},
   "outputs": [
    {
     "data": {
      "text/latex": [
       "$\\displaystyle \\frac{29 x_{A}}{12} - y_{A2} - \\frac{5}{12}$"
      ],
      "text/plain": [
       "29*x_A/12 - y_A2 - 5/12"
      ]
     },
     "execution_count": 8,
     "metadata": {},
     "output_type": "execute_result"
    }
   ],
   "source": [
    "sol_expr2 = solve(expr2, y_A3)[0]\n",
    "sol_expr2"
   ]
  },
  {
   "cell_type": "markdown",
   "metadata": {},
   "source": [
    "Which can be replaced in first expression and show the indeterminacy of the system:"
   ]
  },
  {
   "cell_type": "code",
   "execution_count": 9,
   "metadata": {},
   "outputs": [
    {
     "data": {
      "text/latex": [
       "$\\displaystyle 0$"
      ],
      "text/plain": [
       "0"
      ]
     },
     "execution_count": 9,
     "metadata": {},
     "output_type": "execute_result"
    }
   ],
   "source": [
    "expr1.replace(y_A3, sol_expr2)"
   ]
  }
 ],
 "metadata": {
  "kernelspec": {
   "display_name": "Python 3.10.5 64-bit",
   "language": "python",
   "name": "python3"
  },
  "language_info": {
   "codemirror_mode": {
    "name": "ipython",
    "version": 3
   },
   "file_extension": ".py",
   "mimetype": "text/x-python",
   "name": "python",
   "nbconvert_exporter": "python",
   "pygments_lexer": "ipython3",
   "version": "3.10.5"
  },
  "vscode": {
   "interpreter": {
    "hash": "3dbf2fdd3bf08fe7555de09ff150e50715bda0a39e2870bf53f93eb7123cd365"
   }
  }
 },
 "nbformat": 4,
 "nbformat_minor": 4
}
