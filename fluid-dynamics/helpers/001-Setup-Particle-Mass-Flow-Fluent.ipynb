{
 "cells": [
  {
   "cell_type": "markdown",
   "metadata": {},
   "source": [
    "# Setup of particle mass flow rate in Fluent DEM"
   ]
  },
  {
   "cell_type": "markdown",
   "metadata": {},
   "source": [
    "When setting up a DPM model with DEM interactions enabled, one is often found with the need to pre-initialize the system with a particle filling. This is not supported by Ansys Fluent and some trick can be used as proposed [here](https://www.youtube.com/watch?v=snKyEOxwnys). The idea is to release all the particles at a very short interval when simulation starts. This notebook provides a means of computing the mass flow rate compatible with this release time and particle distribution.\n",
    "\n",
    "We start by importing required external packages."
   ]
  },
  {
   "cell_type": "code",
   "execution_count": 1,
   "metadata": {},
   "outputs": [],
   "source": [
    "import numpy as np"
   ]
  },
  {
   "cell_type": "markdown",
   "metadata": {},
   "source": [
    "In Fluent built-in DEM particles are assumed to be spheric, thus we introduce the following functions."
   ]
  },
  {
   "cell_type": "code",
   "execution_count": 2,
   "metadata": {},
   "outputs": [],
   "source": [
    "def sphere_volume(R: float) -> float:\n",
    "    \"\"\" Compute the volume of an sphere. \"\"\"\n",
    "    return (4 / 3) * np.pi * pow(R, 3)\n",
    "\n",
    "\n",
    "def sphere_mass(rho: float, R: float) -> float:\n",
    "    \"\"\" Returns the mass of a single particle. \"\"\"\n",
    "    return rho * sphere_volume(R)"
   ]
  },
  {
   "cell_type": "markdown",
   "metadata": {},
   "source": [
    "Assuming a known radii distribution, the mass flow rate of particles can be computed by integrating (*i.e* adding up) the mass of particles and dividing the result by the release time used in the start of unsteady simulation."
   ]
  },
  {
   "cell_type": "code",
   "execution_count": 3,
   "metadata": {},
   "outputs": [],
   "source": [
    "def dist_mass_flow(rho: float, radii: list[float], inj_time: float) -> float:\n",
    "    \"\"\" Mass flow of particles to be injected. \"\"\"\n",
    "    return sum(sphere_mass(rho, radii)) / inj_time"
   ]
  },
  {
   "cell_type": "markdown",
   "metadata": {},
   "source": [
    "Now let's get to a practical example. Assume you want to inject during a short time of `inj_time = 1.0e-08` seconds a number of `num_part = 100` particles of specific weight `rho = 2320.0` in the domain. Particle size distribution is known and of constant radius `R_min = 0.01` meter (notice that this is compatible with `linear` option in Ansys Fluent, you can use other distributions to compute radii of particles). Since the software expects a mass flow rate input, this can be computed as follows."
   ]
  },
  {
   "cell_type": "code",
   "execution_count": 4,
   "metadata": {},
   "outputs": [
    {
     "data": {
      "text/plain": [
       "97179932.75104448"
      ]
     },
     "execution_count": 4,
     "metadata": {},
     "output_type": "execute_result"
    }
   ],
   "source": [
    "inj_time = 1.0e-08\n",
    "\n",
    "num_part = 100\n",
    "rho = 2320.0\n",
    "\n",
    "R_min = 0.01\n",
    "R_max = R_min\n",
    "\n",
    "radii = np.linspace(R_min, R_max, num_part)\n",
    "mass = dist_mass_flow(rho, radii, inj_time)\n",
    "\n",
    "mass"
   ]
  },
  {
   "cell_type": "markdown",
   "metadata": {},
   "source": [
    "That's a pretty high value because of the short release time. It is recommended to run a single fluid time-step (which must be larger than the selected value for release time) and check by the end of integration if (approximately) the right number of particles is found inside the domain."
   ]
  }
 ],
 "metadata": {
  "kernelspec": {
   "display_name": "Python 3.9.9 64-bit",
   "language": "python",
   "name": "python3"
  },
  "language_info": {
   "codemirror_mode": {
    "name": "ipython",
    "version": 3
   },
   "file_extension": ".py",
   "mimetype": "text/x-python",
   "name": "python",
   "nbconvert_exporter": "python",
   "pygments_lexer": "ipython3",
   "version": "3.9.9"
  },
  "orig_nbformat": 4,
  "vscode": {
   "interpreter": {
    "hash": "11938c6bc6919ae2720b4d5011047913343b08a43b18698fd82dedb0d4417594"
   }
  }
 },
 "nbformat": 4,
 "nbformat_minor": 2
}
