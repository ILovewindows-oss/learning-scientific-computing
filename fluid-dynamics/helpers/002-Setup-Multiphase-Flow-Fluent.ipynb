{
 "cells": [
  {
   "cell_type": "markdown",
   "metadata": {},
   "source": [
    "# Selecting a multiphase model in Ansys Fluent"
   ]
  },
  {
   "cell_type": "markdown",
   "metadata": {},
   "source": [
    "**NOTE:** this notebook is simply a support to model selection based on a few notes taken from Ansys Fluent Theory Guide 2022R1. Do not base your model selection simply on these assumptions, other factors and domain knowledge being the most relevant factors."
   ]
  },
  {
   "cell_type": "code",
   "execution_count": 1,
   "metadata": {},
   "outputs": [],
   "source": [
    "import numpy as np\n",
    "\n",
    "\n",
    "def material_density_ratio(rho_d, rho_c):\n",
    "    \"\"\" Ansys Fluent Theory Guide 2022R1 (14.2). \"\"\"\n",
    "    return rho_d / rho_c\n",
    "\n",
    "\n",
    "def particulate_loading_two_phase(alpha_d, gamma):\n",
    "    \"\"\" Ansys Fluent Theory Guide 2022R1 (14.1). \"\"\"\n",
    "    return gamma * alpha_d / (1 - alpha_d)\n",
    "\n",
    "\n",
    "def particle_distance_crowe(alpha_d):\n",
    "    \"\"\" Ansys Fluent Theory Guide 2022R1 (14.3).\n",
    "\n",
    "    See Crowe et al [116] Chapter 2 for details.\n",
    "    \"\"\"\n",
    "    return pow(np.pi / (6 * alpha_d), 1/3)\n",
    "\n",
    "\n",
    "def particle_response_time(rho_d, diam, mu_c):\n",
    "    \"\"\" Response time for a particle in a fluid. \"\"\"\n",
    "    return rho_d * pow(diam, 2) / (18 * mu_c)\n",
    "\n",
    "\n",
    "def system_response_time(L_s, V_s):\n",
    "    \"\"\" Response time for a a fluid. \"\"\"\n",
    "    return L_s / V_s\n",
    "\n",
    "\n",
    "def stokes_number(rho_d, diam, mu_c, L_s, V_s):\n",
    "    \"\"\" Particle to system response time ratio (Stokes number). \"\"\"\n",
    "    tau_d = particle_response_time(rho_d, diam, mu_c)\n",
    "    tau_c = system_response_time(L_s, V_s)\n",
    "\n",
    "    print(f\"\\n**** TIME RESPONSES ****\")\n",
    "    print(f\"Particle response time ............. {tau_d:.6f} s\")\n",
    "    print(f\"System response time ............... {tau_c:.6f} s\")\n",
    "\n",
    "    return tau_d / tau_c\n",
    "\n",
    "\n",
    "def multiphase_model(rho_c: float, rho_d: float, alpha_d: float,\n",
    "                     diam: float, mu_c: float, L_s: float, V_s: float,\n",
    "                     combustion: bool = False, granular: bool = False,\n",
    "                     stratified_or_slug: bool = False,\n",
    "                     beta_lims: list[float] = [0.001, 0.1],\n",
    "                     stokes_lims: list[float] = [0.01, 0.9, 1.1]):\n",
    "    \"\"\" Helper to select a multiphase model/approach. \"\"\"\n",
    "    gamma = material_density_ratio(rho_d, rho_c)\n",
    "    beta = particulate_loading_two_phase(alpha_d, gamma)\n",
    "    dist = particle_distance_crowe(alpha_d)\n",
    "    st = stokes_number(rho_d, diam, mu_c, L_s, V_s)\n",
    "\n",
    "    print(f\"\\n**** BASE REPORT ****\")\n",
    "    print(f\"Material density ratio ............. {gamma:.6f}\")\n",
    "    print(f\"Particulate loading factor ......... {beta:.6f}\")\n",
    "    print(f\"Characteristic particle distance ... {dist:.6f}\")\n",
    "    print(f\"Stokes number ...................... {st:.6f}\")\n",
    "\n",
    "    print(f\"\\n**** SUGGESTED APPROACH ****\")\n",
    "\n",
    "    if st < stokes_lims[0]:\n",
    "        print(f\"No conclusion based on low Stokes number {st:.6f}\")\n",
    "        print(f\"Disregarding other factors, probably use mixture model\")\n",
    "    elif st >= stokes_lims[1] and st < stokes_lims[2]:\n",
    "        print(f\"No conclusion based on Stockes number {st:.6f} ~ 1\")\n",
    "    else:\n",
    "        print(f\"Particle flow is independent of fluid with Stokes {st:.6f}\")\n",
    "        print(f\"Adapted models in this case are DPM or Eulerian model\")\n",
    "\n",
    "    if combustion:\n",
    "        print(f\"Only DPM model is adapted to particulate combustion\")\n",
    "        return\n",
    "    \n",
    "    if granular:\n",
    "        print(f\"Disregading other factors, probably use Eulerian model\")\n",
    "\n",
    "    if stratified_or_slug:\n",
    "        print(f\"Stratified/slug flow must be treated with VOF\")\n",
    "        return\n",
    "\n",
    "    if beta <= beta_lims[0]:\n",
    "        print(f\"1-way coupling: low loading detected = {beta:.6f}\")\n",
    "        print(f\"Recommended models are DPM or mixture model\")\n",
    "    elif beta <= beta_lims[1]:\n",
    "        print(f\"2-way coupling: intermediate loading detected = {beta:.6f}\")\n",
    "        print(f\"Possible models are DPM or Eulerian model\")\n",
    "    else:\n",
    "        print(f\"4-way coupling: high loading detected = {beta:.6f}\")\n",
    "        print(f\"Only Eulerian model is compatible\")"
   ]
  },
  {
   "cell_type": "markdown",
   "metadata": {},
   "source": [
    "## Example - coal classifier"
   ]
  },
  {
   "cell_type": "code",
   "execution_count": 2,
   "metadata": {},
   "outputs": [
    {
     "name": "stdout",
     "output_type": "stream",
     "text": [
      "\n",
      "**** TIME RESPONSES ****\n",
      "Particle response time ............. 0.004000 s\n",
      "System response time ............... 0.100000 s\n",
      "\n",
      "**** BASE REPORT ****\n",
      "Material density ratio ............. 1206.666667\n",
      "Particulate loading factor ......... 1.207875\n",
      "Characteristic particle distance ... 8.059960\n",
      "Stokes number ...................... 0.040000\n",
      "\n",
      "**** SUGGESTED APPROACH ****\n",
      "Particle flow is independent of fluid with Stokes 0.040000\n",
      "Adapted models in this case are DPM or Eulerian model\n",
      "Disregading other factors, probably use Eulerian model\n",
      "4-way coupling: high loading detected = 1.207875\n",
      "Only Eulerian model is compatible\n"
     ]
    }
   ],
   "source": [
    "rho_d = 1448.0\n",
    "rho_c = 1.2\n",
    "alpha_d = 0.001\n",
    "diam = 30e-06\n",
    "mu_c = 1.81e-05\n",
    "L_s = 1.0\n",
    "V_s = 10.0\n",
    "\n",
    "multiphase_model(rho_c, rho_d, alpha_d, diam, mu_c, L_s, V_s,\n",
    "                 combustion=False, granular=True,\n",
    "                 stratified_or_slug=False)"
   ]
  },
  {
   "cell_type": "markdown",
   "metadata": {},
   "source": [
    "## Example - mineral processing"
   ]
  },
  {
   "cell_type": "code",
   "execution_count": 3,
   "metadata": {},
   "outputs": [
    {
     "name": "stdout",
     "output_type": "stream",
     "text": [
      "\n",
      "**** TIME RESPONSES ****\n",
      "Particle response time ............. 0.000500 s\n",
      "System response time ............... 0.100000 s\n",
      "\n",
      "**** BASE REPORT ****\n",
      "Material density ratio ............. 2666.666667\n",
      "Particulate loading factor ......... 2666.666667\n",
      "Characteristic particle distance ... 1.015491\n",
      "Stokes number ...................... 0.005000\n",
      "\n",
      "**** SUGGESTED APPROACH ****\n",
      "No conclusion based on low Stokes number 0.005000\n",
      "Disregarding other factors, probably use mixture model\n",
      "Disregading other factors, probably use Eulerian model\n",
      "4-way coupling: high loading detected = 2666.666667\n",
      "Only Eulerian model is compatible\n"
     ]
    }
   ],
   "source": [
    "rho_d = 3200.0\n",
    "rho_c = 1.2\n",
    "alpha_d = 0.5\n",
    "diam = 300e-06\n",
    "mu_c = 0.032\n",
    "L_s = 0.2\n",
    "V_s = 2.0\n",
    "\n",
    "multiphase_model(rho_c, rho_d, alpha_d, diam, mu_c, L_s, V_s,\n",
    "                 combustion=False, granular=True,\n",
    "                 stratified_or_slug=False)"
   ]
  },
  {
   "cell_type": "markdown",
   "metadata": {},
   "source": [
    "## Example - coal combustion"
   ]
  },
  {
   "cell_type": "code",
   "execution_count": 4,
   "metadata": {},
   "outputs": [
    {
     "name": "stdout",
     "output_type": "stream",
     "text": [
      "\n",
      "**** TIME RESPONSES ****\n",
      "Particle response time ............. 0.001645 s\n",
      "System response time ............... 0.100000 s\n",
      "\n",
      "**** BASE REPORT ****\n",
      "Material density ratio ............. 4826.666667\n",
      "Particulate loading factor ......... 0.482715\n",
      "Characteristic particle distance ... 17.364657\n",
      "Stokes number ...................... 0.016455\n",
      "\n",
      "**** SUGGESTED APPROACH ****\n",
      "Particle flow is independent of fluid with Stokes 0.016455\n",
      "Adapted models in this case are DPM or Eulerian model\n",
      "Only DPM model is adapted to particulate combustion\n"
     ]
    }
   ],
   "source": [
    "rho_d = 1448.0\n",
    "rho_c = 0.3\n",
    "alpha_d = 0.0001\n",
    "diam = 30e-06\n",
    "mu_c = 4.4e-05\n",
    "L_s = 1.0\n",
    "V_s = 10.0\n",
    "\n",
    "multiphase_model(rho_c, rho_d, alpha_d, diam, mu_c, L_s, V_s,\n",
    "                 combustion=True, granular=True,\n",
    "                 stratified_or_slug=False)"
   ]
  },
  {
   "cell_type": "markdown",
   "metadata": {},
   "source": [
    "## Example - water spray"
   ]
  },
  {
   "cell_type": "code",
   "execution_count": 5,
   "metadata": {},
   "outputs": [
    {
     "name": "stdout",
     "output_type": "stream",
     "text": [
      "\n",
      "**** TIME RESPONSES ****\n",
      "Particle response time ............. 0.000307 s\n",
      "System response time ............... 0.100000 s\n",
      "\n",
      "**** BASE REPORT ****\n",
      "Material density ratio ............. 833.333333\n",
      "Particulate loading factor ......... 0.083342\n",
      "Characteristic particle distance ... 17.364657\n",
      "Stokes number ...................... 0.003069\n",
      "\n",
      "**** SUGGESTED APPROACH ****\n",
      "No conclusion based on low Stokes number 0.003069\n",
      "Disregarding other factors, probably use mixture model\n",
      "2-way coupling: intermediate loading detected = 0.083342\n",
      "Possible models are DPM or Eulerian model\n"
     ]
    }
   ],
   "source": [
    "rho_d = 1000.0\n",
    "rho_c = 1.2\n",
    "alpha_d = 0.0001\n",
    "diam = 10e-06\n",
    "mu_c = 1.81e-05\n",
    "L_s = 1.0\n",
    "V_s = 10.0\n",
    "\n",
    "multiphase_model(rho_c, rho_d, alpha_d, diam, mu_c, L_s, V_s,\n",
    "                 combustion=False, granular=False,\n",
    "                 stratified_or_slug=False)"
   ]
  },
  {
   "cell_type": "markdown",
   "metadata": {},
   "source": [
    "## Example - water and oil"
   ]
  },
  {
   "cell_type": "code",
   "execution_count": 6,
   "metadata": {},
   "outputs": [
    {
     "name": "stdout",
     "output_type": "stream",
     "text": [
      "\n",
      "**** TIME RESPONSES ****\n",
      "Particle response time ............. 4.444444 s\n",
      "System response time ............... 2.000000 s\n",
      "\n",
      "**** BASE REPORT ****\n",
      "Material density ratio ............. 0.800000\n",
      "Particulate loading factor ......... 0.088889\n",
      "Characteristic particle distance ... 1.736466\n",
      "Stokes number ...................... 2.222222\n",
      "\n",
      "**** SUGGESTED APPROACH ****\n",
      "Particle flow is independent of fluid with Stokes 2.222222\n",
      "Adapted models in this case are DPM or Eulerian model\n",
      "Stratified/slug flow must be treated with VOF\n"
     ]
    }
   ],
   "source": [
    "rho_d = 800.0\n",
    "rho_c = 1000.0\n",
    "alpha_d = 0.1\n",
    "diam = 0.01\n",
    "mu_c = 0.001\n",
    "L_s = 1.0\n",
    "V_s = 0.5\n",
    "\n",
    "multiphase_model(rho_c, rho_d, alpha_d, diam, mu_c, L_s, V_s,\n",
    "                 combustion=False, granular=False,\n",
    "                 stratified_or_slug=True)"
   ]
  }
 ],
 "metadata": {
  "kernelspec": {
   "display_name": "Python 3.9.9 64-bit",
   "language": "python",
   "name": "python3"
  },
  "language_info": {
   "codemirror_mode": {
    "name": "ipython",
    "version": 3
   },
   "file_extension": ".py",
   "mimetype": "text/x-python",
   "name": "python",
   "nbconvert_exporter": "python",
   "pygments_lexer": "ipython3",
   "version": "3.9.9"
  },
  "orig_nbformat": 4,
  "vscode": {
   "interpreter": {
    "hash": "11938c6bc6919ae2720b4d5011047913343b08a43b18698fd82dedb0d4417594"
   }
  }
 },
 "nbformat": 4,
 "nbformat_minor": 2
}
